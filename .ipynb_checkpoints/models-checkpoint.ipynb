{
 "cells": [
  {
   "cell_type": "markdown",
   "id": "5007a9be",
   "metadata": {},
   "source": [
    "# 0.0 Imports"
   ]
  },
  {
   "cell_type": "code",
   "execution_count": 89,
   "id": "80544473",
   "metadata": {
    "ExecuteTime": {
     "end_time": "2021-07-01T19:42:39.197636Z",
     "start_time": "2021-07-01T19:42:39.188636Z"
    }
   },
   "outputs": [],
   "source": [
    "# Data Manipulation\n",
    "import numpy as np\n",
    "import pandas as pd\n",
    "\n",
    "# Data Visualization\n",
    "import seaborn as sns\n",
    "import matplotlib.pyplot as plt\n",
    "\n",
    "# ignore warnings from the kernel\n",
    "import warnings\n",
    "warnings.filterwarnings( 'ignore' )\n",
    "\n",
    "\n",
    "# Feature Selection\n",
    "from boruta import BorutaPy\n",
    "from sklearn.ensemble import RandomForestRegressor, RandomForestClassifier\n",
    "\n",
    "\n",
    "# Machine Learning Moddeling\n",
    "from sklearn.linear_model import LogisticRegression, Lasso\n",
    "from sklearn.model_selection import cross_val_predict, cross_val_score\n",
    "from sklearn.svm import SVC\n",
    "\n",
    "# ML Metrics\n",
    "from sklearn.metrics import accuracy_score, precision_score, recall_score, f1_score, cohen_kappa_score, roc_auc_score, plot_confusion_matrix, roc_curve\n",
    "\n"
   ]
  },
  {
   "cell_type": "markdown",
   "id": "a722d523",
   "metadata": {
    "heading_collapsed": true
   },
   "source": [
    "# 1.0 Load Data\n"
   ]
  },
  {
   "cell_type": "code",
   "execution_count": 6,
   "id": "74e734b0",
   "metadata": {
    "ExecuteTime": {
     "end_time": "2021-07-01T15:20:05.802103Z",
     "start_time": "2021-07-01T15:20:05.305067Z"
    },
    "hidden": true
   },
   "outputs": [],
   "source": [
    "dscombined = pd.read_csv( 'C:/Users/PICHAU/Desktop/AIbox-Feedback/AIBOX-Mlfeedback/datasets/combined.csv' )\n",
    "dsLIWC = pd.read_csv( 'C:/Users/PICHAU/Desktop/AIbox-Feedback/AIBOX-Mlfeedback/datasets/combinedLIWC.csv' )\n",
    "dsCohmetrix = pd.read_csv( 'C:/Users/PICHAU/Desktop/AIbox-Feedback/AIBOX-Mlfeedback/datasets/combined_CohMetrix.csv' )\n"
   ]
  },
  {
   "cell_type": "markdown",
   "id": "f503bb02",
   "metadata": {
    "heading_collapsed": true
   },
   "source": [
    "# 2.0 Merging data"
   ]
  },
  {
   "cell_type": "code",
   "execution_count": 7,
   "id": "0b9adf87",
   "metadata": {
    "ExecuteTime": {
     "end_time": "2021-07-01T15:20:05.864105Z",
     "start_time": "2021-07-01T15:20:05.804101Z"
    },
    "hidden": true
   },
   "outputs": [],
   "source": [
    "dsCohmetrix = dsCohmetrix.rename( columns={ 'ID':'id' } )"
   ]
  },
  {
   "cell_type": "code",
   "execution_count": 8,
   "id": "aad8cad1",
   "metadata": {
    "ExecuteTime": {
     "end_time": "2021-07-01T15:20:06.136128Z",
     "start_time": "2021-07-01T15:20:05.867107Z"
    },
    "hidden": true
   },
   "outputs": [],
   "source": [
    "mergedData = pd.merge(dsCohmetrix, dsLIWC, how='left', on='id')\n",
    "mergedData = pd.merge(mergedData, dscombined, how='left', on='id')\n",
    "# df1.merge(df2, how='inner', on='a')"
   ]
  },
  {
   "cell_type": "code",
   "execution_count": 9,
   "id": "bee26cc9",
   "metadata": {
    "ExecuteTime": {
     "end_time": "2021-07-01T15:20:06.358141Z",
     "start_time": "2021-07-01T15:20:06.139126Z"
    },
    "hidden": true
   },
   "outputs": [
    {
     "data": {
      "text/html": [
       "<div>\n",
       "<style scoped>\n",
       "    .dataframe tbody tr th:only-of-type {\n",
       "        vertical-align: middle;\n",
       "    }\n",
       "\n",
       "    .dataframe tbody tr th {\n",
       "        vertical-align: top;\n",
       "    }\n",
       "\n",
       "    .dataframe thead th {\n",
       "        text-align: right;\n",
       "    }\n",
       "</style>\n",
       "<table border=\"1\" class=\"dataframe\">\n",
       "  <thead>\n",
       "    <tr style=\"text-align: right;\">\n",
       "      <th></th>\n",
       "      <th>id</th>\n",
       "      <th>cm.DESPC</th>\n",
       "      <th>cm.DESSC</th>\n",
       "      <th>cm.DESWC</th>\n",
       "      <th>cm.DESPL</th>\n",
       "      <th>cm.DESPLd</th>\n",
       "      <th>cm.DESSL</th>\n",
       "      <th>cm.DESSLd</th>\n",
       "      <th>cm.DESWLsy</th>\n",
       "      <th>cm.DESWLsyd</th>\n",
       "      <th>...</th>\n",
       "      <th>liwc.leisure</th>\n",
       "      <th>liwc.home</th>\n",
       "      <th>liwc.money</th>\n",
       "      <th>liwc.relig</th>\n",
       "      <th>liwc.death</th>\n",
       "      <th>liwc.assent</th>\n",
       "      <th>liwc.nonfl</th>\n",
       "      <th>liwc.filler</th>\n",
       "      <th>feedback</th>\n",
       "      <th>classe</th>\n",
       "    </tr>\n",
       "  </thead>\n",
       "  <tbody>\n",
       "    <tr>\n",
       "      <th>0</th>\n",
       "      <td>23</td>\n",
       "      <td>1</td>\n",
       "      <td>1</td>\n",
       "      <td>18</td>\n",
       "      <td>1.0</td>\n",
       "      <td>0.0</td>\n",
       "      <td>17.000000</td>\n",
       "      <td>0.000000</td>\n",
       "      <td>1.888889</td>\n",
       "      <td>0.900254</td>\n",
       "      <td>...</td>\n",
       "      <td>1</td>\n",
       "      <td>0</td>\n",
       "      <td>0</td>\n",
       "      <td>0</td>\n",
       "      <td>0</td>\n",
       "      <td>0</td>\n",
       "      <td>0</td>\n",
       "      <td>0</td>\n",
       "      <td>Ler outros textos sobre o assunto para lher da...</td>\n",
       "      <td>0</td>\n",
       "    </tr>\n",
       "    <tr>\n",
       "      <th>1</th>\n",
       "      <td>24</td>\n",
       "      <td>1</td>\n",
       "      <td>2</td>\n",
       "      <td>24</td>\n",
       "      <td>2.0</td>\n",
       "      <td>0.0</td>\n",
       "      <td>10.500000</td>\n",
       "      <td>0.500000</td>\n",
       "      <td>1.916667</td>\n",
       "      <td>1.100066</td>\n",
       "      <td>...</td>\n",
       "      <td>1</td>\n",
       "      <td>0</td>\n",
       "      <td>1</td>\n",
       "      <td>0</td>\n",
       "      <td>0</td>\n",
       "      <td>0</td>\n",
       "      <td>0</td>\n",
       "      <td>0</td>\n",
       "      <td>Procure ler mais; para escrever mais acerca do...</td>\n",
       "      <td>0</td>\n",
       "    </tr>\n",
       "    <tr>\n",
       "      <th>2</th>\n",
       "      <td>35</td>\n",
       "      <td>1</td>\n",
       "      <td>2</td>\n",
       "      <td>31</td>\n",
       "      <td>2.0</td>\n",
       "      <td>0.0</td>\n",
       "      <td>12.500000</td>\n",
       "      <td>0.500000</td>\n",
       "      <td>1.741935</td>\n",
       "      <td>0.964978</td>\n",
       "      <td>...</td>\n",
       "      <td>2</td>\n",
       "      <td>0</td>\n",
       "      <td>0</td>\n",
       "      <td>0</td>\n",
       "      <td>0</td>\n",
       "      <td>0</td>\n",
       "      <td>0</td>\n",
       "      <td>0</td>\n",
       "      <td>Texto bom; precisa apenas ler mais um pouco; p...</td>\n",
       "      <td>0</td>\n",
       "    </tr>\n",
       "    <tr>\n",
       "      <th>3</th>\n",
       "      <td>37</td>\n",
       "      <td>1</td>\n",
       "      <td>1</td>\n",
       "      <td>7</td>\n",
       "      <td>1.0</td>\n",
       "      <td>0.0</td>\n",
       "      <td>6.000000</td>\n",
       "      <td>0.000000</td>\n",
       "      <td>1.857143</td>\n",
       "      <td>1.069045</td>\n",
       "      <td>...</td>\n",
       "      <td>0</td>\n",
       "      <td>0</td>\n",
       "      <td>0</td>\n",
       "      <td>0</td>\n",
       "      <td>0</td>\n",
       "      <td>0</td>\n",
       "      <td>0</td>\n",
       "      <td>0</td>\n",
       "      <td>Ter cuidado com copias da internet.</td>\n",
       "      <td>0</td>\n",
       "    </tr>\n",
       "    <tr>\n",
       "      <th>4</th>\n",
       "      <td>68</td>\n",
       "      <td>1</td>\n",
       "      <td>4</td>\n",
       "      <td>32</td>\n",
       "      <td>4.0</td>\n",
       "      <td>0.0</td>\n",
       "      <td>6.500000</td>\n",
       "      <td>3.640055</td>\n",
       "      <td>1.937500</td>\n",
       "      <td>1.268413</td>\n",
       "      <td>...</td>\n",
       "      <td>0</td>\n",
       "      <td>0</td>\n",
       "      <td>1</td>\n",
       "      <td>0</td>\n",
       "      <td>0</td>\n",
       "      <td>2</td>\n",
       "      <td>0</td>\n",
       "      <td>0</td>\n",
       "      <td>Carssimo; o trabalho precisa de uma sistematiz...</td>\n",
       "      <td>1</td>\n",
       "    </tr>\n",
       "    <tr>\n",
       "      <th>...</th>\n",
       "      <td>...</td>\n",
       "      <td>...</td>\n",
       "      <td>...</td>\n",
       "      <td>...</td>\n",
       "      <td>...</td>\n",
       "      <td>...</td>\n",
       "      <td>...</td>\n",
       "      <td>...</td>\n",
       "      <td>...</td>\n",
       "      <td>...</td>\n",
       "      <td>...</td>\n",
       "      <td>...</td>\n",
       "      <td>...</td>\n",
       "      <td>...</td>\n",
       "      <td>...</td>\n",
       "      <td>...</td>\n",
       "      <td>...</td>\n",
       "      <td>...</td>\n",
       "      <td>...</td>\n",
       "      <td>...</td>\n",
       "      <td>...</td>\n",
       "    </tr>\n",
       "    <tr>\n",
       "      <th>995</th>\n",
       "      <td>13809</td>\n",
       "      <td>1</td>\n",
       "      <td>2</td>\n",
       "      <td>28</td>\n",
       "      <td>2.0</td>\n",
       "      <td>0.0</td>\n",
       "      <td>12.000000</td>\n",
       "      <td>11.000000</td>\n",
       "      <td>2.250000</td>\n",
       "      <td>1.404358</td>\n",
       "      <td>...</td>\n",
       "      <td>0</td>\n",
       "      <td>0</td>\n",
       "      <td>1</td>\n",
       "      <td>0</td>\n",
       "      <td>0</td>\n",
       "      <td>0</td>\n",
       "      <td>1</td>\n",
       "      <td>0</td>\n",
       "      <td>Rosivalda; timo texto; suas reflexes comparati...</td>\n",
       "      <td>1</td>\n",
       "    </tr>\n",
       "    <tr>\n",
       "      <th>996</th>\n",
       "      <td>13810</td>\n",
       "      <td>1</td>\n",
       "      <td>2</td>\n",
       "      <td>66</td>\n",
       "      <td>2.0</td>\n",
       "      <td>0.0</td>\n",
       "      <td>29.500000</td>\n",
       "      <td>27.500000</td>\n",
       "      <td>1.969697</td>\n",
       "      <td>1.149845</td>\n",
       "      <td>...</td>\n",
       "      <td>2</td>\n",
       "      <td>0</td>\n",
       "      <td>1</td>\n",
       "      <td>0</td>\n",
       "      <td>0</td>\n",
       "      <td>1</td>\n",
       "      <td>0</td>\n",
       "      <td>0</td>\n",
       "      <td>Ruth; bom texto sobre o filme e sobre as suas ...</td>\n",
       "      <td>1</td>\n",
       "    </tr>\n",
       "    <tr>\n",
       "      <th>997</th>\n",
       "      <td>13811</td>\n",
       "      <td>1</td>\n",
       "      <td>2</td>\n",
       "      <td>37</td>\n",
       "      <td>2.0</td>\n",
       "      <td>0.0</td>\n",
       "      <td>16.500000</td>\n",
       "      <td>15.500000</td>\n",
       "      <td>2.027027</td>\n",
       "      <td>1.213042</td>\n",
       "      <td>...</td>\n",
       "      <td>2</td>\n",
       "      <td>2</td>\n",
       "      <td>0</td>\n",
       "      <td>0</td>\n",
       "      <td>0</td>\n",
       "      <td>1</td>\n",
       "      <td>2</td>\n",
       "      <td>0</td>\n",
       "      <td>Silmara; excelente texto e leitura do filme co...</td>\n",
       "      <td>1</td>\n",
       "    </tr>\n",
       "    <tr>\n",
       "      <th>998</th>\n",
       "      <td>13813</td>\n",
       "      <td>1</td>\n",
       "      <td>3</td>\n",
       "      <td>28</td>\n",
       "      <td>3.0</td>\n",
       "      <td>0.0</td>\n",
       "      <td>7.666667</td>\n",
       "      <td>10.143416</td>\n",
       "      <td>1.964286</td>\n",
       "      <td>1.170063</td>\n",
       "      <td>...</td>\n",
       "      <td>2</td>\n",
       "      <td>0</td>\n",
       "      <td>0</td>\n",
       "      <td>1</td>\n",
       "      <td>0</td>\n",
       "      <td>0</td>\n",
       "      <td>1</td>\n",
       "      <td>0</td>\n",
       "      <td>Sueli; boa leitura do filme e da realidade; su...</td>\n",
       "      <td>1</td>\n",
       "    </tr>\n",
       "    <tr>\n",
       "      <th>999</th>\n",
       "      <td>13814</td>\n",
       "      <td>1</td>\n",
       "      <td>3</td>\n",
       "      <td>28</td>\n",
       "      <td>3.0</td>\n",
       "      <td>0.0</td>\n",
       "      <td>7.666667</td>\n",
       "      <td>10.143416</td>\n",
       "      <td>2.000000</td>\n",
       "      <td>1.217161</td>\n",
       "      <td>...</td>\n",
       "      <td>2</td>\n",
       "      <td>0</td>\n",
       "      <td>0</td>\n",
       "      <td>1</td>\n",
       "      <td>0</td>\n",
       "      <td>0</td>\n",
       "      <td>1</td>\n",
       "      <td>0</td>\n",
       "      <td>Taciana; boa leitura do filme e da realidade; ...</td>\n",
       "      <td>1</td>\n",
       "    </tr>\n",
       "  </tbody>\n",
       "</table>\n",
       "<p>1000 rows × 161 columns</p>\n",
       "</div>"
      ],
      "text/plain": [
       "        id  cm.DESPC  cm.DESSC  cm.DESWC  cm.DESPL  cm.DESPLd   cm.DESSL  \\\n",
       "0       23         1         1        18       1.0        0.0  17.000000   \n",
       "1       24         1         2        24       2.0        0.0  10.500000   \n",
       "2       35         1         2        31       2.0        0.0  12.500000   \n",
       "3       37         1         1         7       1.0        0.0   6.000000   \n",
       "4       68         1         4        32       4.0        0.0   6.500000   \n",
       "..     ...       ...       ...       ...       ...        ...        ...   \n",
       "995  13809         1         2        28       2.0        0.0  12.000000   \n",
       "996  13810         1         2        66       2.0        0.0  29.500000   \n",
       "997  13811         1         2        37       2.0        0.0  16.500000   \n",
       "998  13813         1         3        28       3.0        0.0   7.666667   \n",
       "999  13814         1         3        28       3.0        0.0   7.666667   \n",
       "\n",
       "     cm.DESSLd  cm.DESWLsy  cm.DESWLsyd  ...  liwc.leisure  liwc.home  \\\n",
       "0     0.000000    1.888889     0.900254  ...             1          0   \n",
       "1     0.500000    1.916667     1.100066  ...             1          0   \n",
       "2     0.500000    1.741935     0.964978  ...             2          0   \n",
       "3     0.000000    1.857143     1.069045  ...             0          0   \n",
       "4     3.640055    1.937500     1.268413  ...             0          0   \n",
       "..         ...         ...          ...  ...           ...        ...   \n",
       "995  11.000000    2.250000     1.404358  ...             0          0   \n",
       "996  27.500000    1.969697     1.149845  ...             2          0   \n",
       "997  15.500000    2.027027     1.213042  ...             2          2   \n",
       "998  10.143416    1.964286     1.170063  ...             2          0   \n",
       "999  10.143416    2.000000     1.217161  ...             2          0   \n",
       "\n",
       "     liwc.money  liwc.relig  liwc.death  liwc.assent  liwc.nonfl  liwc.filler  \\\n",
       "0             0           0           0            0           0            0   \n",
       "1             1           0           0            0           0            0   \n",
       "2             0           0           0            0           0            0   \n",
       "3             0           0           0            0           0            0   \n",
       "4             1           0           0            2           0            0   \n",
       "..          ...         ...         ...          ...         ...          ...   \n",
       "995           1           0           0            0           1            0   \n",
       "996           1           0           0            1           0            0   \n",
       "997           0           0           0            1           2            0   \n",
       "998           0           1           0            0           1            0   \n",
       "999           0           1           0            0           1            0   \n",
       "\n",
       "                                              feedback  classe  \n",
       "0    Ler outros textos sobre o assunto para lher da...       0  \n",
       "1    Procure ler mais; para escrever mais acerca do...       0  \n",
       "2    Texto bom; precisa apenas ler mais um pouco; p...       0  \n",
       "3                  Ter cuidado com copias da internet.       0  \n",
       "4    Carssimo; o trabalho precisa de uma sistematiz...       1  \n",
       "..                                                 ...     ...  \n",
       "995  Rosivalda; timo texto; suas reflexes comparati...       1  \n",
       "996  Ruth; bom texto sobre o filme e sobre as suas ...       1  \n",
       "997  Silmara; excelente texto e leitura do filme co...       1  \n",
       "998  Sueli; boa leitura do filme e da realidade; su...       1  \n",
       "999  Taciana; boa leitura do filme e da realidade; ...       1  \n",
       "\n",
       "[1000 rows x 161 columns]"
      ]
     },
     "execution_count": 9,
     "metadata": {},
     "output_type": "execute_result"
    }
   ],
   "source": [
    "mergedData"
   ]
  },
  {
   "cell_type": "markdown",
   "id": "2f498b1b",
   "metadata": {
    "heading_collapsed": true,
    "hidden": true
   },
   "source": [
    "## 2.1 Check Nan"
   ]
  },
  {
   "cell_type": "code",
   "execution_count": 10,
   "id": "a04396b4",
   "metadata": {
    "ExecuteTime": {
     "end_time": "2021-07-01T15:20:06.389143Z",
     "start_time": "2021-07-01T15:20:06.360143Z"
    },
    "hidden": true
   },
   "outputs": [
    {
     "data": {
      "text/plain": [
       "id                0\n",
       "liwc.ipron        0\n",
       "liwc.article      0\n",
       "liwc.verb         0\n",
       "liwc.auxverb      0\n",
       "               ... \n",
       "cm.RDL2         165\n",
       "cm.CRFCWO1      165\n",
       "cm.CRFCWO1d     165\n",
       "cm.LSASSpd      362\n",
       "cm.LSASSp       362\n",
       "Length: 161, dtype: int64"
      ]
     },
     "execution_count": 10,
     "metadata": {},
     "output_type": "execute_result"
    }
   ],
   "source": [
    "mergedData.isna().sum().sort_values()\n"
   ]
  },
  {
   "cell_type": "markdown",
   "id": "3c864ecf",
   "metadata": {
    "heading_collapsed": true,
    "hidden": true
   },
   "source": [
    "## 2.2 Fillout NAn"
   ]
  },
  {
   "cell_type": "code",
   "execution_count": 11,
   "id": "77abae89",
   "metadata": {
    "ExecuteTime": {
     "end_time": "2021-07-01T15:20:06.658164Z",
     "start_time": "2021-07-01T15:20:06.391145Z"
    },
    "hidden": true
   },
   "outputs": [],
   "source": [
    "mergedData = mergedData.dropna(axis=1, how='any', inplace=False) # axis=1 => columns"
   ]
  },
  {
   "cell_type": "code",
   "execution_count": 12,
   "id": "dba3b3c3",
   "metadata": {
    "ExecuteTime": {
     "end_time": "2021-07-01T15:20:06.674166Z",
     "start_time": "2021-07-01T15:20:06.660164Z"
    },
    "hidden": true
   },
   "outputs": [
    {
     "data": {
      "text/plain": [
       "id              0\n",
       "liwc.article    0\n",
       "liwc.verb       0\n",
       "liwc.auxverb    0\n",
       "liwc.past       0\n",
       "               ..\n",
       "cm.SMCAUSr      0\n",
       "cm.SMCAUSlsa    0\n",
       "cm.SMCAUSwn     0\n",
       "cm.CNCComp      0\n",
       "classe          0\n",
       "Length: 155, dtype: int64"
      ]
     },
     "execution_count": 12,
     "metadata": {},
     "output_type": "execute_result"
    }
   ],
   "source": [
    "mergedData.isna().sum().sort_values()"
   ]
  },
  {
   "cell_type": "markdown",
   "id": "8e3bca23",
   "metadata": {
    "heading_collapsed": true
   },
   "source": [
    "# 3.0 Data Preparation\n",
    "\n"
   ]
  },
  {
   "cell_type": "markdown",
   "id": "2079ee4b",
   "metadata": {
    "heading_collapsed": true,
    "hidden": true
   },
   "source": [
    "## 3.1 Normalization"
   ]
  },
  {
   "cell_type": "code",
   "execution_count": 13,
   "id": "f6e110ae",
   "metadata": {
    "ExecuteTime": {
     "end_time": "2021-07-01T15:20:06.818177Z",
     "start_time": "2021-07-01T15:20:06.679167Z"
    },
    "hidden": true
   },
   "outputs": [],
   "source": [
    "# no analyzed variable looks like a normal distribution"
   ]
  },
  {
   "cell_type": "markdown",
   "id": "f144a1d0",
   "metadata": {
    "heading_collapsed": true,
    "hidden": true
   },
   "source": [
    "## 3.2 Rescaling"
   ]
  },
  {
   "cell_type": "code",
   "execution_count": 14,
   "id": "9797d5a9",
   "metadata": {
    "ExecuteTime": {
     "end_time": "2021-07-01T15:20:06.944184Z",
     "start_time": "2021-07-01T15:20:06.821175Z"
    },
    "hidden": true
   },
   "outputs": [
    {
     "data": {
      "text/plain": [
       "id               int64\n",
       "cm.DESPC         int64\n",
       "cm.DESSC         int64\n",
       "cm.DESWC         int64\n",
       "cm.DESPL       float64\n",
       "                ...   \n",
       "liwc.death       int64\n",
       "liwc.assent      int64\n",
       "liwc.nonfl       int64\n",
       "liwc.filler      int64\n",
       "classe           int64\n",
       "Length: 155, dtype: object"
      ]
     },
     "execution_count": 14,
     "metadata": {},
     "output_type": "execute_result"
    }
   ],
   "source": [
    "mergedData.dtypes"
   ]
  },
  {
   "cell_type": "code",
   "execution_count": 15,
   "id": "7c4c3f56",
   "metadata": {
    "ExecuteTime": {
     "end_time": "2021-07-01T15:20:07.072194Z",
     "start_time": "2021-07-01T15:20:06.946185Z"
    },
    "hidden": true
   },
   "outputs": [
    {
     "name": "stdout",
     "output_type": "stream",
     "text": [
      "Empty DataFrame\n",
      "Columns: []\n",
      "Index: [0, 1, 2, 3, 4, 5, 6, 7, 8, 9, 10, 11, 12, 13, 14, 15, 16, 17, 18, 19, 20, 21, 22, 23, 24, 25, 26, 27, 28, 29, 30, 31, 32, 33, 34, 35, 36, 37, 38, 39, 40, 41, 42, 43, 44, 45, 46, 47, 48, 49, 50, 51, 52, 53, 54, 55, 56, 57, 58, 59, 60, 61, 62, 63, 64, 65, 66, 67, 68, 69, 70, 71, 72, 73, 74, 75, 76, 77, 78, 79, 80, 81, 82, 83, 84, 85, 86, 87, 88, 89, 90, 91, 92, 93, 94, 95, 96, 97, 98, 99, ...]\n",
      "\n",
      "[1000 rows x 0 columns]\n"
     ]
    }
   ],
   "source": [
    "visu = mergedData.select_dtypes( exclude=['int64', 'float64','int32','UInt32'] )\n",
    "print(visu)"
   ]
  },
  {
   "cell_type": "code",
   "execution_count": 16,
   "id": "559624bf",
   "metadata": {
    "ExecuteTime": {
     "end_time": "2021-07-01T15:20:07.200203Z",
     "start_time": "2021-07-01T15:20:07.074194Z"
    },
    "hidden": true
   },
   "outputs": [],
   "source": [
    "# thus, due to feedback be a no-analyzed variable, merged dataset doesn't need rescaling\n",
    "# so, the other variables doesnt need a changes, for now, because the outliers problem will be solved on cohmetrix software  "
   ]
  },
  {
   "cell_type": "markdown",
   "id": "c2ccf5d5",
   "metadata": {
    "heading_collapsed": true,
    "hidden": true
   },
   "source": [
    "## 3.3 Transformation\n"
   ]
  },
  {
   "cell_type": "code",
   "execution_count": 17,
   "id": "973f5d41",
   "metadata": {
    "ExecuteTime": {
     "end_time": "2021-07-01T15:20:07.342213Z",
     "start_time": "2021-07-01T15:20:07.203204Z"
    },
    "hidden": true
   },
   "outputs": [],
   "source": [
    "# once time again, transformation is not necessary, due to mergedData only have feedback that is a categorical variable and the response variable is only 0 and 1"
   ]
  },
  {
   "cell_type": "markdown",
   "id": "55fc51cd",
   "metadata": {
    "heading_collapsed": true
   },
   "source": [
    "# 4.0 EDA - Correlation of numAtttributes"
   ]
  },
  {
   "cell_type": "code",
   "execution_count": 18,
   "id": "260f9496",
   "metadata": {
    "ExecuteTime": {
     "end_time": "2021-07-01T15:20:07.454222Z",
     "start_time": "2021-07-01T15:20:07.344215Z"
    },
    "hidden": true
   },
   "outputs": [],
   "source": [
    "num_attributes = mergedData.select_dtypes( include=['int64', 'float64'] )"
   ]
  },
  {
   "cell_type": "markdown",
   "id": "aa2b6e28",
   "metadata": {},
   "source": [
    "# 5.0 Feature Selection\n"
   ]
  },
  {
   "cell_type": "code",
   "execution_count": 19,
   "id": "57e62766",
   "metadata": {
    "ExecuteTime": {
     "end_time": "2021-07-01T15:21:27.312089Z",
     "start_time": "2021-07-01T15:20:07.456222Z"
    }
   },
   "outputs": [
    {
     "name": "stdout",
     "output_type": "stream",
     "text": [
      "Error in callback <function flush_figures at 0x000001D626E5E820> (for post_execute):\n"
     ]
    },
    {
     "ename": "KeyboardInterrupt",
     "evalue": "",
     "output_type": "error",
     "traceback": [
      "\u001b[1;31m---------------------------------------------------------------------------\u001b[0m",
      "\u001b[1;31mKeyboardInterrupt\u001b[0m                         Traceback (most recent call last)",
      "\u001b[1;32m~\\anaconda3\\envs\\DsemProd\\lib\\site-packages\\ipykernel\\pylab\\backend_inline.py\u001b[0m in \u001b[0;36mflush_figures\u001b[1;34m()\u001b[0m\n\u001b[0;32m    118\u001b[0m         \u001b[1;31m# ignore the tracking, just draw and close all figures\u001b[0m\u001b[1;33m\u001b[0m\u001b[1;33m\u001b[0m\u001b[1;33m\u001b[0m\u001b[0m\n\u001b[0;32m    119\u001b[0m         \u001b[1;32mtry\u001b[0m\u001b[1;33m:\u001b[0m\u001b[1;33m\u001b[0m\u001b[1;33m\u001b[0m\u001b[0m\n\u001b[1;32m--> 120\u001b[1;33m             \u001b[1;32mreturn\u001b[0m \u001b[0mshow\u001b[0m\u001b[1;33m(\u001b[0m\u001b[1;32mTrue\u001b[0m\u001b[1;33m)\u001b[0m\u001b[1;33m\u001b[0m\u001b[1;33m\u001b[0m\u001b[0m\n\u001b[0m\u001b[0;32m    121\u001b[0m         \u001b[1;32mexcept\u001b[0m \u001b[0mException\u001b[0m \u001b[1;32mas\u001b[0m \u001b[0me\u001b[0m\u001b[1;33m:\u001b[0m\u001b[1;33m\u001b[0m\u001b[1;33m\u001b[0m\u001b[0m\n\u001b[0;32m    122\u001b[0m             \u001b[1;31m# safely show traceback if in IPython, else raise\u001b[0m\u001b[1;33m\u001b[0m\u001b[1;33m\u001b[0m\u001b[1;33m\u001b[0m\u001b[0m\n",
      "\u001b[1;32m~\\anaconda3\\envs\\DsemProd\\lib\\site-packages\\ipykernel\\pylab\\backend_inline.py\u001b[0m in \u001b[0;36mshow\u001b[1;34m(close, block)\u001b[0m\n\u001b[0;32m     38\u001b[0m     \u001b[1;32mtry\u001b[0m\u001b[1;33m:\u001b[0m\u001b[1;33m\u001b[0m\u001b[1;33m\u001b[0m\u001b[0m\n\u001b[0;32m     39\u001b[0m         \u001b[1;32mfor\u001b[0m \u001b[0mfigure_manager\u001b[0m \u001b[1;32min\u001b[0m \u001b[0mGcf\u001b[0m\u001b[1;33m.\u001b[0m\u001b[0mget_all_fig_managers\u001b[0m\u001b[1;33m(\u001b[0m\u001b[1;33m)\u001b[0m\u001b[1;33m:\u001b[0m\u001b[1;33m\u001b[0m\u001b[1;33m\u001b[0m\u001b[0m\n\u001b[1;32m---> 40\u001b[1;33m             display(\n\u001b[0m\u001b[0;32m     41\u001b[0m                 \u001b[0mfigure_manager\u001b[0m\u001b[1;33m.\u001b[0m\u001b[0mcanvas\u001b[0m\u001b[1;33m.\u001b[0m\u001b[0mfigure\u001b[0m\u001b[1;33m,\u001b[0m\u001b[1;33m\u001b[0m\u001b[1;33m\u001b[0m\u001b[0m\n\u001b[0;32m     42\u001b[0m                 \u001b[0mmetadata\u001b[0m\u001b[1;33m=\u001b[0m\u001b[0m_fetch_figure_metadata\u001b[0m\u001b[1;33m(\u001b[0m\u001b[0mfigure_manager\u001b[0m\u001b[1;33m.\u001b[0m\u001b[0mcanvas\u001b[0m\u001b[1;33m.\u001b[0m\u001b[0mfigure\u001b[0m\u001b[1;33m)\u001b[0m\u001b[1;33m\u001b[0m\u001b[1;33m\u001b[0m\u001b[0m\n",
      "\u001b[1;32m~\\anaconda3\\envs\\DsemProd\\lib\\site-packages\\IPython\\core\\display.py\u001b[0m in \u001b[0;36mdisplay\u001b[1;34m(include, exclude, metadata, transient, display_id, *objs, **kwargs)\u001b[0m\n\u001b[0;32m    318\u001b[0m             \u001b[0mpublish_display_data\u001b[0m\u001b[1;33m(\u001b[0m\u001b[0mdata\u001b[0m\u001b[1;33m=\u001b[0m\u001b[0mobj\u001b[0m\u001b[1;33m,\u001b[0m \u001b[0mmetadata\u001b[0m\u001b[1;33m=\u001b[0m\u001b[0mmetadata\u001b[0m\u001b[1;33m,\u001b[0m \u001b[1;33m**\u001b[0m\u001b[0mkwargs\u001b[0m\u001b[1;33m)\u001b[0m\u001b[1;33m\u001b[0m\u001b[1;33m\u001b[0m\u001b[0m\n\u001b[0;32m    319\u001b[0m         \u001b[1;32melse\u001b[0m\u001b[1;33m:\u001b[0m\u001b[1;33m\u001b[0m\u001b[1;33m\u001b[0m\u001b[0m\n\u001b[1;32m--> 320\u001b[1;33m             \u001b[0mformat_dict\u001b[0m\u001b[1;33m,\u001b[0m \u001b[0mmd_dict\u001b[0m \u001b[1;33m=\u001b[0m \u001b[0mformat\u001b[0m\u001b[1;33m(\u001b[0m\u001b[0mobj\u001b[0m\u001b[1;33m,\u001b[0m \u001b[0minclude\u001b[0m\u001b[1;33m=\u001b[0m\u001b[0minclude\u001b[0m\u001b[1;33m,\u001b[0m \u001b[0mexclude\u001b[0m\u001b[1;33m=\u001b[0m\u001b[0mexclude\u001b[0m\u001b[1;33m)\u001b[0m\u001b[1;33m\u001b[0m\u001b[1;33m\u001b[0m\u001b[0m\n\u001b[0m\u001b[0;32m    321\u001b[0m             \u001b[1;32mif\u001b[0m \u001b[1;32mnot\u001b[0m \u001b[0mformat_dict\u001b[0m\u001b[1;33m:\u001b[0m\u001b[1;33m\u001b[0m\u001b[1;33m\u001b[0m\u001b[0m\n\u001b[0;32m    322\u001b[0m                 \u001b[1;31m# nothing to display (e.g. _ipython_display_ took over)\u001b[0m\u001b[1;33m\u001b[0m\u001b[1;33m\u001b[0m\u001b[1;33m\u001b[0m\u001b[0m\n",
      "\u001b[1;32m~\\anaconda3\\envs\\DsemProd\\lib\\site-packages\\IPython\\core\\formatters.py\u001b[0m in \u001b[0;36mformat\u001b[1;34m(self, obj, include, exclude)\u001b[0m\n\u001b[0;32m    178\u001b[0m             \u001b[0mmd\u001b[0m \u001b[1;33m=\u001b[0m \u001b[1;32mNone\u001b[0m\u001b[1;33m\u001b[0m\u001b[1;33m\u001b[0m\u001b[0m\n\u001b[0;32m    179\u001b[0m             \u001b[1;32mtry\u001b[0m\u001b[1;33m:\u001b[0m\u001b[1;33m\u001b[0m\u001b[1;33m\u001b[0m\u001b[0m\n\u001b[1;32m--> 180\u001b[1;33m                 \u001b[0mdata\u001b[0m \u001b[1;33m=\u001b[0m \u001b[0mformatter\u001b[0m\u001b[1;33m(\u001b[0m\u001b[0mobj\u001b[0m\u001b[1;33m)\u001b[0m\u001b[1;33m\u001b[0m\u001b[1;33m\u001b[0m\u001b[0m\n\u001b[0m\u001b[0;32m    181\u001b[0m             \u001b[1;32mexcept\u001b[0m\u001b[1;33m:\u001b[0m\u001b[1;33m\u001b[0m\u001b[1;33m\u001b[0m\u001b[0m\n\u001b[0;32m    182\u001b[0m                 \u001b[1;31m# FIXME: log the exception\u001b[0m\u001b[1;33m\u001b[0m\u001b[1;33m\u001b[0m\u001b[1;33m\u001b[0m\u001b[0m\n",
      "\u001b[1;32m~\\anaconda3\\envs\\DsemProd\\lib\\site-packages\\decorator.py\u001b[0m in \u001b[0;36mfun\u001b[1;34m(*args, **kw)\u001b[0m\n\u001b[0;32m    230\u001b[0m             \u001b[1;32mif\u001b[0m \u001b[1;32mnot\u001b[0m \u001b[0mkwsyntax\u001b[0m\u001b[1;33m:\u001b[0m\u001b[1;33m\u001b[0m\u001b[1;33m\u001b[0m\u001b[0m\n\u001b[0;32m    231\u001b[0m                 \u001b[0margs\u001b[0m\u001b[1;33m,\u001b[0m \u001b[0mkw\u001b[0m \u001b[1;33m=\u001b[0m \u001b[0mfix\u001b[0m\u001b[1;33m(\u001b[0m\u001b[0margs\u001b[0m\u001b[1;33m,\u001b[0m \u001b[0mkw\u001b[0m\u001b[1;33m,\u001b[0m \u001b[0msig\u001b[0m\u001b[1;33m)\u001b[0m\u001b[1;33m\u001b[0m\u001b[1;33m\u001b[0m\u001b[0m\n\u001b[1;32m--> 232\u001b[1;33m             \u001b[1;32mreturn\u001b[0m \u001b[0mcaller\u001b[0m\u001b[1;33m(\u001b[0m\u001b[0mfunc\u001b[0m\u001b[1;33m,\u001b[0m \u001b[1;33m*\u001b[0m\u001b[1;33m(\u001b[0m\u001b[0mextras\u001b[0m \u001b[1;33m+\u001b[0m \u001b[0margs\u001b[0m\u001b[1;33m)\u001b[0m\u001b[1;33m,\u001b[0m \u001b[1;33m**\u001b[0m\u001b[0mkw\u001b[0m\u001b[1;33m)\u001b[0m\u001b[1;33m\u001b[0m\u001b[1;33m\u001b[0m\u001b[0m\n\u001b[0m\u001b[0;32m    233\u001b[0m     \u001b[0mfun\u001b[0m\u001b[1;33m.\u001b[0m\u001b[0m__name__\u001b[0m \u001b[1;33m=\u001b[0m \u001b[0mfunc\u001b[0m\u001b[1;33m.\u001b[0m\u001b[0m__name__\u001b[0m\u001b[1;33m\u001b[0m\u001b[1;33m\u001b[0m\u001b[0m\n\u001b[0;32m    234\u001b[0m     \u001b[0mfun\u001b[0m\u001b[1;33m.\u001b[0m\u001b[0m__doc__\u001b[0m \u001b[1;33m=\u001b[0m \u001b[0mfunc\u001b[0m\u001b[1;33m.\u001b[0m\u001b[0m__doc__\u001b[0m\u001b[1;33m\u001b[0m\u001b[1;33m\u001b[0m\u001b[0m\n",
      "\u001b[1;32m~\\anaconda3\\envs\\DsemProd\\lib\\site-packages\\IPython\\core\\formatters.py\u001b[0m in \u001b[0;36mcatch_format_error\u001b[1;34m(method, self, *args, **kwargs)\u001b[0m\n\u001b[0;32m    222\u001b[0m     \u001b[1;34m\"\"\"show traceback on failed format call\"\"\"\u001b[0m\u001b[1;33m\u001b[0m\u001b[1;33m\u001b[0m\u001b[0m\n\u001b[0;32m    223\u001b[0m     \u001b[1;32mtry\u001b[0m\u001b[1;33m:\u001b[0m\u001b[1;33m\u001b[0m\u001b[1;33m\u001b[0m\u001b[0m\n\u001b[1;32m--> 224\u001b[1;33m         \u001b[0mr\u001b[0m \u001b[1;33m=\u001b[0m \u001b[0mmethod\u001b[0m\u001b[1;33m(\u001b[0m\u001b[0mself\u001b[0m\u001b[1;33m,\u001b[0m \u001b[1;33m*\u001b[0m\u001b[0margs\u001b[0m\u001b[1;33m,\u001b[0m \u001b[1;33m**\u001b[0m\u001b[0mkwargs\u001b[0m\u001b[1;33m)\u001b[0m\u001b[1;33m\u001b[0m\u001b[1;33m\u001b[0m\u001b[0m\n\u001b[0m\u001b[0;32m    225\u001b[0m     \u001b[1;32mexcept\u001b[0m \u001b[0mNotImplementedError\u001b[0m\u001b[1;33m:\u001b[0m\u001b[1;33m\u001b[0m\u001b[1;33m\u001b[0m\u001b[0m\n\u001b[0;32m    226\u001b[0m         \u001b[1;31m# don't warn on NotImplementedErrors\u001b[0m\u001b[1;33m\u001b[0m\u001b[1;33m\u001b[0m\u001b[1;33m\u001b[0m\u001b[0m\n",
      "\u001b[1;32m~\\anaconda3\\envs\\DsemProd\\lib\\site-packages\\IPython\\core\\formatters.py\u001b[0m in \u001b[0;36m__call__\u001b[1;34m(self, obj)\u001b[0m\n\u001b[0;32m    339\u001b[0m                 \u001b[1;32mpass\u001b[0m\u001b[1;33m\u001b[0m\u001b[1;33m\u001b[0m\u001b[0m\n\u001b[0;32m    340\u001b[0m             \u001b[1;32melse\u001b[0m\u001b[1;33m:\u001b[0m\u001b[1;33m\u001b[0m\u001b[1;33m\u001b[0m\u001b[0m\n\u001b[1;32m--> 341\u001b[1;33m                 \u001b[1;32mreturn\u001b[0m \u001b[0mprinter\u001b[0m\u001b[1;33m(\u001b[0m\u001b[0mobj\u001b[0m\u001b[1;33m)\u001b[0m\u001b[1;33m\u001b[0m\u001b[1;33m\u001b[0m\u001b[0m\n\u001b[0m\u001b[0;32m    342\u001b[0m             \u001b[1;31m# Finally look for special method names\u001b[0m\u001b[1;33m\u001b[0m\u001b[1;33m\u001b[0m\u001b[1;33m\u001b[0m\u001b[0m\n\u001b[0;32m    343\u001b[0m             \u001b[0mmethod\u001b[0m \u001b[1;33m=\u001b[0m \u001b[0mget_real_method\u001b[0m\u001b[1;33m(\u001b[0m\u001b[0mobj\u001b[0m\u001b[1;33m,\u001b[0m \u001b[0mself\u001b[0m\u001b[1;33m.\u001b[0m\u001b[0mprint_method\u001b[0m\u001b[1;33m)\u001b[0m\u001b[1;33m\u001b[0m\u001b[1;33m\u001b[0m\u001b[0m\n",
      "\u001b[1;32m~\\anaconda3\\envs\\DsemProd\\lib\\site-packages\\IPython\\core\\pylabtools.py\u001b[0m in \u001b[0;36m<lambda>\u001b[1;34m(fig)\u001b[0m\n\u001b[0;32m    248\u001b[0m \u001b[1;33m\u001b[0m\u001b[0m\n\u001b[0;32m    249\u001b[0m     \u001b[1;32mif\u001b[0m \u001b[1;34m'png'\u001b[0m \u001b[1;32min\u001b[0m \u001b[0mformats\u001b[0m\u001b[1;33m:\u001b[0m\u001b[1;33m\u001b[0m\u001b[1;33m\u001b[0m\u001b[0m\n\u001b[1;32m--> 250\u001b[1;33m         \u001b[0mpng_formatter\u001b[0m\u001b[1;33m.\u001b[0m\u001b[0mfor_type\u001b[0m\u001b[1;33m(\u001b[0m\u001b[0mFigure\u001b[0m\u001b[1;33m,\u001b[0m \u001b[1;32mlambda\u001b[0m \u001b[0mfig\u001b[0m\u001b[1;33m:\u001b[0m \u001b[0mprint_figure\u001b[0m\u001b[1;33m(\u001b[0m\u001b[0mfig\u001b[0m\u001b[1;33m,\u001b[0m \u001b[1;34m'png'\u001b[0m\u001b[1;33m,\u001b[0m \u001b[1;33m**\u001b[0m\u001b[0mkwargs\u001b[0m\u001b[1;33m)\u001b[0m\u001b[1;33m)\u001b[0m\u001b[1;33m\u001b[0m\u001b[1;33m\u001b[0m\u001b[0m\n\u001b[0m\u001b[0;32m    251\u001b[0m     \u001b[1;32mif\u001b[0m \u001b[1;34m'retina'\u001b[0m \u001b[1;32min\u001b[0m \u001b[0mformats\u001b[0m \u001b[1;32mor\u001b[0m \u001b[1;34m'png2x'\u001b[0m \u001b[1;32min\u001b[0m \u001b[0mformats\u001b[0m\u001b[1;33m:\u001b[0m\u001b[1;33m\u001b[0m\u001b[1;33m\u001b[0m\u001b[0m\n\u001b[0;32m    252\u001b[0m         \u001b[0mpng_formatter\u001b[0m\u001b[1;33m.\u001b[0m\u001b[0mfor_type\u001b[0m\u001b[1;33m(\u001b[0m\u001b[0mFigure\u001b[0m\u001b[1;33m,\u001b[0m \u001b[1;32mlambda\u001b[0m \u001b[0mfig\u001b[0m\u001b[1;33m:\u001b[0m \u001b[0mretina_figure\u001b[0m\u001b[1;33m(\u001b[0m\u001b[0mfig\u001b[0m\u001b[1;33m,\u001b[0m \u001b[1;33m**\u001b[0m\u001b[0mkwargs\u001b[0m\u001b[1;33m)\u001b[0m\u001b[1;33m)\u001b[0m\u001b[1;33m\u001b[0m\u001b[1;33m\u001b[0m\u001b[0m\n",
      "\u001b[1;32m~\\anaconda3\\envs\\DsemProd\\lib\\site-packages\\IPython\\core\\pylabtools.py\u001b[0m in \u001b[0;36mprint_figure\u001b[1;34m(fig, fmt, bbox_inches, **kwargs)\u001b[0m\n\u001b[0;32m    132\u001b[0m         \u001b[0mFigureCanvasBase\u001b[0m\u001b[1;33m(\u001b[0m\u001b[0mfig\u001b[0m\u001b[1;33m)\u001b[0m\u001b[1;33m\u001b[0m\u001b[1;33m\u001b[0m\u001b[0m\n\u001b[0;32m    133\u001b[0m \u001b[1;33m\u001b[0m\u001b[0m\n\u001b[1;32m--> 134\u001b[1;33m     \u001b[0mfig\u001b[0m\u001b[1;33m.\u001b[0m\u001b[0mcanvas\u001b[0m\u001b[1;33m.\u001b[0m\u001b[0mprint_figure\u001b[0m\u001b[1;33m(\u001b[0m\u001b[0mbytes_io\u001b[0m\u001b[1;33m,\u001b[0m \u001b[1;33m**\u001b[0m\u001b[0mkw\u001b[0m\u001b[1;33m)\u001b[0m\u001b[1;33m\u001b[0m\u001b[1;33m\u001b[0m\u001b[0m\n\u001b[0m\u001b[0;32m    135\u001b[0m     \u001b[0mdata\u001b[0m \u001b[1;33m=\u001b[0m \u001b[0mbytes_io\u001b[0m\u001b[1;33m.\u001b[0m\u001b[0mgetvalue\u001b[0m\u001b[1;33m(\u001b[0m\u001b[1;33m)\u001b[0m\u001b[1;33m\u001b[0m\u001b[1;33m\u001b[0m\u001b[0m\n\u001b[0;32m    136\u001b[0m     \u001b[1;32mif\u001b[0m \u001b[0mfmt\u001b[0m \u001b[1;33m==\u001b[0m \u001b[1;34m'svg'\u001b[0m\u001b[1;33m:\u001b[0m\u001b[1;33m\u001b[0m\u001b[1;33m\u001b[0m\u001b[0m\n",
      "\u001b[1;32m~\\anaconda3\\envs\\DsemProd\\lib\\site-packages\\matplotlib\\backend_bases.py\u001b[0m in \u001b[0;36mprint_figure\u001b[1;34m(self, filename, dpi, facecolor, edgecolor, orientation, format, bbox_inches, pad_inches, bbox_extra_artists, backend, **kwargs)\u001b[0m\n\u001b[0;32m   2253\u001b[0m                 \u001b[1;31m# force the figure dpi to 72), so we need to set it again here.\u001b[0m\u001b[1;33m\u001b[0m\u001b[1;33m\u001b[0m\u001b[1;33m\u001b[0m\u001b[0m\n\u001b[0;32m   2254\u001b[0m                 \u001b[1;32mwith\u001b[0m \u001b[0mcbook\u001b[0m\u001b[1;33m.\u001b[0m\u001b[0m_setattr_cm\u001b[0m\u001b[1;33m(\u001b[0m\u001b[0mself\u001b[0m\u001b[1;33m.\u001b[0m\u001b[0mfigure\u001b[0m\u001b[1;33m,\u001b[0m \u001b[0mdpi\u001b[0m\u001b[1;33m=\u001b[0m\u001b[0mdpi\u001b[0m\u001b[1;33m)\u001b[0m\u001b[1;33m:\u001b[0m\u001b[1;33m\u001b[0m\u001b[1;33m\u001b[0m\u001b[0m\n\u001b[1;32m-> 2255\u001b[1;33m                     result = print_method(\n\u001b[0m\u001b[0;32m   2256\u001b[0m                         \u001b[0mfilename\u001b[0m\u001b[1;33m,\u001b[0m\u001b[1;33m\u001b[0m\u001b[1;33m\u001b[0m\u001b[0m\n\u001b[0;32m   2257\u001b[0m                         \u001b[0mfacecolor\u001b[0m\u001b[1;33m=\u001b[0m\u001b[0mfacecolor\u001b[0m\u001b[1;33m,\u001b[0m\u001b[1;33m\u001b[0m\u001b[1;33m\u001b[0m\u001b[0m\n",
      "\u001b[1;32m~\\anaconda3\\envs\\DsemProd\\lib\\site-packages\\matplotlib\\backend_bases.py\u001b[0m in \u001b[0;36mwrapper\u001b[1;34m(*args, **kwargs)\u001b[0m\n\u001b[0;32m   1667\u001b[0m             \u001b[0mkwargs\u001b[0m\u001b[1;33m.\u001b[0m\u001b[0mpop\u001b[0m\u001b[1;33m(\u001b[0m\u001b[0marg\u001b[0m\u001b[1;33m)\u001b[0m\u001b[1;33m\u001b[0m\u001b[1;33m\u001b[0m\u001b[0m\n\u001b[0;32m   1668\u001b[0m \u001b[1;33m\u001b[0m\u001b[0m\n\u001b[1;32m-> 1669\u001b[1;33m         \u001b[1;32mreturn\u001b[0m \u001b[0mfunc\u001b[0m\u001b[1;33m(\u001b[0m\u001b[1;33m*\u001b[0m\u001b[0margs\u001b[0m\u001b[1;33m,\u001b[0m \u001b[1;33m**\u001b[0m\u001b[0mkwargs\u001b[0m\u001b[1;33m)\u001b[0m\u001b[1;33m\u001b[0m\u001b[1;33m\u001b[0m\u001b[0m\n\u001b[0m\u001b[0;32m   1670\u001b[0m \u001b[1;33m\u001b[0m\u001b[0m\n\u001b[0;32m   1671\u001b[0m     \u001b[1;32mreturn\u001b[0m \u001b[0mwrapper\u001b[0m\u001b[1;33m\u001b[0m\u001b[1;33m\u001b[0m\u001b[0m\n",
      "\u001b[1;32m~\\anaconda3\\envs\\DsemProd\\lib\\site-packages\\matplotlib\\backends\\backend_agg.py\u001b[0m in \u001b[0;36mprint_png\u001b[1;34m(self, filename_or_obj, metadata, pil_kwargs, *args)\u001b[0m\n\u001b[0;32m    506\u001b[0m             \u001b[1;33m*\u001b[0m\u001b[0mmetadata\u001b[0m\u001b[1;33m*\u001b[0m\u001b[1;33m,\u001b[0m \u001b[0mincluding\u001b[0m \u001b[0mthe\u001b[0m \u001b[0mdefault\u001b[0m \u001b[1;34m'Software'\u001b[0m \u001b[0mkey\u001b[0m\u001b[1;33m.\u001b[0m\u001b[1;33m\u001b[0m\u001b[1;33m\u001b[0m\u001b[0m\n\u001b[0;32m    507\u001b[0m         \"\"\"\n\u001b[1;32m--> 508\u001b[1;33m         \u001b[0mFigureCanvasAgg\u001b[0m\u001b[1;33m.\u001b[0m\u001b[0mdraw\u001b[0m\u001b[1;33m(\u001b[0m\u001b[0mself\u001b[0m\u001b[1;33m)\u001b[0m\u001b[1;33m\u001b[0m\u001b[1;33m\u001b[0m\u001b[0m\n\u001b[0m\u001b[0;32m    509\u001b[0m         mpl.image.imsave(\n\u001b[0;32m    510\u001b[0m             \u001b[0mfilename_or_obj\u001b[0m\u001b[1;33m,\u001b[0m \u001b[0mself\u001b[0m\u001b[1;33m.\u001b[0m\u001b[0mbuffer_rgba\u001b[0m\u001b[1;33m(\u001b[0m\u001b[1;33m)\u001b[0m\u001b[1;33m,\u001b[0m \u001b[0mformat\u001b[0m\u001b[1;33m=\u001b[0m\u001b[1;34m\"png\"\u001b[0m\u001b[1;33m,\u001b[0m \u001b[0morigin\u001b[0m\u001b[1;33m=\u001b[0m\u001b[1;34m\"upper\"\u001b[0m\u001b[1;33m,\u001b[0m\u001b[1;33m\u001b[0m\u001b[1;33m\u001b[0m\u001b[0m\n",
      "\u001b[1;32m~\\anaconda3\\envs\\DsemProd\\lib\\site-packages\\matplotlib\\backends\\backend_agg.py\u001b[0m in \u001b[0;36mdraw\u001b[1;34m(self)\u001b[0m\n\u001b[0;32m    404\u001b[0m              (self.toolbar._wait_cursor_for_draw_cm() if self.toolbar\n\u001b[0;32m    405\u001b[0m               else nullcontext()):\n\u001b[1;32m--> 406\u001b[1;33m             \u001b[0mself\u001b[0m\u001b[1;33m.\u001b[0m\u001b[0mfigure\u001b[0m\u001b[1;33m.\u001b[0m\u001b[0mdraw\u001b[0m\u001b[1;33m(\u001b[0m\u001b[0mself\u001b[0m\u001b[1;33m.\u001b[0m\u001b[0mrenderer\u001b[0m\u001b[1;33m)\u001b[0m\u001b[1;33m\u001b[0m\u001b[1;33m\u001b[0m\u001b[0m\n\u001b[0m\u001b[0;32m    407\u001b[0m             \u001b[1;31m# A GUI class may be need to update a window using this draw, so\u001b[0m\u001b[1;33m\u001b[0m\u001b[1;33m\u001b[0m\u001b[1;33m\u001b[0m\u001b[0m\n\u001b[0;32m    408\u001b[0m             \u001b[1;31m# don't forget to call the superclass.\u001b[0m\u001b[1;33m\u001b[0m\u001b[1;33m\u001b[0m\u001b[1;33m\u001b[0m\u001b[0m\n",
      "\u001b[1;32m~\\anaconda3\\envs\\DsemProd\\lib\\site-packages\\matplotlib\\artist.py\u001b[0m in \u001b[0;36mdraw_wrapper\u001b[1;34m(artist, renderer, *args, **kwargs)\u001b[0m\n\u001b[0;32m     72\u001b[0m     \u001b[1;33m@\u001b[0m\u001b[0mwraps\u001b[0m\u001b[1;33m(\u001b[0m\u001b[0mdraw\u001b[0m\u001b[1;33m)\u001b[0m\u001b[1;33m\u001b[0m\u001b[1;33m\u001b[0m\u001b[0m\n\u001b[0;32m     73\u001b[0m     \u001b[1;32mdef\u001b[0m \u001b[0mdraw_wrapper\u001b[0m\u001b[1;33m(\u001b[0m\u001b[0martist\u001b[0m\u001b[1;33m,\u001b[0m \u001b[0mrenderer\u001b[0m\u001b[1;33m,\u001b[0m \u001b[1;33m*\u001b[0m\u001b[0margs\u001b[0m\u001b[1;33m,\u001b[0m \u001b[1;33m**\u001b[0m\u001b[0mkwargs\u001b[0m\u001b[1;33m)\u001b[0m\u001b[1;33m:\u001b[0m\u001b[1;33m\u001b[0m\u001b[1;33m\u001b[0m\u001b[0m\n\u001b[1;32m---> 74\u001b[1;33m         \u001b[0mresult\u001b[0m \u001b[1;33m=\u001b[0m \u001b[0mdraw\u001b[0m\u001b[1;33m(\u001b[0m\u001b[0martist\u001b[0m\u001b[1;33m,\u001b[0m \u001b[0mrenderer\u001b[0m\u001b[1;33m,\u001b[0m \u001b[1;33m*\u001b[0m\u001b[0margs\u001b[0m\u001b[1;33m,\u001b[0m \u001b[1;33m**\u001b[0m\u001b[0mkwargs\u001b[0m\u001b[1;33m)\u001b[0m\u001b[1;33m\u001b[0m\u001b[1;33m\u001b[0m\u001b[0m\n\u001b[0m\u001b[0;32m     75\u001b[0m         \u001b[1;32mif\u001b[0m \u001b[0mrenderer\u001b[0m\u001b[1;33m.\u001b[0m\u001b[0m_rasterizing\u001b[0m\u001b[1;33m:\u001b[0m\u001b[1;33m\u001b[0m\u001b[1;33m\u001b[0m\u001b[0m\n\u001b[0;32m     76\u001b[0m             \u001b[0mrenderer\u001b[0m\u001b[1;33m.\u001b[0m\u001b[0mstop_rasterizing\u001b[0m\u001b[1;33m(\u001b[0m\u001b[1;33m)\u001b[0m\u001b[1;33m\u001b[0m\u001b[1;33m\u001b[0m\u001b[0m\n",
      "\u001b[1;32m~\\anaconda3\\envs\\DsemProd\\lib\\site-packages\\matplotlib\\artist.py\u001b[0m in \u001b[0;36mdraw_wrapper\u001b[1;34m(artist, renderer, *args, **kwargs)\u001b[0m\n\u001b[0;32m     49\u001b[0m                 \u001b[0mrenderer\u001b[0m\u001b[1;33m.\u001b[0m\u001b[0mstart_filter\u001b[0m\u001b[1;33m(\u001b[0m\u001b[1;33m)\u001b[0m\u001b[1;33m\u001b[0m\u001b[1;33m\u001b[0m\u001b[0m\n\u001b[0;32m     50\u001b[0m \u001b[1;33m\u001b[0m\u001b[0m\n\u001b[1;32m---> 51\u001b[1;33m             \u001b[1;32mreturn\u001b[0m \u001b[0mdraw\u001b[0m\u001b[1;33m(\u001b[0m\u001b[0martist\u001b[0m\u001b[1;33m,\u001b[0m \u001b[0mrenderer\u001b[0m\u001b[1;33m,\u001b[0m \u001b[1;33m*\u001b[0m\u001b[0margs\u001b[0m\u001b[1;33m,\u001b[0m \u001b[1;33m**\u001b[0m\u001b[0mkwargs\u001b[0m\u001b[1;33m)\u001b[0m\u001b[1;33m\u001b[0m\u001b[1;33m\u001b[0m\u001b[0m\n\u001b[0m\u001b[0;32m     52\u001b[0m         \u001b[1;32mfinally\u001b[0m\u001b[1;33m:\u001b[0m\u001b[1;33m\u001b[0m\u001b[1;33m\u001b[0m\u001b[0m\n\u001b[0;32m     53\u001b[0m             \u001b[1;32mif\u001b[0m \u001b[0martist\u001b[0m\u001b[1;33m.\u001b[0m\u001b[0mget_agg_filter\u001b[0m\u001b[1;33m(\u001b[0m\u001b[1;33m)\u001b[0m \u001b[1;32mis\u001b[0m \u001b[1;32mnot\u001b[0m \u001b[1;32mNone\u001b[0m\u001b[1;33m:\u001b[0m\u001b[1;33m\u001b[0m\u001b[1;33m\u001b[0m\u001b[0m\n",
      "\u001b[1;32m~\\anaconda3\\envs\\DsemProd\\lib\\site-packages\\matplotlib\\figure.py\u001b[0m in \u001b[0;36mdraw\u001b[1;34m(self, renderer)\u001b[0m\n\u001b[0;32m   2778\u001b[0m \u001b[1;33m\u001b[0m\u001b[0m\n\u001b[0;32m   2779\u001b[0m             \u001b[0mself\u001b[0m\u001b[1;33m.\u001b[0m\u001b[0mpatch\u001b[0m\u001b[1;33m.\u001b[0m\u001b[0mdraw\u001b[0m\u001b[1;33m(\u001b[0m\u001b[0mrenderer\u001b[0m\u001b[1;33m)\u001b[0m\u001b[1;33m\u001b[0m\u001b[1;33m\u001b[0m\u001b[0m\n\u001b[1;32m-> 2780\u001b[1;33m             mimage._draw_list_compositing_images(\n\u001b[0m\u001b[0;32m   2781\u001b[0m                 renderer, self, artists, self.suppressComposite)\n\u001b[0;32m   2782\u001b[0m \u001b[1;33m\u001b[0m\u001b[0m\n",
      "\u001b[1;32m~\\anaconda3\\envs\\DsemProd\\lib\\site-packages\\matplotlib\\image.py\u001b[0m in \u001b[0;36m_draw_list_compositing_images\u001b[1;34m(renderer, parent, artists, suppress_composite)\u001b[0m\n\u001b[0;32m    130\u001b[0m     \u001b[1;32mif\u001b[0m \u001b[0mnot_composite\u001b[0m \u001b[1;32mor\u001b[0m \u001b[1;32mnot\u001b[0m \u001b[0mhas_images\u001b[0m\u001b[1;33m:\u001b[0m\u001b[1;33m\u001b[0m\u001b[1;33m\u001b[0m\u001b[0m\n\u001b[0;32m    131\u001b[0m         \u001b[1;32mfor\u001b[0m \u001b[0ma\u001b[0m \u001b[1;32min\u001b[0m \u001b[0martists\u001b[0m\u001b[1;33m:\u001b[0m\u001b[1;33m\u001b[0m\u001b[1;33m\u001b[0m\u001b[0m\n\u001b[1;32m--> 132\u001b[1;33m             \u001b[0ma\u001b[0m\u001b[1;33m.\u001b[0m\u001b[0mdraw\u001b[0m\u001b[1;33m(\u001b[0m\u001b[0mrenderer\u001b[0m\u001b[1;33m)\u001b[0m\u001b[1;33m\u001b[0m\u001b[1;33m\u001b[0m\u001b[0m\n\u001b[0m\u001b[0;32m    133\u001b[0m     \u001b[1;32melse\u001b[0m\u001b[1;33m:\u001b[0m\u001b[1;33m\u001b[0m\u001b[1;33m\u001b[0m\u001b[0m\n\u001b[0;32m    134\u001b[0m         \u001b[1;31m# Composite any adjacent images together\u001b[0m\u001b[1;33m\u001b[0m\u001b[1;33m\u001b[0m\u001b[1;33m\u001b[0m\u001b[0m\n",
      "\u001b[1;32m~\\anaconda3\\envs\\DsemProd\\lib\\site-packages\\matplotlib\\artist.py\u001b[0m in \u001b[0;36mdraw_wrapper\u001b[1;34m(artist, renderer, *args, **kwargs)\u001b[0m\n\u001b[0;32m     49\u001b[0m                 \u001b[0mrenderer\u001b[0m\u001b[1;33m.\u001b[0m\u001b[0mstart_filter\u001b[0m\u001b[1;33m(\u001b[0m\u001b[1;33m)\u001b[0m\u001b[1;33m\u001b[0m\u001b[1;33m\u001b[0m\u001b[0m\n\u001b[0;32m     50\u001b[0m \u001b[1;33m\u001b[0m\u001b[0m\n\u001b[1;32m---> 51\u001b[1;33m             \u001b[1;32mreturn\u001b[0m \u001b[0mdraw\u001b[0m\u001b[1;33m(\u001b[0m\u001b[0martist\u001b[0m\u001b[1;33m,\u001b[0m \u001b[0mrenderer\u001b[0m\u001b[1;33m,\u001b[0m \u001b[1;33m*\u001b[0m\u001b[0margs\u001b[0m\u001b[1;33m,\u001b[0m \u001b[1;33m**\u001b[0m\u001b[0mkwargs\u001b[0m\u001b[1;33m)\u001b[0m\u001b[1;33m\u001b[0m\u001b[1;33m\u001b[0m\u001b[0m\n\u001b[0m\u001b[0;32m     52\u001b[0m         \u001b[1;32mfinally\u001b[0m\u001b[1;33m:\u001b[0m\u001b[1;33m\u001b[0m\u001b[1;33m\u001b[0m\u001b[0m\n\u001b[0;32m     53\u001b[0m             \u001b[1;32mif\u001b[0m \u001b[0martist\u001b[0m\u001b[1;33m.\u001b[0m\u001b[0mget_agg_filter\u001b[0m\u001b[1;33m(\u001b[0m\u001b[1;33m)\u001b[0m \u001b[1;32mis\u001b[0m \u001b[1;32mnot\u001b[0m \u001b[1;32mNone\u001b[0m\u001b[1;33m:\u001b[0m\u001b[1;33m\u001b[0m\u001b[1;33m\u001b[0m\u001b[0m\n",
      "\u001b[1;32m~\\anaconda3\\envs\\DsemProd\\lib\\site-packages\\matplotlib\\_api\\deprecation.py\u001b[0m in \u001b[0;36mwrapper\u001b[1;34m(*inner_args, **inner_kwargs)\u001b[0m\n\u001b[0;32m    429\u001b[0m                          \u001b[1;32melse\u001b[0m \u001b[0mdeprecation_addendum\u001b[0m\u001b[1;33m,\u001b[0m\u001b[1;33m\u001b[0m\u001b[1;33m\u001b[0m\u001b[0m\n\u001b[0;32m    430\u001b[0m                 **kwargs)\n\u001b[1;32m--> 431\u001b[1;33m         \u001b[1;32mreturn\u001b[0m \u001b[0mfunc\u001b[0m\u001b[1;33m(\u001b[0m\u001b[1;33m*\u001b[0m\u001b[0minner_args\u001b[0m\u001b[1;33m,\u001b[0m \u001b[1;33m**\u001b[0m\u001b[0minner_kwargs\u001b[0m\u001b[1;33m)\u001b[0m\u001b[1;33m\u001b[0m\u001b[1;33m\u001b[0m\u001b[0m\n\u001b[0m\u001b[0;32m    432\u001b[0m \u001b[1;33m\u001b[0m\u001b[0m\n\u001b[0;32m    433\u001b[0m     \u001b[1;32mreturn\u001b[0m \u001b[0mwrapper\u001b[0m\u001b[1;33m\u001b[0m\u001b[1;33m\u001b[0m\u001b[0m\n",
      "\u001b[1;32m~\\anaconda3\\envs\\DsemProd\\lib\\site-packages\\matplotlib\\axes\\_base.py\u001b[0m in \u001b[0;36mdraw\u001b[1;34m(self, renderer, inframe)\u001b[0m\n\u001b[0;32m   2919\u001b[0m             \u001b[0mrenderer\u001b[0m\u001b[1;33m.\u001b[0m\u001b[0mstop_rasterizing\u001b[0m\u001b[1;33m(\u001b[0m\u001b[1;33m)\u001b[0m\u001b[1;33m\u001b[0m\u001b[1;33m\u001b[0m\u001b[0m\n\u001b[0;32m   2920\u001b[0m \u001b[1;33m\u001b[0m\u001b[0m\n\u001b[1;32m-> 2921\u001b[1;33m         \u001b[0mmimage\u001b[0m\u001b[1;33m.\u001b[0m\u001b[0m_draw_list_compositing_images\u001b[0m\u001b[1;33m(\u001b[0m\u001b[0mrenderer\u001b[0m\u001b[1;33m,\u001b[0m \u001b[0mself\u001b[0m\u001b[1;33m,\u001b[0m \u001b[0martists\u001b[0m\u001b[1;33m)\u001b[0m\u001b[1;33m\u001b[0m\u001b[1;33m\u001b[0m\u001b[0m\n\u001b[0m\u001b[0;32m   2922\u001b[0m \u001b[1;33m\u001b[0m\u001b[0m\n\u001b[0;32m   2923\u001b[0m         \u001b[0mrenderer\u001b[0m\u001b[1;33m.\u001b[0m\u001b[0mclose_group\u001b[0m\u001b[1;33m(\u001b[0m\u001b[1;34m'axes'\u001b[0m\u001b[1;33m)\u001b[0m\u001b[1;33m\u001b[0m\u001b[1;33m\u001b[0m\u001b[0m\n",
      "\u001b[1;32m~\\anaconda3\\envs\\DsemProd\\lib\\site-packages\\matplotlib\\image.py\u001b[0m in \u001b[0;36m_draw_list_compositing_images\u001b[1;34m(renderer, parent, artists, suppress_composite)\u001b[0m\n\u001b[0;32m    130\u001b[0m     \u001b[1;32mif\u001b[0m \u001b[0mnot_composite\u001b[0m \u001b[1;32mor\u001b[0m \u001b[1;32mnot\u001b[0m \u001b[0mhas_images\u001b[0m\u001b[1;33m:\u001b[0m\u001b[1;33m\u001b[0m\u001b[1;33m\u001b[0m\u001b[0m\n\u001b[0;32m    131\u001b[0m         \u001b[1;32mfor\u001b[0m \u001b[0ma\u001b[0m \u001b[1;32min\u001b[0m \u001b[0martists\u001b[0m\u001b[1;33m:\u001b[0m\u001b[1;33m\u001b[0m\u001b[1;33m\u001b[0m\u001b[0m\n\u001b[1;32m--> 132\u001b[1;33m             \u001b[0ma\u001b[0m\u001b[1;33m.\u001b[0m\u001b[0mdraw\u001b[0m\u001b[1;33m(\u001b[0m\u001b[0mrenderer\u001b[0m\u001b[1;33m)\u001b[0m\u001b[1;33m\u001b[0m\u001b[1;33m\u001b[0m\u001b[0m\n\u001b[0m\u001b[0;32m    133\u001b[0m     \u001b[1;32melse\u001b[0m\u001b[1;33m:\u001b[0m\u001b[1;33m\u001b[0m\u001b[1;33m\u001b[0m\u001b[0m\n\u001b[0;32m    134\u001b[0m         \u001b[1;31m# Composite any adjacent images together\u001b[0m\u001b[1;33m\u001b[0m\u001b[1;33m\u001b[0m\u001b[1;33m\u001b[0m\u001b[0m\n",
      "\u001b[1;32m~\\anaconda3\\envs\\DsemProd\\lib\\site-packages\\matplotlib\\artist.py\u001b[0m in \u001b[0;36mdraw_wrapper\u001b[1;34m(artist, renderer, *args, **kwargs)\u001b[0m\n\u001b[0;32m     49\u001b[0m                 \u001b[0mrenderer\u001b[0m\u001b[1;33m.\u001b[0m\u001b[0mstart_filter\u001b[0m\u001b[1;33m(\u001b[0m\u001b[1;33m)\u001b[0m\u001b[1;33m\u001b[0m\u001b[1;33m\u001b[0m\u001b[0m\n\u001b[0;32m     50\u001b[0m \u001b[1;33m\u001b[0m\u001b[0m\n\u001b[1;32m---> 51\u001b[1;33m             \u001b[1;32mreturn\u001b[0m \u001b[0mdraw\u001b[0m\u001b[1;33m(\u001b[0m\u001b[0martist\u001b[0m\u001b[1;33m,\u001b[0m \u001b[0mrenderer\u001b[0m\u001b[1;33m,\u001b[0m \u001b[1;33m*\u001b[0m\u001b[0margs\u001b[0m\u001b[1;33m,\u001b[0m \u001b[1;33m**\u001b[0m\u001b[0mkwargs\u001b[0m\u001b[1;33m)\u001b[0m\u001b[1;33m\u001b[0m\u001b[1;33m\u001b[0m\u001b[0m\n\u001b[0m\u001b[0;32m     52\u001b[0m         \u001b[1;32mfinally\u001b[0m\u001b[1;33m:\u001b[0m\u001b[1;33m\u001b[0m\u001b[1;33m\u001b[0m\u001b[0m\n\u001b[0;32m     53\u001b[0m             \u001b[1;32mif\u001b[0m \u001b[0martist\u001b[0m\u001b[1;33m.\u001b[0m\u001b[0mget_agg_filter\u001b[0m\u001b[1;33m(\u001b[0m\u001b[1;33m)\u001b[0m \u001b[1;32mis\u001b[0m \u001b[1;32mnot\u001b[0m \u001b[1;32mNone\u001b[0m\u001b[1;33m:\u001b[0m\u001b[1;33m\u001b[0m\u001b[1;33m\u001b[0m\u001b[0m\n",
      "\u001b[1;32m~\\anaconda3\\envs\\DsemProd\\lib\\site-packages\\matplotlib\\text.py\u001b[0m in \u001b[0;36mdraw\u001b[1;34m(self, renderer)\u001b[0m\n\u001b[0;32m    684\u001b[0m             \u001b[0mposx\u001b[0m \u001b[1;33m=\u001b[0m \u001b[0mfloat\u001b[0m\u001b[1;33m(\u001b[0m\u001b[0mtextobj\u001b[0m\u001b[1;33m.\u001b[0m\u001b[0mconvert_xunits\u001b[0m\u001b[1;33m(\u001b[0m\u001b[0mtextobj\u001b[0m\u001b[1;33m.\u001b[0m\u001b[0m_x\u001b[0m\u001b[1;33m)\u001b[0m\u001b[1;33m)\u001b[0m\u001b[1;33m\u001b[0m\u001b[1;33m\u001b[0m\u001b[0m\n\u001b[0;32m    685\u001b[0m             \u001b[0mposy\u001b[0m \u001b[1;33m=\u001b[0m \u001b[0mfloat\u001b[0m\u001b[1;33m(\u001b[0m\u001b[0mtextobj\u001b[0m\u001b[1;33m.\u001b[0m\u001b[0mconvert_yunits\u001b[0m\u001b[1;33m(\u001b[0m\u001b[0mtextobj\u001b[0m\u001b[1;33m.\u001b[0m\u001b[0m_y\u001b[0m\u001b[1;33m)\u001b[0m\u001b[1;33m)\u001b[0m\u001b[1;33m\u001b[0m\u001b[1;33m\u001b[0m\u001b[0m\n\u001b[1;32m--> 686\u001b[1;33m             \u001b[0mposx\u001b[0m\u001b[1;33m,\u001b[0m \u001b[0mposy\u001b[0m \u001b[1;33m=\u001b[0m \u001b[0mtrans\u001b[0m\u001b[1;33m.\u001b[0m\u001b[0mtransform\u001b[0m\u001b[1;33m(\u001b[0m\u001b[1;33m(\u001b[0m\u001b[0mposx\u001b[0m\u001b[1;33m,\u001b[0m \u001b[0mposy\u001b[0m\u001b[1;33m)\u001b[0m\u001b[1;33m)\u001b[0m\u001b[1;33m\u001b[0m\u001b[1;33m\u001b[0m\u001b[0m\n\u001b[0m\u001b[0;32m    687\u001b[0m             \u001b[1;32mif\u001b[0m \u001b[1;32mnot\u001b[0m \u001b[0mnp\u001b[0m\u001b[1;33m.\u001b[0m\u001b[0misfinite\u001b[0m\u001b[1;33m(\u001b[0m\u001b[0mposx\u001b[0m\u001b[1;33m)\u001b[0m \u001b[1;32mor\u001b[0m \u001b[1;32mnot\u001b[0m \u001b[0mnp\u001b[0m\u001b[1;33m.\u001b[0m\u001b[0misfinite\u001b[0m\u001b[1;33m(\u001b[0m\u001b[0mposy\u001b[0m\u001b[1;33m)\u001b[0m\u001b[1;33m:\u001b[0m\u001b[1;33m\u001b[0m\u001b[1;33m\u001b[0m\u001b[0m\n\u001b[0;32m    688\u001b[0m                 \u001b[0m_log\u001b[0m\u001b[1;33m.\u001b[0m\u001b[0mwarning\u001b[0m\u001b[1;33m(\u001b[0m\u001b[1;34m\"posx and posy should be finite values\"\u001b[0m\u001b[1;33m)\u001b[0m\u001b[1;33m\u001b[0m\u001b[1;33m\u001b[0m\u001b[0m\n",
      "\u001b[1;32m~\\anaconda3\\envs\\DsemProd\\lib\\site-packages\\matplotlib\\transforms.py\u001b[0m in \u001b[0;36mtransform\u001b[1;34m(self, values)\u001b[0m\n\u001b[0;32m   1468\u001b[0m \u001b[1;33m\u001b[0m\u001b[0m\n\u001b[0;32m   1469\u001b[0m         \u001b[1;31m# Transform the values\u001b[0m\u001b[1;33m\u001b[0m\u001b[1;33m\u001b[0m\u001b[1;33m\u001b[0m\u001b[0m\n\u001b[1;32m-> 1470\u001b[1;33m         \u001b[0mres\u001b[0m \u001b[1;33m=\u001b[0m \u001b[0mself\u001b[0m\u001b[1;33m.\u001b[0m\u001b[0mtransform_affine\u001b[0m\u001b[1;33m(\u001b[0m\u001b[0mself\u001b[0m\u001b[1;33m.\u001b[0m\u001b[0mtransform_non_affine\u001b[0m\u001b[1;33m(\u001b[0m\u001b[0mvalues\u001b[0m\u001b[1;33m)\u001b[0m\u001b[1;33m)\u001b[0m\u001b[1;33m\u001b[0m\u001b[1;33m\u001b[0m\u001b[0m\n\u001b[0m\u001b[0;32m   1471\u001b[0m \u001b[1;33m\u001b[0m\u001b[0m\n\u001b[0;32m   1472\u001b[0m         \u001b[1;31m# Convert the result back to the shape of the input values.\u001b[0m\u001b[1;33m\u001b[0m\u001b[1;33m\u001b[0m\u001b[1;33m\u001b[0m\u001b[0m\n",
      "\u001b[1;32m~\\anaconda3\\envs\\DsemProd\\lib\\site-packages\\matplotlib\\transforms.py\u001b[0m in \u001b[0;36mtransform_affine\u001b[1;34m(self, points)\u001b[0m\n\u001b[0;32m   2377\u001b[0m     \u001b[1;32mdef\u001b[0m \u001b[0mtransform_affine\u001b[0m\u001b[1;33m(\u001b[0m\u001b[0mself\u001b[0m\u001b[1;33m,\u001b[0m \u001b[0mpoints\u001b[0m\u001b[1;33m)\u001b[0m\u001b[1;33m:\u001b[0m\u001b[1;33m\u001b[0m\u001b[1;33m\u001b[0m\u001b[0m\n\u001b[0;32m   2378\u001b[0m         \u001b[1;31m# docstring inherited\u001b[0m\u001b[1;33m\u001b[0m\u001b[1;33m\u001b[0m\u001b[1;33m\u001b[0m\u001b[0m\n\u001b[1;32m-> 2379\u001b[1;33m         \u001b[1;32mreturn\u001b[0m \u001b[0mself\u001b[0m\u001b[1;33m.\u001b[0m\u001b[0mget_affine\u001b[0m\u001b[1;33m(\u001b[0m\u001b[1;33m)\u001b[0m\u001b[1;33m.\u001b[0m\u001b[0mtransform\u001b[0m\u001b[1;33m(\u001b[0m\u001b[0mpoints\u001b[0m\u001b[1;33m)\u001b[0m\u001b[1;33m\u001b[0m\u001b[1;33m\u001b[0m\u001b[0m\n\u001b[0m\u001b[0;32m   2380\u001b[0m \u001b[1;33m\u001b[0m\u001b[0m\n\u001b[0;32m   2381\u001b[0m     \u001b[1;32mdef\u001b[0m \u001b[0mtransform_non_affine\u001b[0m\u001b[1;33m(\u001b[0m\u001b[0mself\u001b[0m\u001b[1;33m,\u001b[0m \u001b[0mpoints\u001b[0m\u001b[1;33m)\u001b[0m\u001b[1;33m:\u001b[0m\u001b[1;33m\u001b[0m\u001b[1;33m\u001b[0m\u001b[0m\n",
      "\u001b[1;32m~\\anaconda3\\envs\\DsemProd\\lib\\site-packages\\matplotlib\\transforms.py\u001b[0m in \u001b[0;36mget_affine\u001b[1;34m(self)\u001b[0m\n\u001b[0;32m   2404\u001b[0m             \u001b[1;32mreturn\u001b[0m \u001b[0mself\u001b[0m\u001b[1;33m.\u001b[0m\u001b[0m_b\u001b[0m\u001b[1;33m.\u001b[0m\u001b[0mget_affine\u001b[0m\u001b[1;33m(\u001b[0m\u001b[1;33m)\u001b[0m\u001b[1;33m\u001b[0m\u001b[1;33m\u001b[0m\u001b[0m\n\u001b[0;32m   2405\u001b[0m         \u001b[1;32melse\u001b[0m\u001b[1;33m:\u001b[0m\u001b[1;33m\u001b[0m\u001b[1;33m\u001b[0m\u001b[0m\n\u001b[1;32m-> 2406\u001b[1;33m             return Affine2D(np.dot(self._b.get_affine().get_matrix(),\n\u001b[0m\u001b[0;32m   2407\u001b[0m                                    self._a.get_affine().get_matrix()))\n\u001b[0;32m   2408\u001b[0m \u001b[1;33m\u001b[0m\u001b[0m\n",
      "\u001b[1;32m~\\anaconda3\\envs\\DsemProd\\lib\\site-packages\\matplotlib\\transforms.py\u001b[0m in \u001b[0;36mget_affine\u001b[1;34m(self)\u001b[0m\n\u001b[0;32m   2404\u001b[0m             \u001b[1;32mreturn\u001b[0m \u001b[0mself\u001b[0m\u001b[1;33m.\u001b[0m\u001b[0m_b\u001b[0m\u001b[1;33m.\u001b[0m\u001b[0mget_affine\u001b[0m\u001b[1;33m(\u001b[0m\u001b[1;33m)\u001b[0m\u001b[1;33m\u001b[0m\u001b[1;33m\u001b[0m\u001b[0m\n\u001b[0;32m   2405\u001b[0m         \u001b[1;32melse\u001b[0m\u001b[1;33m:\u001b[0m\u001b[1;33m\u001b[0m\u001b[1;33m\u001b[0m\u001b[0m\n\u001b[1;32m-> 2406\u001b[1;33m             return Affine2D(np.dot(self._b.get_affine().get_matrix(),\n\u001b[0m\u001b[0;32m   2407\u001b[0m                                    self._a.get_affine().get_matrix()))\n\u001b[0;32m   2408\u001b[0m \u001b[1;33m\u001b[0m\u001b[0m\n",
      "\u001b[1;32m<__array_function__ internals>\u001b[0m in \u001b[0;36mdot\u001b[1;34m(*args, **kwargs)\u001b[0m\n",
      "\u001b[1;31mKeyboardInterrupt\u001b[0m: "
     ]
    }
   ],
   "source": [
    "correlation = num_attributes.corr( method='pearson' )\n",
    "plt.figure( figsize=( 25, 19 ) )\n",
    "sns.heatmap( correlation, annot=True );"
   ]
  },
  {
   "cell_type": "markdown",
   "id": "baf60c13",
   "metadata": {
    "heading_collapsed": true
   },
   "source": [
    "## 4.1 Split dataframe into training and test dataset"
   ]
  },
  {
   "cell_type": "code",
   "execution_count": null,
   "id": "fd77bc6d",
   "metadata": {
    "ExecuteTime": {
     "end_time": "2021-07-01T15:21:51.044835Z",
     "start_time": "2021-07-01T15:21:31.254Z"
    },
    "hidden": true
   },
   "outputs": [],
   "source": [
    "# training dataset\n",
    "X_train = mergedData[mergedData['id']<12800] # this id split dataset in 3/4 proportion\n",
    "y_train = X_train['classe']\n",
    "\n",
    "# test dataset \n",
    "X_test = mergedData[mergedData['id']>=12800] # this id split dataset in 3/4 proportion\n",
    "y_test = X_test['classe']\n"
   ]
  },
  {
   "cell_type": "code",
   "execution_count": null,
   "id": "246aeebc",
   "metadata": {
    "ExecuteTime": {
     "end_time": "2021-07-01T15:21:51.047835Z",
     "start_time": "2021-07-01T15:21:34.717Z"
    },
    "hidden": true
   },
   "outputs": [],
   "source": [
    "X_train"
   ]
  },
  {
   "cell_type": "markdown",
   "id": "2db86c8c",
   "metadata": {},
   "source": [
    "## 4.2 Boruta as Feature Selector"
   ]
  },
  {
   "cell_type": "code",
   "execution_count": 58,
   "id": "a6c1bc1e",
   "metadata": {
    "ExecuteTime": {
     "end_time": "2021-07-01T19:18:33.851426Z",
     "start_time": "2021-07-01T19:18:09.783666Z"
    }
   },
   "outputs": [
    {
     "name": "stdout",
     "output_type": "stream",
     "text": [
      "Iteration: \t1 / 100\n",
      "Confirmed: \t0\n",
      "Tentative: \t154\n",
      "Rejected: \t0\n",
      "Iteration: \t2 / 100\n",
      "Confirmed: \t0\n",
      "Tentative: \t154\n",
      "Rejected: \t0\n",
      "Iteration: \t3 / 100\n",
      "Confirmed: \t0\n",
      "Tentative: \t154\n",
      "Rejected: \t0\n",
      "Iteration: \t4 / 100\n",
      "Confirmed: \t0\n",
      "Tentative: \t154\n",
      "Rejected: \t0\n",
      "Iteration: \t5 / 100\n",
      "Confirmed: \t0\n",
      "Tentative: \t154\n",
      "Rejected: \t0\n",
      "Iteration: \t6 / 100\n",
      "Confirmed: \t0\n",
      "Tentative: \t154\n",
      "Rejected: \t0\n",
      "Iteration: \t7 / 100\n",
      "Confirmed: \t0\n",
      "Tentative: \t154\n",
      "Rejected: \t0\n",
      "Iteration: \t8 / 100\n",
      "Confirmed: \t24\n",
      "Tentative: \t10\n",
      "Rejected: \t120\n",
      "Iteration: \t9 / 100\n",
      "Confirmed: \t24\n",
      "Tentative: \t10\n",
      "Rejected: \t120\n",
      "Iteration: \t10 / 100\n",
      "Confirmed: \t24\n",
      "Tentative: \t10\n",
      "Rejected: \t120\n",
      "Iteration: \t11 / 100\n",
      "Confirmed: \t24\n",
      "Tentative: \t10\n",
      "Rejected: \t120\n",
      "Iteration: \t12 / 100\n",
      "Confirmed: \t24\n",
      "Tentative: \t7\n",
      "Rejected: \t123\n",
      "Iteration: \t13 / 100\n",
      "Confirmed: \t24\n",
      "Tentative: \t7\n",
      "Rejected: \t123\n",
      "Iteration: \t14 / 100\n",
      "Confirmed: \t24\n",
      "Tentative: \t7\n",
      "Rejected: \t123\n",
      "Iteration: \t15 / 100\n",
      "Confirmed: \t24\n",
      "Tentative: \t7\n",
      "Rejected: \t123\n",
      "Iteration: \t16 / 100\n",
      "Confirmed: \t24\n",
      "Tentative: \t5\n",
      "Rejected: \t125\n",
      "Iteration: \t17 / 100\n",
      "Confirmed: \t24\n",
      "Tentative: \t5\n",
      "Rejected: \t125\n",
      "Iteration: \t18 / 100\n",
      "Confirmed: \t24\n",
      "Tentative: \t5\n",
      "Rejected: \t125\n",
      "Iteration: \t19 / 100\n",
      "Confirmed: \t24\n",
      "Tentative: \t3\n",
      "Rejected: \t127\n",
      "Iteration: \t20 / 100\n",
      "Confirmed: \t24\n",
      "Tentative: \t3\n",
      "Rejected: \t127\n",
      "Iteration: \t21 / 100\n",
      "Confirmed: \t24\n",
      "Tentative: \t3\n",
      "Rejected: \t127\n",
      "Iteration: \t22 / 100\n",
      "Confirmed: \t24\n",
      "Tentative: \t3\n",
      "Rejected: \t127\n",
      "Iteration: \t23 / 100\n",
      "Confirmed: \t24\n",
      "Tentative: \t3\n",
      "Rejected: \t127\n",
      "Iteration: \t24 / 100\n",
      "Confirmed: \t24\n",
      "Tentative: \t3\n",
      "Rejected: \t127\n",
      "Iteration: \t25 / 100\n",
      "Confirmed: \t24\n",
      "Tentative: \t3\n",
      "Rejected: \t127\n",
      "Iteration: \t26 / 100\n",
      "Confirmed: \t24\n",
      "Tentative: \t3\n",
      "Rejected: \t127\n",
      "Iteration: \t27 / 100\n",
      "Confirmed: \t24\n",
      "Tentative: \t3\n",
      "Rejected: \t127\n",
      "Iteration: \t28 / 100\n",
      "Confirmed: \t24\n",
      "Tentative: \t3\n",
      "Rejected: \t127\n",
      "Iteration: \t29 / 100\n",
      "Confirmed: \t24\n",
      "Tentative: \t3\n",
      "Rejected: \t127\n",
      "Iteration: \t30 / 100\n",
      "Confirmed: \t24\n",
      "Tentative: \t3\n",
      "Rejected: \t127\n",
      "Iteration: \t31 / 100\n",
      "Confirmed: \t24\n",
      "Tentative: \t3\n",
      "Rejected: \t127\n",
      "Iteration: \t32 / 100\n",
      "Confirmed: \t24\n",
      "Tentative: \t3\n",
      "Rejected: \t127\n",
      "Iteration: \t33 / 100\n",
      "Confirmed: \t24\n",
      "Tentative: \t3\n",
      "Rejected: \t127\n",
      "Iteration: \t34 / 100\n",
      "Confirmed: \t24\n",
      "Tentative: \t2\n",
      "Rejected: \t128\n",
      "Iteration: \t35 / 100\n",
      "Confirmed: \t24\n",
      "Tentative: \t2\n",
      "Rejected: \t128\n",
      "Iteration: \t36 / 100\n",
      "Confirmed: \t24\n",
      "Tentative: \t2\n",
      "Rejected: \t128\n",
      "Iteration: \t37 / 100\n",
      "Confirmed: \t24\n",
      "Tentative: \t2\n",
      "Rejected: \t128\n",
      "Iteration: \t38 / 100\n",
      "Confirmed: \t24\n",
      "Tentative: \t2\n",
      "Rejected: \t128\n",
      "Iteration: \t39 / 100\n",
      "Confirmed: \t24\n",
      "Tentative: \t2\n",
      "Rejected: \t128\n",
      "Iteration: \t40 / 100\n",
      "Confirmed: \t24\n",
      "Tentative: \t2\n",
      "Rejected: \t128\n",
      "Iteration: \t41 / 100\n",
      "Confirmed: \t24\n",
      "Tentative: \t2\n",
      "Rejected: \t128\n",
      "Iteration: \t42 / 100\n",
      "Confirmed: \t24\n",
      "Tentative: \t2\n",
      "Rejected: \t128\n",
      "Iteration: \t43 / 100\n",
      "Confirmed: \t24\n",
      "Tentative: \t1\n",
      "Rejected: \t129\n",
      "Iteration: \t44 / 100\n",
      "Confirmed: \t24\n",
      "Tentative: \t1\n",
      "Rejected: \t129\n",
      "Iteration: \t45 / 100\n",
      "Confirmed: \t24\n",
      "Tentative: \t1\n",
      "Rejected: \t129\n",
      "Iteration: \t46 / 100\n",
      "Confirmed: \t24\n",
      "Tentative: \t1\n",
      "Rejected: \t129\n",
      "Iteration: \t47 / 100\n",
      "Confirmed: \t24\n",
      "Tentative: \t1\n",
      "Rejected: \t129\n",
      "Iteration: \t48 / 100\n",
      "Confirmed: \t24\n",
      "Tentative: \t1\n",
      "Rejected: \t129\n",
      "Iteration: \t49 / 100\n",
      "Confirmed: \t24\n",
      "Tentative: \t1\n",
      "Rejected: \t129\n",
      "Iteration: \t50 / 100\n",
      "Confirmed: \t24\n",
      "Tentative: \t1\n",
      "Rejected: \t129\n",
      "Iteration: \t51 / 100\n",
      "Confirmed: \t24\n",
      "Tentative: \t1\n",
      "Rejected: \t129\n",
      "Iteration: \t52 / 100\n",
      "Confirmed: \t24\n",
      "Tentative: \t1\n",
      "Rejected: \t129\n",
      "Iteration: \t53 / 100\n",
      "Confirmed: \t24\n",
      "Tentative: \t1\n",
      "Rejected: \t129\n",
      "Iteration: \t54 / 100\n",
      "Confirmed: \t24\n",
      "Tentative: \t1\n",
      "Rejected: \t129\n",
      "Iteration: \t55 / 100\n",
      "Confirmed: \t24\n",
      "Tentative: \t1\n",
      "Rejected: \t129\n",
      "Iteration: \t56 / 100\n",
      "Confirmed: \t24\n",
      "Tentative: \t1\n",
      "Rejected: \t129\n",
      "Iteration: \t57 / 100\n",
      "Confirmed: \t24\n",
      "Tentative: \t1\n",
      "Rejected: \t129\n",
      "Iteration: \t58 / 100\n",
      "Confirmed: \t24\n",
      "Tentative: \t1\n",
      "Rejected: \t129\n",
      "Iteration: \t59 / 100\n",
      "Confirmed: \t24\n",
      "Tentative: \t1\n",
      "Rejected: \t129\n",
      "Iteration: \t60 / 100\n",
      "Confirmed: \t24\n",
      "Tentative: \t1\n",
      "Rejected: \t129\n",
      "Iteration: \t61 / 100\n",
      "Confirmed: \t24\n",
      "Tentative: \t1\n",
      "Rejected: \t129\n",
      "Iteration: \t62 / 100\n",
      "Confirmed: \t24\n",
      "Tentative: \t1\n",
      "Rejected: \t129\n",
      "Iteration: \t63 / 100\n",
      "Confirmed: \t24\n",
      "Tentative: \t1\n",
      "Rejected: \t129\n",
      "Iteration: \t64 / 100\n",
      "Confirmed: \t24\n",
      "Tentative: \t1\n",
      "Rejected: \t129\n",
      "Iteration: \t65 / 100\n",
      "Confirmed: \t24\n",
      "Tentative: \t1\n",
      "Rejected: \t129\n",
      "Iteration: \t66 / 100\n",
      "Confirmed: \t24\n",
      "Tentative: \t1\n",
      "Rejected: \t129\n",
      "Iteration: \t67 / 100\n",
      "Confirmed: \t24\n",
      "Tentative: \t1\n",
      "Rejected: \t129\n",
      "Iteration: \t68 / 100\n",
      "Confirmed: \t24\n",
      "Tentative: \t1\n",
      "Rejected: \t129\n",
      "Iteration: \t69 / 100\n",
      "Confirmed: \t24\n",
      "Tentative: \t1\n",
      "Rejected: \t129\n",
      "Iteration: \t70 / 100\n",
      "Confirmed: \t24\n",
      "Tentative: \t1\n",
      "Rejected: \t129\n",
      "Iteration: \t71 / 100\n",
      "Confirmed: \t24\n",
      "Tentative: \t1\n",
      "Rejected: \t129\n",
      "Iteration: \t72 / 100\n",
      "Confirmed: \t24\n",
      "Tentative: \t1\n",
      "Rejected: \t129\n",
      "Iteration: \t73 / 100\n",
      "Confirmed: \t24\n",
      "Tentative: \t1\n",
      "Rejected: \t129\n",
      "Iteration: \t74 / 100\n",
      "Confirmed: \t24\n",
      "Tentative: \t1\n",
      "Rejected: \t129\n",
      "Iteration: \t75 / 100\n",
      "Confirmed: \t24\n",
      "Tentative: \t1\n",
      "Rejected: \t129\n",
      "Iteration: \t76 / 100\n",
      "Confirmed: \t24\n",
      "Tentative: \t1\n",
      "Rejected: \t129\n",
      "Iteration: \t77 / 100\n",
      "Confirmed: \t24\n",
      "Tentative: \t1\n",
      "Rejected: \t129\n",
      "Iteration: \t78 / 100\n",
      "Confirmed: \t24\n",
      "Tentative: \t1\n",
      "Rejected: \t129\n",
      "Iteration: \t79 / 100\n",
      "Confirmed: \t24\n",
      "Tentative: \t1\n",
      "Rejected: \t129\n",
      "Iteration: \t80 / 100\n",
      "Confirmed: \t24\n",
      "Tentative: \t1\n",
      "Rejected: \t129\n",
      "Iteration: \t81 / 100\n",
      "Confirmed: \t24\n",
      "Tentative: \t1\n",
      "Rejected: \t129\n",
      "Iteration: \t82 / 100\n",
      "Confirmed: \t24\n",
      "Tentative: \t1\n",
      "Rejected: \t129\n",
      "Iteration: \t83 / 100\n",
      "Confirmed: \t24\n",
      "Tentative: \t1\n",
      "Rejected: \t129\n",
      "Iteration: \t84 / 100\n",
      "Confirmed: \t24\n",
      "Tentative: \t1\n",
      "Rejected: \t129\n",
      "Iteration: \t85 / 100\n",
      "Confirmed: \t24\n",
      "Tentative: \t1\n",
      "Rejected: \t129\n",
      "Iteration: \t86 / 100\n",
      "Confirmed: \t24\n",
      "Tentative: \t1\n",
      "Rejected: \t129\n",
      "Iteration: \t87 / 100\n",
      "Confirmed: \t24\n",
      "Tentative: \t1\n",
      "Rejected: \t129\n",
      "Iteration: \t88 / 100\n",
      "Confirmed: \t24\n",
      "Tentative: \t1\n",
      "Rejected: \t129\n",
      "Iteration: \t89 / 100\n",
      "Confirmed: \t24\n",
      "Tentative: \t1\n",
      "Rejected: \t129\n",
      "Iteration: \t90 / 100\n",
      "Confirmed: \t24\n",
      "Tentative: \t1\n",
      "Rejected: \t129\n",
      "Iteration: \t91 / 100\n",
      "Confirmed: \t24\n",
      "Tentative: \t1\n",
      "Rejected: \t129\n",
      "Iteration: \t92 / 100\n",
      "Confirmed: \t24\n",
      "Tentative: \t1\n",
      "Rejected: \t129\n",
      "Iteration: \t93 / 100\n",
      "Confirmed: \t24\n",
      "Tentative: \t1\n",
      "Rejected: \t129\n",
      "Iteration: \t94 / 100\n",
      "Confirmed: \t24\n",
      "Tentative: \t1\n",
      "Rejected: \t129\n",
      "Iteration: \t95 / 100\n",
      "Confirmed: \t24\n",
      "Tentative: \t1\n",
      "Rejected: \t129\n",
      "Iteration: \t96 / 100\n",
      "Confirmed: \t24\n",
      "Tentative: \t1\n",
      "Rejected: \t129\n",
      "Iteration: \t97 / 100\n",
      "Confirmed: \t24\n",
      "Tentative: \t1\n",
      "Rejected: \t129\n",
      "Iteration: \t98 / 100\n",
      "Confirmed: \t24\n",
      "Tentative: \t1\n",
      "Rejected: \t129\n",
      "Iteration: \t99 / 100\n",
      "Confirmed: \t24\n",
      "Tentative: \t1\n",
      "Rejected: \t129\n",
      "\n",
      "\n",
      "BorutaPy finished running.\n",
      "\n",
      "Iteration: \t100 / 100\n",
      "Confirmed: \t24\n",
      "Tentative: \t1\n",
      "Rejected: \t129\n"
     ]
    }
   ],
   "source": [
    "# training and test dataset for Boruta\n",
    "X_train_n = X_train.drop( ['classe'], axis=1 ).values \n",
    "y_train_n = y_train.values.ravel() \n",
    "\n",
    "# define RandomForestRegressor\n",
    "rf = RandomForestClassifier( random_state=42 )\n",
    "\n",
    "# define Boruta\n",
    "boruta = BorutaPy( rf, n_estimators='auto', verbose=2, random_state=42 ).fit( X_train_n, y_train_n )\n"
   ]
  },
  {
   "cell_type": "markdown",
   "id": "c762c05b",
   "metadata": {},
   "source": [
    "### 4.2.1 Best features Boruta"
   ]
  },
  {
   "cell_type": "code",
   "execution_count": 64,
   "id": "4de8636f",
   "metadata": {
    "ExecuteTime": {
     "end_time": "2021-07-01T19:20:39.992696Z",
     "start_time": "2021-07-01T19:20:39.982694Z"
    }
   },
   "outputs": [],
   "source": [
    "cols_selected = boruta.support_.tolist() # devolve o valor do rank baseado na relevancia\n",
    "\n",
    "# best features \n",
    "X_train_fs = X_train.drop( ['classe'], axis=1 ) # axis=1 dropar as colunas inteiras\n",
    "cols_selected_boruta = X_train_fs.iloc[:, cols_selected].columns.to_list()\n",
    "\n",
    "# # not selected boruta \n",
    "cols_not_selected_boruta = np.setdiff1d"
   ]
  },
  {
   "cell_type": "code",
   "execution_count": 61,
   "id": "a71743a5",
   "metadata": {
    "ExecuteTime": {
     "end_time": "2021-07-01T19:19:58.613654Z",
     "start_time": "2021-07-01T19:19:58.598654Z"
    }
   },
   "outputs": [],
   "source": [
    "del cols_selected_boruta[0] # removing 'id' from cols_selected_boruta \n"
   ]
  },
  {
   "cell_type": "code",
   "execution_count": 62,
   "id": "c0fd4255",
   "metadata": {
    "ExecuteTime": {
     "end_time": "2021-07-01T19:20:00.381787Z",
     "start_time": "2021-07-01T19:20:00.373784Z"
    }
   },
   "outputs": [
    {
     "data": {
      "text/plain": [
       "['cm.DESWC',\n",
       " 'cm.DESSL',\n",
       " 'cm.DESWLsy',\n",
       " 'cm.DESWLltd',\n",
       " 'cm.SMCAUSlsa',\n",
       " 'cm.SMCAUSwn',\n",
       " 'cm.WRDNOUN',\n",
       " 'cm.WRDVERB',\n",
       " 'cm.WRDFRQc',\n",
       " 'cm.WRDFRQa',\n",
       " 'cm.WRDFRQmc',\n",
       " 'cm.WRDFAMc',\n",
       " 'cm.WRDCNCc',\n",
       " 'cm.WRDIMGc',\n",
       " 'cm.WRDMEAc',\n",
       " 'cm.RDFRE',\n",
       " 'cm.RDFKGL',\n",
       " 'liwc.funct',\n",
       " 'liwc.preps',\n",
       " 'liwc.social',\n",
       " 'liwc.cogmech',\n",
       " 'liwc.relativ',\n",
       " 'liwc.space']"
      ]
     },
     "execution_count": 62,
     "metadata": {},
     "output_type": "execute_result"
    }
   ],
   "source": [
    "cols_selected_boruta\n"
   ]
  },
  {
   "cell_type": "markdown",
   "id": "e917b145",
   "metadata": {},
   "source": [
    "# 6.0 Machine Learning Modelling"
   ]
  },
  {
   "cell_type": "markdown",
   "id": "b60c8474",
   "metadata": {
    "heading_collapsed": true
   },
   "source": [
    "##  6.1. Stochastic Gradient Descent Classifier (SGDClassifier)"
   ]
  },
  {
   "cell_type": "code",
   "execution_count": 65,
   "id": "305750f7",
   "metadata": {
    "ExecuteTime": {
     "end_time": "2021-07-01T19:20:43.968989Z",
     "start_time": "2021-07-01T19:20:43.822977Z"
    },
    "hidden": true
   },
   "outputs": [
    {
     "data": {
      "text/html": [
       "<div>\n",
       "<style scoped>\n",
       "    .dataframe tbody tr th:only-of-type {\n",
       "        vertical-align: middle;\n",
       "    }\n",
       "\n",
       "    .dataframe tbody tr th {\n",
       "        vertical-align: top;\n",
       "    }\n",
       "\n",
       "    .dataframe thead th {\n",
       "        text-align: right;\n",
       "    }\n",
       "</style>\n",
       "<table border=\"1\" class=\"dataframe\">\n",
       "  <thead>\n",
       "    <tr style=\"text-align: right;\">\n",
       "      <th></th>\n",
       "      <th>Model</th>\n",
       "      <th>Accuracy</th>\n",
       "      <th>Precision</th>\n",
       "    </tr>\n",
       "  </thead>\n",
       "  <tbody>\n",
       "    <tr>\n",
       "      <th>0</th>\n",
       "      <td>SGDClassifier</td>\n",
       "      <td>0.939759</td>\n",
       "      <td>0.939759</td>\n",
       "    </tr>\n",
       "  </tbody>\n",
       "</table>\n",
       "</div>"
      ],
      "text/plain": [
       "           Model  Accuracy Precision\n",
       "0  SGDClassifier  0.939759  0.939759"
      ]
     },
     "execution_count": 65,
     "metadata": {},
     "output_type": "execute_result"
    }
   ],
   "source": [
    " # Train SGDClassifier\n",
    "sgdc = SGDClassifier(random_state=42)\n",
    "sgdc.fit(X_train, y_train)\n",
    "\n",
    "# Predict\n",
    "sgdc_yhat = sgdc.predict(X_test)\n",
    "\n",
    "# ROC-AUC\n",
    "sgdc_cv = cross_val_predict(sgdc, X_train, y_train, cv=5, method='decision_function')\n",
    "sgd_roc_auc = roc_auc_score(y_train, sgdc_cv)\n",
    "\n",
    "# performance\n",
    "sgdc_performance = pd.DataFrame(['SGDClassifier',\n",
    "                                    accuracy_score(y_test, sgdc_yhat),\n",
    "                                    precision_score(y_test, sgdc_yhat),\n",
    "                                    ]).T\n",
    "sgdc_performance.columns = ['Model', 'Accuracy', 'Precision']\n",
    "\n",
    "sgdc_performance"
   ]
  },
  {
   "cell_type": "markdown",
   "id": "3a089b05",
   "metadata": {},
   "source": [
    "## 6.2 Logistic Regression"
   ]
  },
  {
   "cell_type": "code",
   "execution_count": 67,
   "id": "b5a2c287",
   "metadata": {
    "ExecuteTime": {
     "end_time": "2021-07-01T19:20:57.890009Z",
     "start_time": "2021-07-01T19:20:57.574988Z"
    }
   },
   "outputs": [
    {
     "data": {
      "text/html": [
       "<div>\n",
       "<style scoped>\n",
       "    .dataframe tbody tr th:only-of-type {\n",
       "        vertical-align: middle;\n",
       "    }\n",
       "\n",
       "    .dataframe tbody tr th {\n",
       "        vertical-align: top;\n",
       "    }\n",
       "\n",
       "    .dataframe thead th {\n",
       "        text-align: right;\n",
       "    }\n",
       "</style>\n",
       "<table border=\"1\" class=\"dataframe\">\n",
       "  <thead>\n",
       "    <tr style=\"text-align: right;\">\n",
       "      <th></th>\n",
       "      <th>Model</th>\n",
       "      <th>Accuracy</th>\n",
       "      <th>Precision</th>\n",
       "    </tr>\n",
       "  </thead>\n",
       "  <tbody>\n",
       "    <tr>\n",
       "      <th>0</th>\n",
       "      <td>Logistic Regression</td>\n",
       "      <td>0.947791</td>\n",
       "      <td>0.954733</td>\n",
       "    </tr>\n",
       "  </tbody>\n",
       "</table>\n",
       "</div>"
      ],
      "text/plain": [
       "                 Model  Accuracy Precision\n",
       "0  Logistic Regression  0.947791  0.954733"
      ]
     },
     "execution_count": 67,
     "metadata": {},
     "output_type": "execute_result"
    }
   ],
   "source": [
    "# Train Logistic Regression Model\n",
    "logreg = LogisticRegression(random_state=42)\n",
    "logreg.fit(X_train, y_train)\n",
    "\n",
    "# Predict\n",
    "logreg_yhat = logreg.predict(X_test)\n",
    "\n",
    "# ROC-AUC\n",
    "logreg_cv = cross_val_predict(logreg, X_train, y_train, cv=5, method='decision_function')\n",
    "logreg_roc_auc = roc_auc_score(y_train, logreg_cv)\n",
    "\n",
    "# performance\n",
    "logreg_performance = pd.DataFrame(['Logistic Regression',\n",
    "                                    accuracy_score(y_test, logreg_yhat),\n",
    "                                    precision_score(y_test, logreg_yhat),\n",
    "                                    ]).T\n",
    "logreg_performance.columns = ['Model', 'Accuracy', 'Precision']\n",
    "\n",
    "logreg_performance"
   ]
  },
  {
   "cell_type": "markdown",
   "id": "de20b1ae",
   "metadata": {},
   "source": [
    "## 6.3 Random Forest Classifier"
   ]
  },
  {
   "cell_type": "code",
   "execution_count": 69,
   "id": "6b88a999",
   "metadata": {
    "ExecuteTime": {
     "end_time": "2021-07-01T19:21:37.732937Z",
     "start_time": "2021-07-01T19:21:37.470921Z"
    }
   },
   "outputs": [
    {
     "data": {
      "text/html": [
       "<div>\n",
       "<style scoped>\n",
       "    .dataframe tbody tr th:only-of-type {\n",
       "        vertical-align: middle;\n",
       "    }\n",
       "\n",
       "    .dataframe tbody tr th {\n",
       "        vertical-align: top;\n",
       "    }\n",
       "\n",
       "    .dataframe thead th {\n",
       "        text-align: right;\n",
       "    }\n",
       "</style>\n",
       "<table border=\"1\" class=\"dataframe\">\n",
       "  <thead>\n",
       "    <tr style=\"text-align: right;\">\n",
       "      <th></th>\n",
       "      <th>Model</th>\n",
       "      <th>Accuracy</th>\n",
       "      <th>Precision</th>\n",
       "    </tr>\n",
       "  </thead>\n",
       "  <tbody>\n",
       "    <tr>\n",
       "      <th>0</th>\n",
       "      <td>Random Forest Classifier</td>\n",
       "      <td>0.991968</td>\n",
       "      <td>0.995726</td>\n",
       "    </tr>\n",
       "  </tbody>\n",
       "</table>\n",
       "</div>"
      ],
      "text/plain": [
       "                      Model  Accuracy Precision\n",
       "0  Random Forest Classifier  0.991968  0.995726"
      ]
     },
     "execution_count": 69,
     "metadata": {},
     "output_type": "execute_result"
    }
   ],
   "source": [
    " # Train Random Forest\n",
    "randforest = RandomForestClassifier(random_state=42, n_jobs=-1)\n",
    "randforest.fit(X_train, y_train)\n",
    "\n",
    "# Predict\n",
    "randforest_yhat = randforest.predict(X_test)\n",
    "\n",
    "# performance\n",
    "randforest_performance = pd.DataFrame(['Random Forest Classifier',\n",
    "                                    accuracy_score(y_test, randforest_yhat),\n",
    "                                    precision_score(y_test, randforest_yhat),\n",
    "                                    ]).T\n",
    "randforest_performance.columns = ['Model', 'Accuracy', 'Precision']\n",
    "\n",
    "randforest_performance"
   ]
  },
  {
   "cell_type": "markdown",
   "id": "051b8183",
   "metadata": {},
   "source": [
    "## 6.4 Support Vector Machine Classifier"
   ]
  },
  {
   "cell_type": "code",
   "execution_count": 90,
   "id": "10256a5a",
   "metadata": {
    "ExecuteTime": {
     "end_time": "2021-07-01T19:42:44.919056Z",
     "start_time": "2021-07-01T19:42:44.773047Z"
    }
   },
   "outputs": [
    {
     "data": {
      "text/html": [
       "<div>\n",
       "<style scoped>\n",
       "    .dataframe tbody tr th:only-of-type {\n",
       "        vertical-align: middle;\n",
       "    }\n",
       "\n",
       "    .dataframe tbody tr th {\n",
       "        vertical-align: top;\n",
       "    }\n",
       "\n",
       "    .dataframe thead th {\n",
       "        text-align: right;\n",
       "    }\n",
       "</style>\n",
       "<table border=\"1\" class=\"dataframe\">\n",
       "  <thead>\n",
       "    <tr style=\"text-align: right;\">\n",
       "      <th></th>\n",
       "      <th>Model</th>\n",
       "      <th>Accuracy</th>\n",
       "      <th>Precision</th>\n",
       "    </tr>\n",
       "  </thead>\n",
       "  <tbody>\n",
       "    <tr>\n",
       "      <th>0</th>\n",
       "      <td>SVM Classifier</td>\n",
       "      <td>0.939759</td>\n",
       "      <td>0.939759</td>\n",
       "    </tr>\n",
       "  </tbody>\n",
       "</table>\n",
       "</div>"
      ],
      "text/plain": [
       "            Model  Accuracy Precision\n",
       "0  SVM Classifier  0.939759  0.939759"
      ]
     },
     "execution_count": 90,
     "metadata": {},
     "output_type": "execute_result"
    }
   ],
   "source": [
    "# Training SVM\n",
    "svm = SVC(random_state=42)\n",
    "svm.fit(X_train, y_train)\n",
    "\n",
    "# Predict\n",
    "svm_yhat = svm.predict(X_test)\n",
    "\n",
    "# performance\n",
    "svm_performance = pd.DataFrame(['SVM Classifier',\n",
    "                                    accuracy_score(y_test, svm_yhat),\n",
    "                                    precision_score(y_test, svm_yhat),\n",
    "                                    ]).T\n",
    "svm_performance.columns = ['Model', 'Accuracy', 'Precision', ]\n",
    "\n",
    "svm_performance"
   ]
  },
  {
   "cell_type": "markdown",
   "id": "d2395e25",
   "metadata": {
    "ExecuteTime": {
     "end_time": "2021-07-01T19:37:40.697695Z",
     "start_time": "2021-07-01T19:37:40.684693Z"
    }
   },
   "source": [
    "## 6.5 Cross-validation of all models"
   ]
  },
  {
   "cell_type": "code",
   "execution_count": 71,
   "id": "eef788f4",
   "metadata": {
    "ExecuteTime": {
     "end_time": "2021-07-01T19:26:01.488317Z",
     "start_time": "2021-07-01T19:26:01.470318Z"
    }
   },
   "outputs": [],
   "source": [
    "# Merging train and test dataset to make the Cross-Validation\n",
    "x_full = pd.concat([X_train, X_test])\n",
    "y_full = pd.concat([y_train, y_test])"
   ]
  },
  {
   "cell_type": "code",
   "execution_count": 98,
   "id": "e270e8d3",
   "metadata": {
    "ExecuteTime": {
     "end_time": "2021-07-01T19:47:52.528698Z",
     "start_time": "2021-07-01T19:47:45.524182Z"
    }
   },
   "outputs": [
    {
     "data": {
      "text/html": [
       "<div>\n",
       "<style scoped>\n",
       "    .dataframe tbody tr th:only-of-type {\n",
       "        vertical-align: middle;\n",
       "    }\n",
       "\n",
       "    .dataframe tbody tr th {\n",
       "        vertical-align: top;\n",
       "    }\n",
       "\n",
       "    .dataframe thead th {\n",
       "        text-align: right;\n",
       "    }\n",
       "</style>\n",
       "<table border=\"1\" class=\"dataframe\">\n",
       "  <thead>\n",
       "    <tr style=\"text-align: right;\">\n",
       "      <th></th>\n",
       "      <th>Metric</th>\n",
       "      <th>Mean</th>\n",
       "      <th>std</th>\n",
       "    </tr>\n",
       "  </thead>\n",
       "  <tbody>\n",
       "    <tr>\n",
       "      <th>0</th>\n",
       "      <td>Randforest</td>\n",
       "      <td>98.9</td>\n",
       "      <td>1.338</td>\n",
       "    </tr>\n",
       "    <tr>\n",
       "      <th>0</th>\n",
       "      <td>Sdgc</td>\n",
       "      <td>84.6</td>\n",
       "      <td>15.18</td>\n",
       "    </tr>\n",
       "    <tr>\n",
       "      <th>0</th>\n",
       "      <td>logistic Reg</td>\n",
       "      <td>89.8</td>\n",
       "      <td>4.094</td>\n",
       "    </tr>\n",
       "    <tr>\n",
       "      <th>0</th>\n",
       "      <td>SVM classifier</td>\n",
       "      <td>89.0</td>\n",
       "      <td>1.0</td>\n",
       "    </tr>\n",
       "  </tbody>\n",
       "</table>\n",
       "</div>"
      ],
      "text/plain": [
       "           Metric  Mean    std\n",
       "0      Randforest  98.9  1.338\n",
       "0            Sdgc  84.6  15.18\n",
       "0    logistic Reg  89.8  4.094\n",
       "0  SVM classifier  89.0    1.0"
      ]
     },
     "execution_count": 98,
     "metadata": {},
     "output_type": "execute_result"
    }
   ],
   "source": [
    "# Accuracy of randforest\n",
    "randforest_cv = cross_val_score(randforest, x_full, y_full, cv=20, scoring='accuracy')\n",
    "randforest_cv_acc = pd.DataFrame(['Randforest', (rf_cv.mean() * 100).round(3),(randforest_cv.std() * 100).round(3)]).T\n",
    "\n",
    "# Accuracy of sdgc\n",
    "sgdc_cv = cross_val_score(sgdc, x_full, y_full, cv=20, scoring='accuracy')\n",
    "sgdc_cv_acc = pd.DataFrame(['Sdgc', (sgdc_cv.mean() * 100).round(3),(sgdc_cv.std() * 100).round(3)]).T\n",
    "\n",
    "# Accuracy of logistic Regression\n",
    "logreg_cv = cross_val_score(logreg, x_full, y_full, cv=20, scoring='accuracy')\n",
    "logreg_cv_acc = pd.DataFrame(['logistic Reg', (logreg_cv.mean() * 100).round(3),(logreg_cv.std() * 100).round(3)]).T\n",
    "\n",
    "# Accuracy of SVM Model\n",
    "svm_cv = cross_val_score(svm, x_full, y_full, cv=20, scoring='accuracy')\n",
    "svm_cv_acc = pd.DataFrame(['SVM classifier', (svm_cv.mean() * 100).round(3),(svm_cv.std() * 100).round(3)]).T\n",
    "\n",
    "\n",
    "General_cv= pd.concat([randforest_cv_acc, sgdc_cv_acc, logreg_cv_acc, svm_cv_acc])\n",
    "\n",
    "General_cv.columns = ['Metric', 'Mean', 'std']\n",
    "General_cv"
   ]
  }
 ],
 "metadata": {
  "kernelspec": {
   "display_name": "Python 3",
   "language": "python",
   "name": "python3"
  },
  "language_info": {
   "codemirror_mode": {
    "name": "ipython",
    "version": 3
   },
   "file_extension": ".py",
   "mimetype": "text/x-python",
   "name": "python",
   "nbconvert_exporter": "python",
   "pygments_lexer": "ipython3",
   "version": "3.8.10"
  },
  "latex_envs": {
   "LaTeX_envs_menu_present": true,
   "autoclose": false,
   "autocomplete": true,
   "bibliofile": "biblio.bib",
   "cite_by": "apalike",
   "current_citInitial": 1,
   "eqLabelWithNumbers": true,
   "eqNumInitial": 1,
   "hotkeys": {
    "equation": "Ctrl-E",
    "itemize": "Ctrl-I"
   },
   "labels_anchors": false,
   "latex_user_defs": false,
   "report_style_numbering": false,
   "user_envs_cfg": false
  },
  "varInspector": {
   "cols": {
    "lenName": 16,
    "lenType": 16,
    "lenVar": 40
   },
   "kernels_config": {
    "python": {
     "delete_cmd_postfix": "",
     "delete_cmd_prefix": "del ",
     "library": "var_list.py",
     "varRefreshCmd": "print(var_dic_list())"
    },
    "r": {
     "delete_cmd_postfix": ") ",
     "delete_cmd_prefix": "rm(",
     "library": "var_list.r",
     "varRefreshCmd": "cat(var_dic_list()) "
    }
   },
   "types_to_exclude": [
    "module",
    "function",
    "builtin_function_or_method",
    "instance",
    "_Feature"
   ],
   "window_display": false
  }
 },
 "nbformat": 4,
 "nbformat_minor": 5
}
