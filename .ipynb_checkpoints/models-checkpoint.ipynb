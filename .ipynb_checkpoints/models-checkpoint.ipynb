{
 "cells": [
  {
   "cell_type": "markdown",
   "id": "2e0c4216",
   "metadata": {},
   "source": [
    "# 0.0 Imports"
   ]
  },
  {
   "cell_type": "code",
   "execution_count": 84,
   "id": "80544473",
   "metadata": {
    "ExecuteTime": {
     "end_time": "2021-06-30T12:55:02.546711Z",
     "start_time": "2021-06-30T12:55:02.535711Z"
    }
   },
   "outputs": [],
   "source": [
    "import pandas as pd\n",
    "from boruta import BorutaPy\n",
    "from sklearn.ensemble      import RandomForestRegressor\n",
    "import seaborn as sns\n",
    "from matplotlib            import pyplot as plt"
   ]
  },
  {
   "cell_type": "markdown",
   "id": "a722d523",
   "metadata": {
    "heading_collapsed": true
   },
   "source": [
    "# 1.0 Load Data\n"
   ]
  },
  {
   "cell_type": "code",
   "execution_count": 3,
   "id": "74e734b0",
   "metadata": {
    "ExecuteTime": {
     "end_time": "2021-06-30T12:26:13.515572Z",
     "start_time": "2021-06-30T12:26:12.935530Z"
    },
    "hidden": true
   },
   "outputs": [],
   "source": [
    "dscombined = pd.read_csv( 'C:/Users/PICHAU/Desktop/AIbox-Feedback/AIBOX-Mlfeedback/datasets/combined.csv' )\n",
    "dsLIWC = pd.read_csv( 'C:/Users/PICHAU/Desktop/AIbox-Feedback/AIBOX-Mlfeedback/datasets/combinedLIWC.csv' )\n",
    "dsCohmetrix = pd.read_csv( 'C:/Users/PICHAU/Desktop/AIbox-Feedback/AIBOX-Mlfeedback/datasets/combined_CohMetrix.csv' )\n"
   ]
  },
  {
   "cell_type": "markdown",
   "id": "f503bb02",
   "metadata": {
    "heading_collapsed": true
   },
   "source": [
    "# 2.0 Merging data"
   ]
  },
  {
   "cell_type": "code",
   "execution_count": 7,
   "id": "0b9adf87",
   "metadata": {
    "ExecuteTime": {
     "end_time": "2021-06-30T12:26:14.305630Z",
     "start_time": "2021-06-30T12:26:14.133618Z"
    },
    "hidden": true
   },
   "outputs": [],
   "source": [
    "dsCohmetrix = dsCohmetrix.rename( columns={ 'ID':'id' } )"
   ]
  },
  {
   "cell_type": "code",
   "execution_count": 8,
   "id": "aad8cad1",
   "metadata": {
    "ExecuteTime": {
     "end_time": "2021-06-30T12:26:14.751663Z",
     "start_time": "2021-06-30T12:26:14.307631Z"
    },
    "hidden": true
   },
   "outputs": [],
   "source": [
    "mergedData = pd.merge(dsCohmetrix, dsLIWC, how='left', on='id')\n",
    "mergedData = pd.merge(mergedData, dscombined, how='left', on='id')\n",
    "# df1.merge(df2, how='inner', on='a')"
   ]
  },
  {
   "cell_type": "code",
   "execution_count": 9,
   "id": "bee26cc9",
   "metadata": {
    "ExecuteTime": {
     "end_time": "2021-06-30T12:26:15.053685Z",
     "start_time": "2021-06-30T12:26:14.754664Z"
    },
    "hidden": true
   },
   "outputs": [
    {
     "data": {
      "text/html": [
       "<div>\n",
       "<style scoped>\n",
       "    .dataframe tbody tr th:only-of-type {\n",
       "        vertical-align: middle;\n",
       "    }\n",
       "\n",
       "    .dataframe tbody tr th {\n",
       "        vertical-align: top;\n",
       "    }\n",
       "\n",
       "    .dataframe thead th {\n",
       "        text-align: right;\n",
       "    }\n",
       "</style>\n",
       "<table border=\"1\" class=\"dataframe\">\n",
       "  <thead>\n",
       "    <tr style=\"text-align: right;\">\n",
       "      <th></th>\n",
       "      <th>id</th>\n",
       "      <th>cm.DESPC</th>\n",
       "      <th>cm.DESSC</th>\n",
       "      <th>cm.DESWC</th>\n",
       "      <th>cm.DESPL</th>\n",
       "      <th>cm.DESPLd</th>\n",
       "      <th>cm.DESSL</th>\n",
       "      <th>cm.DESSLd</th>\n",
       "      <th>cm.DESWLsy</th>\n",
       "      <th>cm.DESWLsyd</th>\n",
       "      <th>...</th>\n",
       "      <th>liwc.leisure</th>\n",
       "      <th>liwc.home</th>\n",
       "      <th>liwc.money</th>\n",
       "      <th>liwc.relig</th>\n",
       "      <th>liwc.death</th>\n",
       "      <th>liwc.assent</th>\n",
       "      <th>liwc.nonfl</th>\n",
       "      <th>liwc.filler</th>\n",
       "      <th>feedback</th>\n",
       "      <th>classe</th>\n",
       "    </tr>\n",
       "  </thead>\n",
       "  <tbody>\n",
       "    <tr>\n",
       "      <th>0</th>\n",
       "      <td>23</td>\n",
       "      <td>1</td>\n",
       "      <td>1</td>\n",
       "      <td>18</td>\n",
       "      <td>1.0</td>\n",
       "      <td>0.0</td>\n",
       "      <td>17.000000</td>\n",
       "      <td>0.000000</td>\n",
       "      <td>1.888889</td>\n",
       "      <td>0.900254</td>\n",
       "      <td>...</td>\n",
       "      <td>1</td>\n",
       "      <td>0</td>\n",
       "      <td>0</td>\n",
       "      <td>0</td>\n",
       "      <td>0</td>\n",
       "      <td>0</td>\n",
       "      <td>0</td>\n",
       "      <td>0</td>\n",
       "      <td>Ler outros textos sobre o assunto para lher da...</td>\n",
       "      <td>0</td>\n",
       "    </tr>\n",
       "    <tr>\n",
       "      <th>1</th>\n",
       "      <td>24</td>\n",
       "      <td>1</td>\n",
       "      <td>2</td>\n",
       "      <td>24</td>\n",
       "      <td>2.0</td>\n",
       "      <td>0.0</td>\n",
       "      <td>10.500000</td>\n",
       "      <td>0.500000</td>\n",
       "      <td>1.916667</td>\n",
       "      <td>1.100066</td>\n",
       "      <td>...</td>\n",
       "      <td>1</td>\n",
       "      <td>0</td>\n",
       "      <td>1</td>\n",
       "      <td>0</td>\n",
       "      <td>0</td>\n",
       "      <td>0</td>\n",
       "      <td>0</td>\n",
       "      <td>0</td>\n",
       "      <td>Procure ler mais; para escrever mais acerca do...</td>\n",
       "      <td>0</td>\n",
       "    </tr>\n",
       "    <tr>\n",
       "      <th>2</th>\n",
       "      <td>35</td>\n",
       "      <td>1</td>\n",
       "      <td>2</td>\n",
       "      <td>31</td>\n",
       "      <td>2.0</td>\n",
       "      <td>0.0</td>\n",
       "      <td>12.500000</td>\n",
       "      <td>0.500000</td>\n",
       "      <td>1.741935</td>\n",
       "      <td>0.964978</td>\n",
       "      <td>...</td>\n",
       "      <td>2</td>\n",
       "      <td>0</td>\n",
       "      <td>0</td>\n",
       "      <td>0</td>\n",
       "      <td>0</td>\n",
       "      <td>0</td>\n",
       "      <td>0</td>\n",
       "      <td>0</td>\n",
       "      <td>Texto bom; precisa apenas ler mais um pouco; p...</td>\n",
       "      <td>0</td>\n",
       "    </tr>\n",
       "    <tr>\n",
       "      <th>3</th>\n",
       "      <td>37</td>\n",
       "      <td>1</td>\n",
       "      <td>1</td>\n",
       "      <td>7</td>\n",
       "      <td>1.0</td>\n",
       "      <td>0.0</td>\n",
       "      <td>6.000000</td>\n",
       "      <td>0.000000</td>\n",
       "      <td>1.857143</td>\n",
       "      <td>1.069045</td>\n",
       "      <td>...</td>\n",
       "      <td>0</td>\n",
       "      <td>0</td>\n",
       "      <td>0</td>\n",
       "      <td>0</td>\n",
       "      <td>0</td>\n",
       "      <td>0</td>\n",
       "      <td>0</td>\n",
       "      <td>0</td>\n",
       "      <td>Ter cuidado com copias da internet.</td>\n",
       "      <td>0</td>\n",
       "    </tr>\n",
       "    <tr>\n",
       "      <th>4</th>\n",
       "      <td>68</td>\n",
       "      <td>1</td>\n",
       "      <td>4</td>\n",
       "      <td>32</td>\n",
       "      <td>4.0</td>\n",
       "      <td>0.0</td>\n",
       "      <td>6.500000</td>\n",
       "      <td>3.640055</td>\n",
       "      <td>1.937500</td>\n",
       "      <td>1.268413</td>\n",
       "      <td>...</td>\n",
       "      <td>0</td>\n",
       "      <td>0</td>\n",
       "      <td>1</td>\n",
       "      <td>0</td>\n",
       "      <td>0</td>\n",
       "      <td>2</td>\n",
       "      <td>0</td>\n",
       "      <td>0</td>\n",
       "      <td>Carssimo; o trabalho precisa de uma sistematiz...</td>\n",
       "      <td>1</td>\n",
       "    </tr>\n",
       "    <tr>\n",
       "      <th>...</th>\n",
       "      <td>...</td>\n",
       "      <td>...</td>\n",
       "      <td>...</td>\n",
       "      <td>...</td>\n",
       "      <td>...</td>\n",
       "      <td>...</td>\n",
       "      <td>...</td>\n",
       "      <td>...</td>\n",
       "      <td>...</td>\n",
       "      <td>...</td>\n",
       "      <td>...</td>\n",
       "      <td>...</td>\n",
       "      <td>...</td>\n",
       "      <td>...</td>\n",
       "      <td>...</td>\n",
       "      <td>...</td>\n",
       "      <td>...</td>\n",
       "      <td>...</td>\n",
       "      <td>...</td>\n",
       "      <td>...</td>\n",
       "      <td>...</td>\n",
       "    </tr>\n",
       "    <tr>\n",
       "      <th>995</th>\n",
       "      <td>13809</td>\n",
       "      <td>1</td>\n",
       "      <td>2</td>\n",
       "      <td>28</td>\n",
       "      <td>2.0</td>\n",
       "      <td>0.0</td>\n",
       "      <td>12.000000</td>\n",
       "      <td>11.000000</td>\n",
       "      <td>2.250000</td>\n",
       "      <td>1.404358</td>\n",
       "      <td>...</td>\n",
       "      <td>0</td>\n",
       "      <td>0</td>\n",
       "      <td>1</td>\n",
       "      <td>0</td>\n",
       "      <td>0</td>\n",
       "      <td>0</td>\n",
       "      <td>1</td>\n",
       "      <td>0</td>\n",
       "      <td>Rosivalda; timo texto; suas reflexes comparati...</td>\n",
       "      <td>1</td>\n",
       "    </tr>\n",
       "    <tr>\n",
       "      <th>996</th>\n",
       "      <td>13810</td>\n",
       "      <td>1</td>\n",
       "      <td>2</td>\n",
       "      <td>66</td>\n",
       "      <td>2.0</td>\n",
       "      <td>0.0</td>\n",
       "      <td>29.500000</td>\n",
       "      <td>27.500000</td>\n",
       "      <td>1.969697</td>\n",
       "      <td>1.149845</td>\n",
       "      <td>...</td>\n",
       "      <td>2</td>\n",
       "      <td>0</td>\n",
       "      <td>1</td>\n",
       "      <td>0</td>\n",
       "      <td>0</td>\n",
       "      <td>1</td>\n",
       "      <td>0</td>\n",
       "      <td>0</td>\n",
       "      <td>Ruth; bom texto sobre o filme e sobre as suas ...</td>\n",
       "      <td>1</td>\n",
       "    </tr>\n",
       "    <tr>\n",
       "      <th>997</th>\n",
       "      <td>13811</td>\n",
       "      <td>1</td>\n",
       "      <td>2</td>\n",
       "      <td>37</td>\n",
       "      <td>2.0</td>\n",
       "      <td>0.0</td>\n",
       "      <td>16.500000</td>\n",
       "      <td>15.500000</td>\n",
       "      <td>2.027027</td>\n",
       "      <td>1.213042</td>\n",
       "      <td>...</td>\n",
       "      <td>2</td>\n",
       "      <td>2</td>\n",
       "      <td>0</td>\n",
       "      <td>0</td>\n",
       "      <td>0</td>\n",
       "      <td>1</td>\n",
       "      <td>2</td>\n",
       "      <td>0</td>\n",
       "      <td>Silmara; excelente texto e leitura do filme co...</td>\n",
       "      <td>1</td>\n",
       "    </tr>\n",
       "    <tr>\n",
       "      <th>998</th>\n",
       "      <td>13813</td>\n",
       "      <td>1</td>\n",
       "      <td>3</td>\n",
       "      <td>28</td>\n",
       "      <td>3.0</td>\n",
       "      <td>0.0</td>\n",
       "      <td>7.666667</td>\n",
       "      <td>10.143416</td>\n",
       "      <td>1.964286</td>\n",
       "      <td>1.170063</td>\n",
       "      <td>...</td>\n",
       "      <td>2</td>\n",
       "      <td>0</td>\n",
       "      <td>0</td>\n",
       "      <td>1</td>\n",
       "      <td>0</td>\n",
       "      <td>0</td>\n",
       "      <td>1</td>\n",
       "      <td>0</td>\n",
       "      <td>Sueli; boa leitura do filme e da realidade; su...</td>\n",
       "      <td>1</td>\n",
       "    </tr>\n",
       "    <tr>\n",
       "      <th>999</th>\n",
       "      <td>13814</td>\n",
       "      <td>1</td>\n",
       "      <td>3</td>\n",
       "      <td>28</td>\n",
       "      <td>3.0</td>\n",
       "      <td>0.0</td>\n",
       "      <td>7.666667</td>\n",
       "      <td>10.143416</td>\n",
       "      <td>2.000000</td>\n",
       "      <td>1.217161</td>\n",
       "      <td>...</td>\n",
       "      <td>2</td>\n",
       "      <td>0</td>\n",
       "      <td>0</td>\n",
       "      <td>1</td>\n",
       "      <td>0</td>\n",
       "      <td>0</td>\n",
       "      <td>1</td>\n",
       "      <td>0</td>\n",
       "      <td>Taciana; boa leitura do filme e da realidade; ...</td>\n",
       "      <td>1</td>\n",
       "    </tr>\n",
       "  </tbody>\n",
       "</table>\n",
       "<p>1000 rows × 161 columns</p>\n",
       "</div>"
      ],
      "text/plain": [
       "        id  cm.DESPC  cm.DESSC  cm.DESWC  cm.DESPL  cm.DESPLd   cm.DESSL  \\\n",
       "0       23         1         1        18       1.0        0.0  17.000000   \n",
       "1       24         1         2        24       2.0        0.0  10.500000   \n",
       "2       35         1         2        31       2.0        0.0  12.500000   \n",
       "3       37         1         1         7       1.0        0.0   6.000000   \n",
       "4       68         1         4        32       4.0        0.0   6.500000   \n",
       "..     ...       ...       ...       ...       ...        ...        ...   \n",
       "995  13809         1         2        28       2.0        0.0  12.000000   \n",
       "996  13810         1         2        66       2.0        0.0  29.500000   \n",
       "997  13811         1         2        37       2.0        0.0  16.500000   \n",
       "998  13813         1         3        28       3.0        0.0   7.666667   \n",
       "999  13814         1         3        28       3.0        0.0   7.666667   \n",
       "\n",
       "     cm.DESSLd  cm.DESWLsy  cm.DESWLsyd  ...  liwc.leisure  liwc.home  \\\n",
       "0     0.000000    1.888889     0.900254  ...             1          0   \n",
       "1     0.500000    1.916667     1.100066  ...             1          0   \n",
       "2     0.500000    1.741935     0.964978  ...             2          0   \n",
       "3     0.000000    1.857143     1.069045  ...             0          0   \n",
       "4     3.640055    1.937500     1.268413  ...             0          0   \n",
       "..         ...         ...          ...  ...           ...        ...   \n",
       "995  11.000000    2.250000     1.404358  ...             0          0   \n",
       "996  27.500000    1.969697     1.149845  ...             2          0   \n",
       "997  15.500000    2.027027     1.213042  ...             2          2   \n",
       "998  10.143416    1.964286     1.170063  ...             2          0   \n",
       "999  10.143416    2.000000     1.217161  ...             2          0   \n",
       "\n",
       "     liwc.money  liwc.relig  liwc.death  liwc.assent  liwc.nonfl  liwc.filler  \\\n",
       "0             0           0           0            0           0            0   \n",
       "1             1           0           0            0           0            0   \n",
       "2             0           0           0            0           0            0   \n",
       "3             0           0           0            0           0            0   \n",
       "4             1           0           0            2           0            0   \n",
       "..          ...         ...         ...          ...         ...          ...   \n",
       "995           1           0           0            0           1            0   \n",
       "996           1           0           0            1           0            0   \n",
       "997           0           0           0            1           2            0   \n",
       "998           0           1           0            0           1            0   \n",
       "999           0           1           0            0           1            0   \n",
       "\n",
       "                                              feedback  classe  \n",
       "0    Ler outros textos sobre o assunto para lher da...       0  \n",
       "1    Procure ler mais; para escrever mais acerca do...       0  \n",
       "2    Texto bom; precisa apenas ler mais um pouco; p...       0  \n",
       "3                  Ter cuidado com copias da internet.       0  \n",
       "4    Carssimo; o trabalho precisa de uma sistematiz...       1  \n",
       "..                                                 ...     ...  \n",
       "995  Rosivalda; timo texto; suas reflexes comparati...       1  \n",
       "996  Ruth; bom texto sobre o filme e sobre as suas ...       1  \n",
       "997  Silmara; excelente texto e leitura do filme co...       1  \n",
       "998  Sueli; boa leitura do filme e da realidade; su...       1  \n",
       "999  Taciana; boa leitura do filme e da realidade; ...       1  \n",
       "\n",
       "[1000 rows x 161 columns]"
      ]
     },
     "execution_count": 9,
     "metadata": {},
     "output_type": "execute_result"
    }
   ],
   "source": [
    "mergedData"
   ]
  },
  {
   "cell_type": "markdown",
   "id": "438e11b7",
   "metadata": {
    "heading_collapsed": true,
    "hidden": true
   },
   "source": [
    "## 2.1 Check Nan"
   ]
  },
  {
   "cell_type": "code",
   "execution_count": 68,
   "id": "8d17e8b6",
   "metadata": {
    "ExecuteTime": {
     "end_time": "2021-06-30T12:46:24.643655Z",
     "start_time": "2021-06-30T12:46:24.623654Z"
    },
    "hidden": true
   },
   "outputs": [
    {
     "data": {
      "text/plain": [
       "id                0\n",
       "liwc.ipron        0\n",
       "liwc.article      0\n",
       "liwc.verb         0\n",
       "liwc.auxverb      0\n",
       "               ... \n",
       "cm.RDL2         165\n",
       "cm.CRFCWO1      165\n",
       "cm.CRFCWO1d     165\n",
       "cm.LSASSpd      362\n",
       "cm.LSASSp       362\n",
       "Length: 161, dtype: int64"
      ]
     },
     "execution_count": 68,
     "metadata": {},
     "output_type": "execute_result"
    }
   ],
   "source": [
    "mergedData.isna().sum().sort_values()\n"
   ]
  },
  {
   "cell_type": "markdown",
   "id": "767f3f71",
   "metadata": {
    "hidden": true
   },
   "source": [
    "## 2.2 Fillout NAn"
   ]
  },
  {
   "cell_type": "code",
   "execution_count": 71,
   "id": "54d041a0",
   "metadata": {
    "ExecuteTime": {
     "end_time": "2021-06-30T12:48:15.961836Z",
     "start_time": "2021-06-30T12:48:15.935835Z"
    },
    "hidden": true
   },
   "outputs": [],
   "source": [
    "mergedData = mergedData.dropna(axis=1, how='any', inplace=False) # axis=1 => columns"
   ]
  },
  {
   "cell_type": "code",
   "execution_count": 72,
   "id": "9fad7f78",
   "metadata": {
    "ExecuteTime": {
     "end_time": "2021-06-30T12:48:20.301153Z",
     "start_time": "2021-06-30T12:48:20.288155Z"
    },
    "hidden": true
   },
   "outputs": [
    {
     "data": {
      "text/plain": [
       "id              0\n",
       "liwc.article    0\n",
       "liwc.verb       0\n",
       "liwc.auxverb    0\n",
       "liwc.past       0\n",
       "               ..\n",
       "cm.SMCAUSr      0\n",
       "cm.SMCAUSlsa    0\n",
       "cm.SMCAUSwn     0\n",
       "cm.CNCComp      0\n",
       "classe          0\n",
       "Length: 155, dtype: int64"
      ]
     },
     "execution_count": 72,
     "metadata": {},
     "output_type": "execute_result"
    }
   ],
   "source": [
    "mergedData.isna().sum().sort_values()"
   ]
  },
  {
   "cell_type": "markdown",
   "id": "8e3bca23",
   "metadata": {
    "heading_collapsed": true
   },
   "source": [
    "# 3.0 Data Preparation\n",
    "\n"
   ]
  },
  {
   "cell_type": "markdown",
   "id": "2079ee4b",
   "metadata": {
    "heading_collapsed": true,
    "hidden": true
   },
   "source": [
    "## 3.1 Normalization"
   ]
  },
  {
   "cell_type": "code",
   "execution_count": 10,
   "id": "f6e110ae",
   "metadata": {
    "ExecuteTime": {
     "end_time": "2021-06-30T12:26:15.069686Z",
     "start_time": "2021-06-30T12:26:15.056686Z"
    },
    "hidden": true
   },
   "outputs": [],
   "source": [
    "# no analyzed variable looks like a normal distribution"
   ]
  },
  {
   "cell_type": "markdown",
   "id": "f144a1d0",
   "metadata": {
    "heading_collapsed": true,
    "hidden": true
   },
   "source": [
    "## 3.2 Rescaling"
   ]
  },
  {
   "cell_type": "code",
   "execution_count": 11,
   "id": "9797d5a9",
   "metadata": {
    "ExecuteTime": {
     "end_time": "2021-06-30T12:26:15.229700Z",
     "start_time": "2021-06-30T12:26:15.071689Z"
    },
    "hidden": true
   },
   "outputs": [
    {
     "data": {
      "text/plain": [
       "id               int64\n",
       "cm.DESPC         int64\n",
       "cm.DESSC         int64\n",
       "cm.DESWC         int64\n",
       "cm.DESPL       float64\n",
       "                ...   \n",
       "liwc.assent      int64\n",
       "liwc.nonfl       int64\n",
       "liwc.filler      int64\n",
       "feedback        object\n",
       "classe           int64\n",
       "Length: 161, dtype: object"
      ]
     },
     "execution_count": 11,
     "metadata": {},
     "output_type": "execute_result"
    }
   ],
   "source": [
    "mergedData.dtypes"
   ]
  },
  {
   "cell_type": "code",
   "execution_count": 12,
   "id": "7c4c3f56",
   "metadata": {
    "ExecuteTime": {
     "end_time": "2021-06-30T12:26:15.369708Z",
     "start_time": "2021-06-30T12:26:15.231700Z"
    },
    "hidden": true
   },
   "outputs": [
    {
     "name": "stdout",
     "output_type": "stream",
     "text": [
      "                                              feedback\n",
      "0    Ler outros textos sobre o assunto para lher da...\n",
      "1    Procure ler mais; para escrever mais acerca do...\n",
      "2    Texto bom; precisa apenas ler mais um pouco; p...\n",
      "3                  Ter cuidado com copias da internet.\n",
      "4    Carssimo; o trabalho precisa de uma sistematiz...\n",
      "..                                                 ...\n",
      "995  Rosivalda; timo texto; suas reflexes comparati...\n",
      "996  Ruth; bom texto sobre o filme e sobre as suas ...\n",
      "997  Silmara; excelente texto e leitura do filme co...\n",
      "998  Sueli; boa leitura do filme e da realidade; su...\n",
      "999  Taciana; boa leitura do filme e da realidade; ...\n",
      "\n",
      "[1000 rows x 1 columns]\n"
     ]
    }
   ],
   "source": [
    "visu = mergedData.select_dtypes( exclude=['int64', 'float64','int32','UInt32'] )\n",
    "print(visu)"
   ]
  },
  {
   "cell_type": "code",
   "execution_count": 13,
   "id": "559624bf",
   "metadata": {
    "ExecuteTime": {
     "end_time": "2021-06-30T12:26:15.463716Z",
     "start_time": "2021-06-30T12:26:15.371709Z"
    },
    "hidden": true
   },
   "outputs": [],
   "source": [
    "# thus, due to feedback be a no-analyzed variable, merged dataset doesn't need rescaling\n",
    "# so, the other variables doesnt need a changes, for now, because the outliers problem will be solved on cohmetrix software  "
   ]
  },
  {
   "cell_type": "markdown",
   "id": "c2ccf5d5",
   "metadata": {
    "heading_collapsed": true,
    "hidden": true
   },
   "source": [
    "## 3.3 Transformation\n"
   ]
  },
  {
   "cell_type": "code",
   "execution_count": 14,
   "id": "973f5d41",
   "metadata": {
    "ExecuteTime": {
     "end_time": "2021-06-30T12:26:15.605726Z",
     "start_time": "2021-06-30T12:26:15.465716Z"
    },
    "hidden": true
   },
   "outputs": [],
   "source": [
    "# once time again, transformation is not necessary, due to mergedData only have feedback that is a categorical variable and the response variable is only 0 and 1"
   ]
  },
  {
   "cell_type": "markdown",
   "id": "3842d91d",
   "metadata": {},
   "source": [
    "# 4.0 EDA - Correlation of numAtttributes"
   ]
  },
  {
   "cell_type": "code",
   "execution_count": 78,
   "id": "cc56a7f7",
   "metadata": {
    "ExecuteTime": {
     "end_time": "2021-06-30T12:53:49.367335Z",
     "start_time": "2021-06-30T12:53:49.359333Z"
    }
   },
   "outputs": [],
   "source": [
    "num_attributes = mergedData.select_dtypes( include=['int64', 'float64'] )"
   ]
  },
  {
   "cell_type": "code",
   "execution_count": null,
   "id": "0aeb5c81",
   "metadata": {},
   "outputs": [],
   "source": [
    "correlation = num_attributes.corr( method='pearson' )\n",
    "plt.figure( figsize=( 25, 19 ) )\n",
    "sns.heatmap( correlation, annot=True );"
   ]
  },
  {
   "cell_type": "markdown",
   "id": "aa2b6e28",
   "metadata": {
    "heading_collapsed": true
   },
   "source": [
    "# 5.0 Feature Selection\n"
   ]
  },
  {
   "cell_type": "markdown",
   "id": "baf60c13",
   "metadata": {
    "hidden": true
   },
   "source": [
    "## 4.1 Split dataframe into training and test dataset"
   ]
  },
  {
   "cell_type": "code",
   "execution_count": 73,
   "id": "fd77bc6d",
   "metadata": {
    "ExecuteTime": {
     "end_time": "2021-06-30T12:48:50.963410Z",
     "start_time": "2021-06-30T12:48:50.944406Z"
    },
    "hidden": true
   },
   "outputs": [],
   "source": [
    "# training dataset\n",
    "X_train = mergedData[mergedData['id']<12800] # this id split dataset in 3/4 proportion\n",
    "y_train = X_train['classe']\n",
    "\n",
    "# test dataset \n",
    "X_test = mergedData[mergedData['id']>=12800] # this id split dataset in 3/4 proportion\n",
    "y_test = X_test['classe']\n"
   ]
  },
  {
   "cell_type": "markdown",
   "id": "2db86c8c",
   "metadata": {
    "hidden": true
   },
   "source": [
    "## 4.2 Boruta as Feature Selector"
   ]
  },
  {
   "cell_type": "code",
   "execution_count": 16,
   "id": "a6c1bc1e",
   "metadata": {
    "ExecuteTime": {
     "end_time": "2021-06-30T12:26:16.227771Z",
     "start_time": "2021-06-30T12:26:15.815742Z"
    },
    "hidden": true
   },
   "outputs": [
    {
     "ename": "ValueError",
     "evalue": "Input contains NaN, infinity or a value too large for dtype('float64').",
     "output_type": "error",
     "traceback": [
      "\u001b[1;31m---------------------------------------------------------------------------\u001b[0m",
      "\u001b[1;31mValueError\u001b[0m                                Traceback (most recent call last)",
      "\u001b[1;32m<ipython-input-16-a17e34d68ed9>\u001b[0m in \u001b[0;36m<module>\u001b[1;34m\u001b[0m\n\u001b[0;32m      7\u001b[0m \u001b[1;33m\u001b[0m\u001b[0m\n\u001b[0;32m      8\u001b[0m \u001b[1;31m# define Boruta\u001b[0m\u001b[1;33m\u001b[0m\u001b[1;33m\u001b[0m\u001b[1;33m\u001b[0m\u001b[0m\n\u001b[1;32m----> 9\u001b[1;33m \u001b[0mboruta\u001b[0m \u001b[1;33m=\u001b[0m \u001b[0mBorutaPy\u001b[0m\u001b[1;33m(\u001b[0m \u001b[0mrf\u001b[0m\u001b[1;33m,\u001b[0m \u001b[0mn_estimators\u001b[0m\u001b[1;33m=\u001b[0m\u001b[1;34m'auto'\u001b[0m\u001b[1;33m,\u001b[0m \u001b[0mverbose\u001b[0m\u001b[1;33m=\u001b[0m\u001b[1;36m2\u001b[0m\u001b[1;33m,\u001b[0m \u001b[0mrandom_state\u001b[0m\u001b[1;33m=\u001b[0m\u001b[1;36m42\u001b[0m \u001b[1;33m)\u001b[0m\u001b[1;33m.\u001b[0m\u001b[0mfit\u001b[0m\u001b[1;33m(\u001b[0m \u001b[0mX_train_n\u001b[0m\u001b[1;33m,\u001b[0m \u001b[0my_train_n\u001b[0m \u001b[1;33m)\u001b[0m\u001b[1;33m\u001b[0m\u001b[1;33m\u001b[0m\u001b[0m\n\u001b[0m",
      "\u001b[1;32m~\\anaconda3\\envs\\DsemProd\\lib\\site-packages\\boruta\\boruta_py.py\u001b[0m in \u001b[0;36mfit\u001b[1;34m(self, X, y)\u001b[0m\n\u001b[0;32m    199\u001b[0m         \"\"\"\n\u001b[0;32m    200\u001b[0m \u001b[1;33m\u001b[0m\u001b[0m\n\u001b[1;32m--> 201\u001b[1;33m         \u001b[1;32mreturn\u001b[0m \u001b[0mself\u001b[0m\u001b[1;33m.\u001b[0m\u001b[0m_fit\u001b[0m\u001b[1;33m(\u001b[0m\u001b[0mX\u001b[0m\u001b[1;33m,\u001b[0m \u001b[0my\u001b[0m\u001b[1;33m)\u001b[0m\u001b[1;33m\u001b[0m\u001b[1;33m\u001b[0m\u001b[0m\n\u001b[0m\u001b[0;32m    202\u001b[0m \u001b[1;33m\u001b[0m\u001b[0m\n\u001b[0;32m    203\u001b[0m     \u001b[1;32mdef\u001b[0m \u001b[0mtransform\u001b[0m\u001b[1;33m(\u001b[0m\u001b[0mself\u001b[0m\u001b[1;33m,\u001b[0m \u001b[0mX\u001b[0m\u001b[1;33m,\u001b[0m \u001b[0mweak\u001b[0m\u001b[1;33m=\u001b[0m\u001b[1;32mFalse\u001b[0m\u001b[1;33m)\u001b[0m\u001b[1;33m:\u001b[0m\u001b[1;33m\u001b[0m\u001b[1;33m\u001b[0m\u001b[0m\n",
      "\u001b[1;32m~\\anaconda3\\envs\\DsemProd\\lib\\site-packages\\boruta\\boruta_py.py\u001b[0m in \u001b[0;36m_fit\u001b[1;34m(self, X, y)\u001b[0m\n\u001b[0;32m    249\u001b[0m     \u001b[1;32mdef\u001b[0m \u001b[0m_fit\u001b[0m\u001b[1;33m(\u001b[0m\u001b[0mself\u001b[0m\u001b[1;33m,\u001b[0m \u001b[0mX\u001b[0m\u001b[1;33m,\u001b[0m \u001b[0my\u001b[0m\u001b[1;33m)\u001b[0m\u001b[1;33m:\u001b[0m\u001b[1;33m\u001b[0m\u001b[1;33m\u001b[0m\u001b[0m\n\u001b[0;32m    250\u001b[0m         \u001b[1;31m# check input params\u001b[0m\u001b[1;33m\u001b[0m\u001b[1;33m\u001b[0m\u001b[1;33m\u001b[0m\u001b[0m\n\u001b[1;32m--> 251\u001b[1;33m         \u001b[0mself\u001b[0m\u001b[1;33m.\u001b[0m\u001b[0m_check_params\u001b[0m\u001b[1;33m(\u001b[0m\u001b[0mX\u001b[0m\u001b[1;33m,\u001b[0m \u001b[0my\u001b[0m\u001b[1;33m)\u001b[0m\u001b[1;33m\u001b[0m\u001b[1;33m\u001b[0m\u001b[0m\n\u001b[0m\u001b[0;32m    252\u001b[0m         \u001b[0mself\u001b[0m\u001b[1;33m.\u001b[0m\u001b[0mrandom_state\u001b[0m \u001b[1;33m=\u001b[0m \u001b[0mcheck_random_state\u001b[0m\u001b[1;33m(\u001b[0m\u001b[0mself\u001b[0m\u001b[1;33m.\u001b[0m\u001b[0mrandom_state\u001b[0m\u001b[1;33m)\u001b[0m\u001b[1;33m\u001b[0m\u001b[1;33m\u001b[0m\u001b[0m\n\u001b[0;32m    253\u001b[0m         \u001b[1;31m# setup variables for Boruta\u001b[0m\u001b[1;33m\u001b[0m\u001b[1;33m\u001b[0m\u001b[1;33m\u001b[0m\u001b[0m\n",
      "\u001b[1;32m~\\anaconda3\\envs\\DsemProd\\lib\\site-packages\\boruta\\boruta_py.py\u001b[0m in \u001b[0;36m_check_params\u001b[1;34m(self, X, y)\u001b[0m\n\u001b[0;32m    515\u001b[0m         \"\"\"\n\u001b[0;32m    516\u001b[0m         \u001b[1;31m# check X and y are consistent len, X is Array and y is column\u001b[0m\u001b[1;33m\u001b[0m\u001b[1;33m\u001b[0m\u001b[1;33m\u001b[0m\u001b[0m\n\u001b[1;32m--> 517\u001b[1;33m         \u001b[0mX\u001b[0m\u001b[1;33m,\u001b[0m \u001b[0my\u001b[0m \u001b[1;33m=\u001b[0m \u001b[0mcheck_X_y\u001b[0m\u001b[1;33m(\u001b[0m\u001b[0mX\u001b[0m\u001b[1;33m,\u001b[0m \u001b[0my\u001b[0m\u001b[1;33m)\u001b[0m\u001b[1;33m\u001b[0m\u001b[1;33m\u001b[0m\u001b[0m\n\u001b[0m\u001b[0;32m    518\u001b[0m         \u001b[1;32mif\u001b[0m \u001b[0mself\u001b[0m\u001b[1;33m.\u001b[0m\u001b[0mperc\u001b[0m \u001b[1;33m<=\u001b[0m \u001b[1;36m0\u001b[0m \u001b[1;32mor\u001b[0m \u001b[0mself\u001b[0m\u001b[1;33m.\u001b[0m\u001b[0mperc\u001b[0m \u001b[1;33m>\u001b[0m \u001b[1;36m100\u001b[0m\u001b[1;33m:\u001b[0m\u001b[1;33m\u001b[0m\u001b[1;33m\u001b[0m\u001b[0m\n\u001b[0;32m    519\u001b[0m             \u001b[1;32mraise\u001b[0m \u001b[0mValueError\u001b[0m\u001b[1;33m(\u001b[0m\u001b[1;34m'The percentile should be between 0 and 100.'\u001b[0m\u001b[1;33m)\u001b[0m\u001b[1;33m\u001b[0m\u001b[1;33m\u001b[0m\u001b[0m\n",
      "\u001b[1;32m~\\anaconda3\\envs\\DsemProd\\lib\\site-packages\\sklearn\\utils\\validation.py\u001b[0m in \u001b[0;36minner_f\u001b[1;34m(*args, **kwargs)\u001b[0m\n\u001b[0;32m     61\u001b[0m             \u001b[0mextra_args\u001b[0m \u001b[1;33m=\u001b[0m \u001b[0mlen\u001b[0m\u001b[1;33m(\u001b[0m\u001b[0margs\u001b[0m\u001b[1;33m)\u001b[0m \u001b[1;33m-\u001b[0m \u001b[0mlen\u001b[0m\u001b[1;33m(\u001b[0m\u001b[0mall_args\u001b[0m\u001b[1;33m)\u001b[0m\u001b[1;33m\u001b[0m\u001b[1;33m\u001b[0m\u001b[0m\n\u001b[0;32m     62\u001b[0m             \u001b[1;32mif\u001b[0m \u001b[0mextra_args\u001b[0m \u001b[1;33m<=\u001b[0m \u001b[1;36m0\u001b[0m\u001b[1;33m:\u001b[0m\u001b[1;33m\u001b[0m\u001b[1;33m\u001b[0m\u001b[0m\n\u001b[1;32m---> 63\u001b[1;33m                 \u001b[1;32mreturn\u001b[0m \u001b[0mf\u001b[0m\u001b[1;33m(\u001b[0m\u001b[1;33m*\u001b[0m\u001b[0margs\u001b[0m\u001b[1;33m,\u001b[0m \u001b[1;33m**\u001b[0m\u001b[0mkwargs\u001b[0m\u001b[1;33m)\u001b[0m\u001b[1;33m\u001b[0m\u001b[1;33m\u001b[0m\u001b[0m\n\u001b[0m\u001b[0;32m     64\u001b[0m \u001b[1;33m\u001b[0m\u001b[0m\n\u001b[0;32m     65\u001b[0m             \u001b[1;31m# extra_args > 0\u001b[0m\u001b[1;33m\u001b[0m\u001b[1;33m\u001b[0m\u001b[1;33m\u001b[0m\u001b[0m\n",
      "\u001b[1;32m~\\anaconda3\\envs\\DsemProd\\lib\\site-packages\\sklearn\\utils\\validation.py\u001b[0m in \u001b[0;36mcheck_X_y\u001b[1;34m(X, y, accept_sparse, accept_large_sparse, dtype, order, copy, force_all_finite, ensure_2d, allow_nd, multi_output, ensure_min_samples, ensure_min_features, y_numeric, estimator)\u001b[0m\n\u001b[0;32m    869\u001b[0m         \u001b[1;32mraise\u001b[0m \u001b[0mValueError\u001b[0m\u001b[1;33m(\u001b[0m\u001b[1;34m\"y cannot be None\"\u001b[0m\u001b[1;33m)\u001b[0m\u001b[1;33m\u001b[0m\u001b[1;33m\u001b[0m\u001b[0m\n\u001b[0;32m    870\u001b[0m \u001b[1;33m\u001b[0m\u001b[0m\n\u001b[1;32m--> 871\u001b[1;33m     X = check_array(X, accept_sparse=accept_sparse,\n\u001b[0m\u001b[0;32m    872\u001b[0m                     \u001b[0maccept_large_sparse\u001b[0m\u001b[1;33m=\u001b[0m\u001b[0maccept_large_sparse\u001b[0m\u001b[1;33m,\u001b[0m\u001b[1;33m\u001b[0m\u001b[1;33m\u001b[0m\u001b[0m\n\u001b[0;32m    873\u001b[0m                     \u001b[0mdtype\u001b[0m\u001b[1;33m=\u001b[0m\u001b[0mdtype\u001b[0m\u001b[1;33m,\u001b[0m \u001b[0morder\u001b[0m\u001b[1;33m=\u001b[0m\u001b[0morder\u001b[0m\u001b[1;33m,\u001b[0m \u001b[0mcopy\u001b[0m\u001b[1;33m=\u001b[0m\u001b[0mcopy\u001b[0m\u001b[1;33m,\u001b[0m\u001b[1;33m\u001b[0m\u001b[1;33m\u001b[0m\u001b[0m\n",
      "\u001b[1;32m~\\anaconda3\\envs\\DsemProd\\lib\\site-packages\\sklearn\\utils\\validation.py\u001b[0m in \u001b[0;36minner_f\u001b[1;34m(*args, **kwargs)\u001b[0m\n\u001b[0;32m     61\u001b[0m             \u001b[0mextra_args\u001b[0m \u001b[1;33m=\u001b[0m \u001b[0mlen\u001b[0m\u001b[1;33m(\u001b[0m\u001b[0margs\u001b[0m\u001b[1;33m)\u001b[0m \u001b[1;33m-\u001b[0m \u001b[0mlen\u001b[0m\u001b[1;33m(\u001b[0m\u001b[0mall_args\u001b[0m\u001b[1;33m)\u001b[0m\u001b[1;33m\u001b[0m\u001b[1;33m\u001b[0m\u001b[0m\n\u001b[0;32m     62\u001b[0m             \u001b[1;32mif\u001b[0m \u001b[0mextra_args\u001b[0m \u001b[1;33m<=\u001b[0m \u001b[1;36m0\u001b[0m\u001b[1;33m:\u001b[0m\u001b[1;33m\u001b[0m\u001b[1;33m\u001b[0m\u001b[0m\n\u001b[1;32m---> 63\u001b[1;33m                 \u001b[1;32mreturn\u001b[0m \u001b[0mf\u001b[0m\u001b[1;33m(\u001b[0m\u001b[1;33m*\u001b[0m\u001b[0margs\u001b[0m\u001b[1;33m,\u001b[0m \u001b[1;33m**\u001b[0m\u001b[0mkwargs\u001b[0m\u001b[1;33m)\u001b[0m\u001b[1;33m\u001b[0m\u001b[1;33m\u001b[0m\u001b[0m\n\u001b[0m\u001b[0;32m     64\u001b[0m \u001b[1;33m\u001b[0m\u001b[0m\n\u001b[0;32m     65\u001b[0m             \u001b[1;31m# extra_args > 0\u001b[0m\u001b[1;33m\u001b[0m\u001b[1;33m\u001b[0m\u001b[1;33m\u001b[0m\u001b[0m\n",
      "\u001b[1;32m~\\anaconda3\\envs\\DsemProd\\lib\\site-packages\\sklearn\\utils\\validation.py\u001b[0m in \u001b[0;36mcheck_array\u001b[1;34m(array, accept_sparse, accept_large_sparse, dtype, order, copy, force_all_finite, ensure_2d, allow_nd, ensure_min_samples, ensure_min_features, estimator)\u001b[0m\n\u001b[0;32m    718\u001b[0m \u001b[1;33m\u001b[0m\u001b[0m\n\u001b[0;32m    719\u001b[0m         \u001b[1;32mif\u001b[0m \u001b[0mforce_all_finite\u001b[0m\u001b[1;33m:\u001b[0m\u001b[1;33m\u001b[0m\u001b[1;33m\u001b[0m\u001b[0m\n\u001b[1;32m--> 720\u001b[1;33m             _assert_all_finite(array,\n\u001b[0m\u001b[0;32m    721\u001b[0m                                allow_nan=force_all_finite == 'allow-nan')\n\u001b[0;32m    722\u001b[0m \u001b[1;33m\u001b[0m\u001b[0m\n",
      "\u001b[1;32m~\\anaconda3\\envs\\DsemProd\\lib\\site-packages\\sklearn\\utils\\validation.py\u001b[0m in \u001b[0;36m_assert_all_finite\u001b[1;34m(X, allow_nan, msg_dtype)\u001b[0m\n\u001b[0;32m    101\u001b[0m                 not allow_nan and not np.isfinite(X).all()):\n\u001b[0;32m    102\u001b[0m             \u001b[0mtype_err\u001b[0m \u001b[1;33m=\u001b[0m \u001b[1;34m'infinity'\u001b[0m \u001b[1;32mif\u001b[0m \u001b[0mallow_nan\u001b[0m \u001b[1;32melse\u001b[0m \u001b[1;34m'NaN, infinity'\u001b[0m\u001b[1;33m\u001b[0m\u001b[1;33m\u001b[0m\u001b[0m\n\u001b[1;32m--> 103\u001b[1;33m             raise ValueError(\n\u001b[0m\u001b[0;32m    104\u001b[0m                     \u001b[0mmsg_err\u001b[0m\u001b[1;33m.\u001b[0m\u001b[0mformat\u001b[0m\u001b[1;33m\u001b[0m\u001b[1;33m\u001b[0m\u001b[0m\n\u001b[0;32m    105\u001b[0m                     (type_err,\n",
      "\u001b[1;31mValueError\u001b[0m: Input contains NaN, infinity or a value too large for dtype('float64')."
     ]
    }
   ],
   "source": [
    "# training and test dataset for Boruta\n",
    "X_train_n = X_train.drop( ['classe', 'feedback'], axis=1 ).values \n",
    "y_train_n = y_train.values.ravel() \n",
    "\n",
    "# define RandomForestRegressor\n",
    "rf = RandomForestRegressor( n_jobs=-1 )\n",
    "\n",
    "# define Boruta\n",
    "boruta = BorutaPy( rf, n_estimators='auto', verbose=2, random_state=42 ).fit( X_train_n, y_train_n )\n"
   ]
  },
  {
   "cell_type": "code",
   "execution_count": null,
   "id": "031a31b9",
   "metadata": {
    "ExecuteTime": {
     "end_time": "2021-06-30T12:26:16.231774Z",
     "start_time": "2021-06-30T12:25:55.344Z"
    },
    "hidden": true
   },
   "outputs": [],
   "source": [
    "X_train.drop( ['classe', 'feedback', 'id'], axis=1 ).select_dtypes( include=['float64'] )"
   ]
  },
  {
   "cell_type": "code",
   "execution_count": null,
   "id": "4de8636f",
   "metadata": {
    "hidden": true
   },
   "outputs": [],
   "source": []
  },
  {
   "cell_type": "code",
   "execution_count": null,
   "id": "a71743a5",
   "metadata": {
    "hidden": true
   },
   "outputs": [],
   "source": []
  },
  {
   "cell_type": "code",
   "execution_count": null,
   "id": "c0fd4255",
   "metadata": {
    "hidden": true
   },
   "outputs": [],
   "source": []
  },
  {
   "cell_type": "code",
   "execution_count": null,
   "id": "dbc7cce4",
   "metadata": {
    "hidden": true
   },
   "outputs": [],
   "source": []
  },
  {
   "cell_type": "code",
   "execution_count": null,
   "id": "b5a2c287",
   "metadata": {
    "hidden": true
   },
   "outputs": [],
   "source": []
  },
  {
   "cell_type": "code",
   "execution_count": null,
   "id": "1cb0d6e4",
   "metadata": {
    "hidden": true
   },
   "outputs": [],
   "source": []
  }
 ],
 "metadata": {
  "kernelspec": {
   "display_name": "Python 3",
   "language": "python",
   "name": "python3"
  },
  "language_info": {
   "codemirror_mode": {
    "name": "ipython",
    "version": 3
   },
   "file_extension": ".py",
   "mimetype": "text/x-python",
   "name": "python",
   "nbconvert_exporter": "python",
   "pygments_lexer": "ipython3",
   "version": "3.8.10"
  },
  "latex_envs": {
   "LaTeX_envs_menu_present": true,
   "autoclose": false,
   "autocomplete": true,
   "bibliofile": "biblio.bib",
   "cite_by": "apalike",
   "current_citInitial": 1,
   "eqLabelWithNumbers": true,
   "eqNumInitial": 1,
   "hotkeys": {
    "equation": "Ctrl-E",
    "itemize": "Ctrl-I"
   },
   "labels_anchors": false,
   "latex_user_defs": false,
   "report_style_numbering": false,
   "user_envs_cfg": false
  },
  "varInspector": {
   "cols": {
    "lenName": 16,
    "lenType": 16,
    "lenVar": 40
   },
   "kernels_config": {
    "python": {
     "delete_cmd_postfix": "",
     "delete_cmd_prefix": "del ",
     "library": "var_list.py",
     "varRefreshCmd": "print(var_dic_list())"
    },
    "r": {
     "delete_cmd_postfix": ") ",
     "delete_cmd_prefix": "rm(",
     "library": "var_list.r",
     "varRefreshCmd": "cat(var_dic_list()) "
    }
   },
   "types_to_exclude": [
    "module",
    "function",
    "builtin_function_or_method",
    "instance",
    "_Feature"
   ],
   "window_display": false
  }
 },
 "nbformat": 4,
 "nbformat_minor": 5
}
