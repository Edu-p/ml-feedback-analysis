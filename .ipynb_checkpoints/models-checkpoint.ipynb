{
 "cells": [
  {
   "cell_type": "code",
   "execution_count": 26,
   "id": "0212cdef",
   "metadata": {
    "ExecuteTime": {
     "end_time": "2021-06-29T10:11:09.880308Z",
     "start_time": "2021-06-29T10:11:09.871307Z"
    }
   },
   "outputs": [],
   "source": [
    "import pandas as pd\n",
    "from boruta import BorutaPy"
   ]
  },
  {
   "cell_type": "markdown",
   "id": "f1520ccd",
   "metadata": {
    "heading_collapsed": true
   },
   "source": [
    "# 1.0 Load Data\n"
   ]
  },
  {
   "cell_type": "code",
   "execution_count": 9,
   "id": "2ca12105",
   "metadata": {
    "ExecuteTime": {
     "end_time": "2021-06-29T09:54:50.185087Z",
     "start_time": "2021-06-29T09:54:50.131084Z"
    },
    "hidden": true
   },
   "outputs": [],
   "source": [
    "dscombined = pd.read_csv( 'C:/Users/PICHAU/Desktop/AIbox-Feedback/AIBOX-Mlfeedback/datasets/combined.csv' )\n",
    "dsLIWC = pd.read_csv( 'C:/Users/PICHAU/Desktop/AIbox-Feedback/AIBOX-Mlfeedback/datasets/combinedLIWC.csv' )\n",
    "dsCohmetrix = pd.read_csv( 'C:/Users/PICHAU/Desktop/AIbox-Feedback/AIBOX-Mlfeedback/datasets/combined_CohMetrix.csv' )\n"
   ]
  },
  {
   "cell_type": "markdown",
   "id": "dc942a98",
   "metadata": {
    "heading_collapsed": true
   },
   "source": [
    "# 2.0 Merging data"
   ]
  },
  {
   "cell_type": "code",
   "execution_count": 20,
   "id": "af89e45f",
   "metadata": {
    "ExecuteTime": {
     "end_time": "2021-06-29T10:05:19.962597Z",
     "start_time": "2021-06-29T10:05:19.955596Z"
    },
    "hidden": true
   },
   "outputs": [],
   "source": [
    "dsCohmetrix = dsCohmetrix.rename( columns={ 'ID':'id' } )"
   ]
  },
  {
   "cell_type": "code",
   "execution_count": 24,
   "id": "8e340dda",
   "metadata": {
    "ExecuteTime": {
     "end_time": "2021-06-29T10:06:33.956033Z",
     "start_time": "2021-06-29T10:06:33.921032Z"
    },
    "hidden": true
   },
   "outputs": [],
   "source": [
    "mergedData = pd.merge(dsCohmetrix, dsLIWC, how='left', on='id')\n",
    "mergedData = pd.merge(mergedData, dscombined, how='left', on='id')\n",
    "# df1.merge(df2, how='inner', on='a')"
   ]
  },
  {
   "cell_type": "code",
   "execution_count": 25,
   "id": "b37961bd",
   "metadata": {
    "ExecuteTime": {
     "end_time": "2021-06-29T10:06:40.969549Z",
     "start_time": "2021-06-29T10:06:40.913547Z"
    },
    "hidden": true
   },
   "outputs": [
    {
     "data": {
      "text/html": [
       "<div>\n",
       "<style scoped>\n",
       "    .dataframe tbody tr th:only-of-type {\n",
       "        vertical-align: middle;\n",
       "    }\n",
       "\n",
       "    .dataframe tbody tr th {\n",
       "        vertical-align: top;\n",
       "    }\n",
       "\n",
       "    .dataframe thead th {\n",
       "        text-align: right;\n",
       "    }\n",
       "</style>\n",
       "<table border=\"1\" class=\"dataframe\">\n",
       "  <thead>\n",
       "    <tr style=\"text-align: right;\">\n",
       "      <th></th>\n",
       "      <th>id</th>\n",
       "      <th>cm.DESPC</th>\n",
       "      <th>cm.DESSC</th>\n",
       "      <th>cm.DESWC</th>\n",
       "      <th>cm.DESPL</th>\n",
       "      <th>cm.DESPLd</th>\n",
       "      <th>cm.DESSL</th>\n",
       "      <th>cm.DESSLd</th>\n",
       "      <th>cm.DESWLsy</th>\n",
       "      <th>cm.DESWLsyd</th>\n",
       "      <th>...</th>\n",
       "      <th>liwc.leisure</th>\n",
       "      <th>liwc.home</th>\n",
       "      <th>liwc.money</th>\n",
       "      <th>liwc.relig</th>\n",
       "      <th>liwc.death</th>\n",
       "      <th>liwc.assent</th>\n",
       "      <th>liwc.nonfl</th>\n",
       "      <th>liwc.filler</th>\n",
       "      <th>feedback</th>\n",
       "      <th>classe</th>\n",
       "    </tr>\n",
       "  </thead>\n",
       "  <tbody>\n",
       "    <tr>\n",
       "      <th>0</th>\n",
       "      <td>23</td>\n",
       "      <td>1</td>\n",
       "      <td>1</td>\n",
       "      <td>18</td>\n",
       "      <td>1.0</td>\n",
       "      <td>0.0</td>\n",
       "      <td>17.000000</td>\n",
       "      <td>0.000000</td>\n",
       "      <td>1.888889</td>\n",
       "      <td>0.900254</td>\n",
       "      <td>...</td>\n",
       "      <td>1</td>\n",
       "      <td>0</td>\n",
       "      <td>0</td>\n",
       "      <td>0</td>\n",
       "      <td>0</td>\n",
       "      <td>0</td>\n",
       "      <td>0</td>\n",
       "      <td>0</td>\n",
       "      <td>Ler outros textos sobre o assunto para lher da...</td>\n",
       "      <td>0</td>\n",
       "    </tr>\n",
       "    <tr>\n",
       "      <th>1</th>\n",
       "      <td>24</td>\n",
       "      <td>1</td>\n",
       "      <td>2</td>\n",
       "      <td>24</td>\n",
       "      <td>2.0</td>\n",
       "      <td>0.0</td>\n",
       "      <td>10.500000</td>\n",
       "      <td>0.500000</td>\n",
       "      <td>1.916667</td>\n",
       "      <td>1.100066</td>\n",
       "      <td>...</td>\n",
       "      <td>1</td>\n",
       "      <td>0</td>\n",
       "      <td>1</td>\n",
       "      <td>0</td>\n",
       "      <td>0</td>\n",
       "      <td>0</td>\n",
       "      <td>0</td>\n",
       "      <td>0</td>\n",
       "      <td>Procure ler mais; para escrever mais acerca do...</td>\n",
       "      <td>0</td>\n",
       "    </tr>\n",
       "    <tr>\n",
       "      <th>2</th>\n",
       "      <td>35</td>\n",
       "      <td>1</td>\n",
       "      <td>2</td>\n",
       "      <td>31</td>\n",
       "      <td>2.0</td>\n",
       "      <td>0.0</td>\n",
       "      <td>12.500000</td>\n",
       "      <td>0.500000</td>\n",
       "      <td>1.741935</td>\n",
       "      <td>0.964978</td>\n",
       "      <td>...</td>\n",
       "      <td>2</td>\n",
       "      <td>0</td>\n",
       "      <td>0</td>\n",
       "      <td>0</td>\n",
       "      <td>0</td>\n",
       "      <td>0</td>\n",
       "      <td>0</td>\n",
       "      <td>0</td>\n",
       "      <td>Texto bom; precisa apenas ler mais um pouco; p...</td>\n",
       "      <td>0</td>\n",
       "    </tr>\n",
       "    <tr>\n",
       "      <th>3</th>\n",
       "      <td>37</td>\n",
       "      <td>1</td>\n",
       "      <td>1</td>\n",
       "      <td>7</td>\n",
       "      <td>1.0</td>\n",
       "      <td>0.0</td>\n",
       "      <td>6.000000</td>\n",
       "      <td>0.000000</td>\n",
       "      <td>1.857143</td>\n",
       "      <td>1.069045</td>\n",
       "      <td>...</td>\n",
       "      <td>0</td>\n",
       "      <td>0</td>\n",
       "      <td>0</td>\n",
       "      <td>0</td>\n",
       "      <td>0</td>\n",
       "      <td>0</td>\n",
       "      <td>0</td>\n",
       "      <td>0</td>\n",
       "      <td>Ter cuidado com copias da internet.</td>\n",
       "      <td>0</td>\n",
       "    </tr>\n",
       "    <tr>\n",
       "      <th>4</th>\n",
       "      <td>68</td>\n",
       "      <td>1</td>\n",
       "      <td>4</td>\n",
       "      <td>32</td>\n",
       "      <td>4.0</td>\n",
       "      <td>0.0</td>\n",
       "      <td>6.500000</td>\n",
       "      <td>3.640055</td>\n",
       "      <td>1.937500</td>\n",
       "      <td>1.268413</td>\n",
       "      <td>...</td>\n",
       "      <td>0</td>\n",
       "      <td>0</td>\n",
       "      <td>1</td>\n",
       "      <td>0</td>\n",
       "      <td>0</td>\n",
       "      <td>2</td>\n",
       "      <td>0</td>\n",
       "      <td>0</td>\n",
       "      <td>Carssimo; o trabalho precisa de uma sistematiz...</td>\n",
       "      <td>1</td>\n",
       "    </tr>\n",
       "    <tr>\n",
       "      <th>...</th>\n",
       "      <td>...</td>\n",
       "      <td>...</td>\n",
       "      <td>...</td>\n",
       "      <td>...</td>\n",
       "      <td>...</td>\n",
       "      <td>...</td>\n",
       "      <td>...</td>\n",
       "      <td>...</td>\n",
       "      <td>...</td>\n",
       "      <td>...</td>\n",
       "      <td>...</td>\n",
       "      <td>...</td>\n",
       "      <td>...</td>\n",
       "      <td>...</td>\n",
       "      <td>...</td>\n",
       "      <td>...</td>\n",
       "      <td>...</td>\n",
       "      <td>...</td>\n",
       "      <td>...</td>\n",
       "      <td>...</td>\n",
       "      <td>...</td>\n",
       "    </tr>\n",
       "    <tr>\n",
       "      <th>995</th>\n",
       "      <td>13809</td>\n",
       "      <td>1</td>\n",
       "      <td>2</td>\n",
       "      <td>28</td>\n",
       "      <td>2.0</td>\n",
       "      <td>0.0</td>\n",
       "      <td>12.000000</td>\n",
       "      <td>11.000000</td>\n",
       "      <td>2.250000</td>\n",
       "      <td>1.404358</td>\n",
       "      <td>...</td>\n",
       "      <td>0</td>\n",
       "      <td>0</td>\n",
       "      <td>1</td>\n",
       "      <td>0</td>\n",
       "      <td>0</td>\n",
       "      <td>0</td>\n",
       "      <td>1</td>\n",
       "      <td>0</td>\n",
       "      <td>Rosivalda; timo texto; suas reflexes comparati...</td>\n",
       "      <td>1</td>\n",
       "    </tr>\n",
       "    <tr>\n",
       "      <th>996</th>\n",
       "      <td>13810</td>\n",
       "      <td>1</td>\n",
       "      <td>2</td>\n",
       "      <td>66</td>\n",
       "      <td>2.0</td>\n",
       "      <td>0.0</td>\n",
       "      <td>29.500000</td>\n",
       "      <td>27.500000</td>\n",
       "      <td>1.969697</td>\n",
       "      <td>1.149845</td>\n",
       "      <td>...</td>\n",
       "      <td>2</td>\n",
       "      <td>0</td>\n",
       "      <td>1</td>\n",
       "      <td>0</td>\n",
       "      <td>0</td>\n",
       "      <td>1</td>\n",
       "      <td>0</td>\n",
       "      <td>0</td>\n",
       "      <td>Ruth; bom texto sobre o filme e sobre as suas ...</td>\n",
       "      <td>1</td>\n",
       "    </tr>\n",
       "    <tr>\n",
       "      <th>997</th>\n",
       "      <td>13811</td>\n",
       "      <td>1</td>\n",
       "      <td>2</td>\n",
       "      <td>37</td>\n",
       "      <td>2.0</td>\n",
       "      <td>0.0</td>\n",
       "      <td>16.500000</td>\n",
       "      <td>15.500000</td>\n",
       "      <td>2.027027</td>\n",
       "      <td>1.213042</td>\n",
       "      <td>...</td>\n",
       "      <td>2</td>\n",
       "      <td>2</td>\n",
       "      <td>0</td>\n",
       "      <td>0</td>\n",
       "      <td>0</td>\n",
       "      <td>1</td>\n",
       "      <td>2</td>\n",
       "      <td>0</td>\n",
       "      <td>Silmara; excelente texto e leitura do filme co...</td>\n",
       "      <td>1</td>\n",
       "    </tr>\n",
       "    <tr>\n",
       "      <th>998</th>\n",
       "      <td>13813</td>\n",
       "      <td>1</td>\n",
       "      <td>3</td>\n",
       "      <td>28</td>\n",
       "      <td>3.0</td>\n",
       "      <td>0.0</td>\n",
       "      <td>7.666667</td>\n",
       "      <td>10.143416</td>\n",
       "      <td>1.964286</td>\n",
       "      <td>1.170063</td>\n",
       "      <td>...</td>\n",
       "      <td>2</td>\n",
       "      <td>0</td>\n",
       "      <td>0</td>\n",
       "      <td>1</td>\n",
       "      <td>0</td>\n",
       "      <td>0</td>\n",
       "      <td>1</td>\n",
       "      <td>0</td>\n",
       "      <td>Sueli; boa leitura do filme e da realidade; su...</td>\n",
       "      <td>1</td>\n",
       "    </tr>\n",
       "    <tr>\n",
       "      <th>999</th>\n",
       "      <td>13814</td>\n",
       "      <td>1</td>\n",
       "      <td>3</td>\n",
       "      <td>28</td>\n",
       "      <td>3.0</td>\n",
       "      <td>0.0</td>\n",
       "      <td>7.666667</td>\n",
       "      <td>10.143416</td>\n",
       "      <td>2.000000</td>\n",
       "      <td>1.217161</td>\n",
       "      <td>...</td>\n",
       "      <td>2</td>\n",
       "      <td>0</td>\n",
       "      <td>0</td>\n",
       "      <td>1</td>\n",
       "      <td>0</td>\n",
       "      <td>0</td>\n",
       "      <td>1</td>\n",
       "      <td>0</td>\n",
       "      <td>Taciana; boa leitura do filme e da realidade; ...</td>\n",
       "      <td>1</td>\n",
       "    </tr>\n",
       "  </tbody>\n",
       "</table>\n",
       "<p>1000 rows × 161 columns</p>\n",
       "</div>"
      ],
      "text/plain": [
       "        id  cm.DESPC  cm.DESSC  cm.DESWC  cm.DESPL  cm.DESPLd   cm.DESSL  \\\n",
       "0       23         1         1        18       1.0        0.0  17.000000   \n",
       "1       24         1         2        24       2.0        0.0  10.500000   \n",
       "2       35         1         2        31       2.0        0.0  12.500000   \n",
       "3       37         1         1         7       1.0        0.0   6.000000   \n",
       "4       68         1         4        32       4.0        0.0   6.500000   \n",
       "..     ...       ...       ...       ...       ...        ...        ...   \n",
       "995  13809         1         2        28       2.0        0.0  12.000000   \n",
       "996  13810         1         2        66       2.0        0.0  29.500000   \n",
       "997  13811         1         2        37       2.0        0.0  16.500000   \n",
       "998  13813         1         3        28       3.0        0.0   7.666667   \n",
       "999  13814         1         3        28       3.0        0.0   7.666667   \n",
       "\n",
       "     cm.DESSLd  cm.DESWLsy  cm.DESWLsyd  ...  liwc.leisure  liwc.home  \\\n",
       "0     0.000000    1.888889     0.900254  ...             1          0   \n",
       "1     0.500000    1.916667     1.100066  ...             1          0   \n",
       "2     0.500000    1.741935     0.964978  ...             2          0   \n",
       "3     0.000000    1.857143     1.069045  ...             0          0   \n",
       "4     3.640055    1.937500     1.268413  ...             0          0   \n",
       "..         ...         ...          ...  ...           ...        ...   \n",
       "995  11.000000    2.250000     1.404358  ...             0          0   \n",
       "996  27.500000    1.969697     1.149845  ...             2          0   \n",
       "997  15.500000    2.027027     1.213042  ...             2          2   \n",
       "998  10.143416    1.964286     1.170063  ...             2          0   \n",
       "999  10.143416    2.000000     1.217161  ...             2          0   \n",
       "\n",
       "     liwc.money  liwc.relig  liwc.death  liwc.assent  liwc.nonfl  liwc.filler  \\\n",
       "0             0           0           0            0           0            0   \n",
       "1             1           0           0            0           0            0   \n",
       "2             0           0           0            0           0            0   \n",
       "3             0           0           0            0           0            0   \n",
       "4             1           0           0            2           0            0   \n",
       "..          ...         ...         ...          ...         ...          ...   \n",
       "995           1           0           0            0           1            0   \n",
       "996           1           0           0            1           0            0   \n",
       "997           0           0           0            1           2            0   \n",
       "998           0           1           0            0           1            0   \n",
       "999           0           1           0            0           1            0   \n",
       "\n",
       "                                              feedback  classe  \n",
       "0    Ler outros textos sobre o assunto para lher da...       0  \n",
       "1    Procure ler mais; para escrever mais acerca do...       0  \n",
       "2    Texto bom; precisa apenas ler mais um pouco; p...       0  \n",
       "3                  Ter cuidado com copias da internet.       0  \n",
       "4    Carssimo; o trabalho precisa de uma sistematiz...       1  \n",
       "..                                                 ...     ...  \n",
       "995  Rosivalda; timo texto; suas reflexes comparati...       1  \n",
       "996  Ruth; bom texto sobre o filme e sobre as suas ...       1  \n",
       "997  Silmara; excelente texto e leitura do filme co...       1  \n",
       "998  Sueli; boa leitura do filme e da realidade; su...       1  \n",
       "999  Taciana; boa leitura do filme e da realidade; ...       1  \n",
       "\n",
       "[1000 rows x 161 columns]"
      ]
     },
     "execution_count": 25,
     "metadata": {},
     "output_type": "execute_result"
    }
   ],
   "source": [
    "mergedData"
   ]
  },
  {
   "cell_type": "markdown",
   "id": "287deee7",
   "metadata": {},
   "source": [
    "# 3.0 Data Preparation\n",
    "\n"
   ]
  },
  {
   "cell_type": "markdown",
   "id": "31019683",
   "metadata": {
    "heading_collapsed": true
   },
   "source": [
    "## 3.1 Normalization"
   ]
  },
  {
   "cell_type": "code",
   "execution_count": 37,
   "id": "707a2709",
   "metadata": {
    "ExecuteTime": {
     "end_time": "2021-06-29T10:23:17.997328Z",
     "start_time": "2021-06-29T10:23:17.984325Z"
    },
    "hidden": true
   },
   "outputs": [],
   "source": [
    "# no analyzed variable looks like a normal distribution"
   ]
  },
  {
   "cell_type": "markdown",
   "id": "7dc8f262",
   "metadata": {},
   "source": [
    "## 3.2 Rescaling"
   ]
  },
  {
   "cell_type": "code",
   "execution_count": 47,
   "id": "3bdffd4c",
   "metadata": {
    "ExecuteTime": {
     "end_time": "2021-06-29T10:38:48.913266Z",
     "start_time": "2021-06-29T10:38:48.791258Z"
    }
   },
   "outputs": [
    {
     "ename": "KeyError",
     "evalue": "'0'",
     "output_type": "error",
     "traceback": [
      "\u001b[1;31m---------------------------------------------------------------------------\u001b[0m",
      "\u001b[1;31mKeyError\u001b[0m                                  Traceback (most recent call last)",
      "\u001b[1;32m~\\anaconda3\\envs\\DsemProd\\lib\\site-packages\\pandas\\core\\indexes\\base.py\u001b[0m in \u001b[0;36mget_loc\u001b[1;34m(self, key, method, tolerance)\u001b[0m\n\u001b[0;32m   3079\u001b[0m             \u001b[1;32mtry\u001b[0m\u001b[1;33m:\u001b[0m\u001b[1;33m\u001b[0m\u001b[1;33m\u001b[0m\u001b[0m\n\u001b[1;32m-> 3080\u001b[1;33m                 \u001b[1;32mreturn\u001b[0m \u001b[0mself\u001b[0m\u001b[1;33m.\u001b[0m\u001b[0m_engine\u001b[0m\u001b[1;33m.\u001b[0m\u001b[0mget_loc\u001b[0m\u001b[1;33m(\u001b[0m\u001b[0mcasted_key\u001b[0m\u001b[1;33m)\u001b[0m\u001b[1;33m\u001b[0m\u001b[1;33m\u001b[0m\u001b[0m\n\u001b[0m\u001b[0;32m   3081\u001b[0m             \u001b[1;32mexcept\u001b[0m \u001b[0mKeyError\u001b[0m \u001b[1;32mas\u001b[0m \u001b[0merr\u001b[0m\u001b[1;33m:\u001b[0m\u001b[1;33m\u001b[0m\u001b[1;33m\u001b[0m\u001b[0m\n",
      "\u001b[1;32mpandas\\_libs\\index.pyx\u001b[0m in \u001b[0;36mpandas._libs.index.IndexEngine.get_loc\u001b[1;34m()\u001b[0m\n",
      "\u001b[1;32mpandas\\_libs\\index.pyx\u001b[0m in \u001b[0;36mpandas._libs.index.IndexEngine.get_loc\u001b[1;34m()\u001b[0m\n",
      "\u001b[1;32mpandas\\_libs\\hashtable_class_helper.pxi\u001b[0m in \u001b[0;36mpandas._libs.hashtable.PyObjectHashTable.get_item\u001b[1;34m()\u001b[0m\n",
      "\u001b[1;32mpandas\\_libs\\hashtable_class_helper.pxi\u001b[0m in \u001b[0;36mpandas._libs.hashtable.PyObjectHashTable.get_item\u001b[1;34m()\u001b[0m\n",
      "\u001b[1;31mKeyError\u001b[0m: '0'",
      "\nThe above exception was the direct cause of the following exception:\n",
      "\u001b[1;31mKeyError\u001b[0m                                  Traceback (most recent call last)",
      "\u001b[1;32m<ipython-input-47-ebaff58d0924>\u001b[0m in \u001b[0;36m<module>\u001b[1;34m\u001b[0m\n\u001b[1;32m----> 1\u001b[1;33m \u001b[0mresults\u001b[0m\u001b[1;33m[\u001b[0m \u001b[0mresults\u001b[0m\u001b[1;33m[\u001b[0m\u001b[1;34m'0'\u001b[0m\u001b[1;33m]\u001b[0m\u001b[1;33m>\u001b[0m\u001b[1;36m0\u001b[0m \u001b[1;33m]\u001b[0m\u001b[1;33m\u001b[0m\u001b[1;33m\u001b[0m\u001b[0m\n\u001b[0m",
      "\u001b[1;32m~\\anaconda3\\envs\\DsemProd\\lib\\site-packages\\pandas\\core\\frame.py\u001b[0m in \u001b[0;36m__getitem__\u001b[1;34m(self, key)\u001b[0m\n\u001b[0;32m   3022\u001b[0m             \u001b[1;32mif\u001b[0m \u001b[0mself\u001b[0m\u001b[1;33m.\u001b[0m\u001b[0mcolumns\u001b[0m\u001b[1;33m.\u001b[0m\u001b[0mnlevels\u001b[0m \u001b[1;33m>\u001b[0m \u001b[1;36m1\u001b[0m\u001b[1;33m:\u001b[0m\u001b[1;33m\u001b[0m\u001b[1;33m\u001b[0m\u001b[0m\n\u001b[0;32m   3023\u001b[0m                 \u001b[1;32mreturn\u001b[0m \u001b[0mself\u001b[0m\u001b[1;33m.\u001b[0m\u001b[0m_getitem_multilevel\u001b[0m\u001b[1;33m(\u001b[0m\u001b[0mkey\u001b[0m\u001b[1;33m)\u001b[0m\u001b[1;33m\u001b[0m\u001b[1;33m\u001b[0m\u001b[0m\n\u001b[1;32m-> 3024\u001b[1;33m             \u001b[0mindexer\u001b[0m \u001b[1;33m=\u001b[0m \u001b[0mself\u001b[0m\u001b[1;33m.\u001b[0m\u001b[0mcolumns\u001b[0m\u001b[1;33m.\u001b[0m\u001b[0mget_loc\u001b[0m\u001b[1;33m(\u001b[0m\u001b[0mkey\u001b[0m\u001b[1;33m)\u001b[0m\u001b[1;33m\u001b[0m\u001b[1;33m\u001b[0m\u001b[0m\n\u001b[0m\u001b[0;32m   3025\u001b[0m             \u001b[1;32mif\u001b[0m \u001b[0mis_integer\u001b[0m\u001b[1;33m(\u001b[0m\u001b[0mindexer\u001b[0m\u001b[1;33m)\u001b[0m\u001b[1;33m:\u001b[0m\u001b[1;33m\u001b[0m\u001b[1;33m\u001b[0m\u001b[0m\n\u001b[0;32m   3026\u001b[0m                 \u001b[0mindexer\u001b[0m \u001b[1;33m=\u001b[0m \u001b[1;33m[\u001b[0m\u001b[0mindexer\u001b[0m\u001b[1;33m]\u001b[0m\u001b[1;33m\u001b[0m\u001b[1;33m\u001b[0m\u001b[0m\n",
      "\u001b[1;32m~\\anaconda3\\envs\\DsemProd\\lib\\site-packages\\pandas\\core\\indexes\\base.py\u001b[0m in \u001b[0;36mget_loc\u001b[1;34m(self, key, method, tolerance)\u001b[0m\n\u001b[0;32m   3080\u001b[0m                 \u001b[1;32mreturn\u001b[0m \u001b[0mself\u001b[0m\u001b[1;33m.\u001b[0m\u001b[0m_engine\u001b[0m\u001b[1;33m.\u001b[0m\u001b[0mget_loc\u001b[0m\u001b[1;33m(\u001b[0m\u001b[0mcasted_key\u001b[0m\u001b[1;33m)\u001b[0m\u001b[1;33m\u001b[0m\u001b[1;33m\u001b[0m\u001b[0m\n\u001b[0;32m   3081\u001b[0m             \u001b[1;32mexcept\u001b[0m \u001b[0mKeyError\u001b[0m \u001b[1;32mas\u001b[0m \u001b[0merr\u001b[0m\u001b[1;33m:\u001b[0m\u001b[1;33m\u001b[0m\u001b[1;33m\u001b[0m\u001b[0m\n\u001b[1;32m-> 3082\u001b[1;33m                 \u001b[1;32mraise\u001b[0m \u001b[0mKeyError\u001b[0m\u001b[1;33m(\u001b[0m\u001b[0mkey\u001b[0m\u001b[1;33m)\u001b[0m \u001b[1;32mfrom\u001b[0m \u001b[0merr\u001b[0m\u001b[1;33m\u001b[0m\u001b[1;33m\u001b[0m\u001b[0m\n\u001b[0m\u001b[0;32m   3083\u001b[0m \u001b[1;33m\u001b[0m\u001b[0m\n\u001b[0;32m   3084\u001b[0m         \u001b[1;32mif\u001b[0m \u001b[0mtolerance\u001b[0m \u001b[1;32mis\u001b[0m \u001b[1;32mnot\u001b[0m \u001b[1;32mNone\u001b[0m\u001b[1;33m:\u001b[0m\u001b[1;33m\u001b[0m\u001b[1;33m\u001b[0m\u001b[0m\n",
      "\u001b[1;31mKeyError\u001b[0m: '0'"
     ]
    }
   ],
   "source": []
  },
  {
   "cell_type": "code",
   "execution_count": 32,
   "id": "853e29ea",
   "metadata": {
    "ExecuteTime": {
     "end_time": "2021-06-29T10:16:30.989904Z",
     "start_time": "2021-06-29T10:16:30.976901Z"
    }
   },
   "outputs": [
    {
     "data": {
      "text/plain": [
       "id               int64\n",
       "cm.DESPC         int64\n",
       "cm.DESSC         int64\n",
       "cm.DESWC         int64\n",
       "cm.DESPL       float64\n",
       "                ...   \n",
       "liwc.assent      int64\n",
       "liwc.nonfl       int64\n",
       "liwc.filler      int64\n",
       "feedback        object\n",
       "classe           int64\n",
       "Length: 161, dtype: object"
      ]
     },
     "execution_count": 32,
     "metadata": {},
     "output_type": "execute_result"
    }
   ],
   "source": [
    "mergedData.dtypes"
   ]
  },
  {
   "cell_type": "code",
   "execution_count": 36,
   "id": "36b05410",
   "metadata": {
    "ExecuteTime": {
     "end_time": "2021-06-29T10:20:14.300829Z",
     "start_time": "2021-06-29T10:20:14.287827Z"
    }
   },
   "outputs": [
    {
     "name": "stdout",
     "output_type": "stream",
     "text": [
      "                                              feedback\n",
      "0    Ler outros textos sobre o assunto para lher da...\n",
      "1    Procure ler mais; para escrever mais acerca do...\n",
      "2    Texto bom; precisa apenas ler mais um pouco; p...\n",
      "3                  Ter cuidado com copias da internet.\n",
      "4    Carssimo; o trabalho precisa de uma sistematiz...\n",
      "..                                                 ...\n",
      "995  Rosivalda; timo texto; suas reflexes comparati...\n",
      "996  Ruth; bom texto sobre o filme e sobre as suas ...\n",
      "997  Silmara; excelente texto e leitura do filme co...\n",
      "998  Sueli; boa leitura do filme e da realidade; su...\n",
      "999  Taciana; boa leitura do filme e da realidade; ...\n",
      "\n",
      "[1000 rows x 1 columns]\n"
     ]
    }
   ],
   "source": [
    "visu = mergedData.select_dtypes( exclude=['int64', 'float64','int32','UInt32'] )\n",
    "print(visu)"
   ]
  },
  {
   "cell_type": "code",
   "execution_count": 39,
   "id": "f597a01c",
   "metadata": {
    "ExecuteTime": {
     "end_time": "2021-06-29T10:31:38.323628Z",
     "start_time": "2021-06-29T10:31:38.319628Z"
    }
   },
   "outputs": [],
   "source": [
    "# thus, due to feedback be a no-analyzed variable, merged dataset doesn't need rescaling\n",
    "# so, the other variables doesnt need a changes, for now, because the outliers problem will be solved on cohmetrix software  "
   ]
  },
  {
   "cell_type": "markdown",
   "id": "f97d4c9b",
   "metadata": {},
   "source": [
    "## 3.3 "
   ]
  },
  {
   "cell_type": "code",
   "execution_count": null,
   "id": "e43e5471",
   "metadata": {},
   "outputs": [],
   "source": []
  },
  {
   "cell_type": "markdown",
   "id": "88de3010",
   "metadata": {
    "heading_collapsed": true
   },
   "source": [
    "# 4.0 Feature Selection\n"
   ]
  }
 ],
 "metadata": {
  "kernelspec": {
   "display_name": "Python 3",
   "language": "python",
   "name": "python3"
  },
  "language_info": {
   "codemirror_mode": {
    "name": "ipython",
    "version": 3
   },
   "file_extension": ".py",
   "mimetype": "text/x-python",
   "name": "python",
   "nbconvert_exporter": "python",
   "pygments_lexer": "ipython3",
   "version": "3.8.10"
  },
  "latex_envs": {
   "LaTeX_envs_menu_present": true,
   "autoclose": false,
   "autocomplete": true,
   "bibliofile": "biblio.bib",
   "cite_by": "apalike",
   "current_citInitial": 1,
   "eqLabelWithNumbers": true,
   "eqNumInitial": 1,
   "hotkeys": {
    "equation": "Ctrl-E",
    "itemize": "Ctrl-I"
   },
   "labels_anchors": false,
   "latex_user_defs": false,
   "report_style_numbering": false,
   "user_envs_cfg": false
  },
  "varInspector": {
   "cols": {
    "lenName": 16,
    "lenType": 16,
    "lenVar": 40
   },
   "kernels_config": {
    "python": {
     "delete_cmd_postfix": "",
     "delete_cmd_prefix": "del ",
     "library": "var_list.py",
     "varRefreshCmd": "print(var_dic_list())"
    },
    "r": {
     "delete_cmd_postfix": ") ",
     "delete_cmd_prefix": "rm(",
     "library": "var_list.r",
     "varRefreshCmd": "cat(var_dic_list()) "
    }
   },
   "types_to_exclude": [
    "module",
    "function",
    "builtin_function_or_method",
    "instance",
    "_Feature"
   ],
   "window_display": false
  }
 },
 "nbformat": 4,
 "nbformat_minor": 5
}
