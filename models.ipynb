{
 "cells": [
  {
   "cell_type": "markdown",
   "id": "5007a9be",
   "metadata": {},
   "source": [
    "# 0.0 Imports"
   ]
  },
  {
   "cell_type": "code",
   "execution_count": 52,
   "id": "80544473",
   "metadata": {
    "ExecuteTime": {
     "end_time": "2021-08-11T11:25:06.577362Z",
     "start_time": "2021-08-11T11:25:06.564361Z"
    }
   },
   "outputs": [],
   "source": [
    "# Data Manipulation\n",
    "import numpy as np\n",
    "import pandas as pd\n",
    "\n",
    "# Data Visualization\n",
    "import seaborn as sns\n",
    "import matplotlib.pyplot as plt\n",
    "\n",
    "# ignore warnings from the kernel\n",
    "import warnings\n",
    "warnings.filterwarnings( 'ignore' )\n",
    "\n",
    "# Feature Selection\n",
    "from boruta import BorutaPy\n",
    "from sklearn.ensemble import RandomForestRegressor, RandomForestClassifier\n",
    "\n",
    "# Machine Learning Moddeling\n",
    "from sklearn.linear_model import LogisticRegression, Lasso\n",
    "from sklearn.model_selection import cross_val_predict, cross_val_score\n",
    "from sklearn.svm import SVC\n",
    "import xgboost as xgb\n",
    "\n",
    "# Model save\n",
    "import pickle\n",
    "\n",
    "# ML Metrics\n",
    "from sklearn.metrics import accuracy_score, precision_score, recall_score, f1_score, cohen_kappa_score, roc_auc_score, plot_confusion_matrix, roc_curve, cohen_kappa_score\n",
    "from sklearn.model_selection import GridSearchCV\n"
   ]
  },
  {
   "cell_type": "markdown",
   "id": "a722d523",
   "metadata": {
    "heading_collapsed": true
   },
   "source": [
    "# 1.0 Load Data\n"
   ]
  },
  {
   "cell_type": "code",
   "execution_count": 2,
   "id": "74e734b0",
   "metadata": {
    "ExecuteTime": {
     "end_time": "2021-08-11T10:27:03.169205Z",
     "start_time": "2021-08-11T10:27:03.092199Z"
    },
    "hidden": true
   },
   "outputs": [],
   "source": [
    "dscombined = pd.read_csv( 'C:/Users/PICHAU/Desktop/AIbox-Feedback/AIBOX-Mlfeedback/datasets/combined.csv' )\n",
    "dsLIWC = pd.read_csv( 'C:/Users/PICHAU/Desktop/AIbox-Feedback/AIBOX-Mlfeedback/datasets/combinedLIWC.csv' )\n",
    "dsCohmetrix = pd.read_csv( 'C:/Users/PICHAU/Desktop/AIbox-Feedback/AIBOX-Mlfeedback/datasets/combined_CohMetrix.csv' )\n"
   ]
  },
  {
   "cell_type": "markdown",
   "id": "f503bb02",
   "metadata": {
    "heading_collapsed": true
   },
   "source": [
    "# 2.0 Merging data"
   ]
  },
  {
   "cell_type": "code",
   "execution_count": 3,
   "id": "0b9adf87",
   "metadata": {
    "ExecuteTime": {
     "end_time": "2021-08-11T10:27:03.201207Z",
     "start_time": "2021-08-11T10:27:03.172205Z"
    },
    "hidden": true
   },
   "outputs": [],
   "source": [
    "dsCohmetrix = dsCohmetrix.rename( columns={ 'ID':'id' } )"
   ]
  },
  {
   "cell_type": "code",
   "execution_count": 4,
   "id": "aad8cad1",
   "metadata": {
    "ExecuteTime": {
     "end_time": "2021-08-11T10:27:03.313218Z",
     "start_time": "2021-08-11T10:27:03.203208Z"
    },
    "hidden": true
   },
   "outputs": [],
   "source": [
    "mergedData = pd.merge(dsCohmetrix, dsLIWC, how='left', on='id')\n",
    "mergedData = pd.merge(mergedData, dscombined, how='left', on='id')\n",
    "# df1.merge(df2, how='inner', on='a')"
   ]
  },
  {
   "cell_type": "code",
   "execution_count": 5,
   "id": "bee26cc9",
   "metadata": {
    "ExecuteTime": {
     "end_time": "2021-08-11T10:27:03.456226Z",
     "start_time": "2021-08-11T10:27:03.315217Z"
    },
    "hidden": true
   },
   "outputs": [
    {
     "data": {
      "text/html": [
       "<div>\n",
       "<style scoped>\n",
       "    .dataframe tbody tr th:only-of-type {\n",
       "        vertical-align: middle;\n",
       "    }\n",
       "\n",
       "    .dataframe tbody tr th {\n",
       "        vertical-align: top;\n",
       "    }\n",
       "\n",
       "    .dataframe thead th {\n",
       "        text-align: right;\n",
       "    }\n",
       "</style>\n",
       "<table border=\"1\" class=\"dataframe\">\n",
       "  <thead>\n",
       "    <tr style=\"text-align: right;\">\n",
       "      <th></th>\n",
       "      <th>id</th>\n",
       "      <th>cm.DESPC</th>\n",
       "      <th>cm.DESSC</th>\n",
       "      <th>cm.DESWC</th>\n",
       "      <th>cm.DESPL</th>\n",
       "      <th>cm.DESPLd</th>\n",
       "      <th>cm.DESSL</th>\n",
       "      <th>cm.DESSLd</th>\n",
       "      <th>cm.DESWLsy</th>\n",
       "      <th>cm.DESWLsyd</th>\n",
       "      <th>...</th>\n",
       "      <th>liwc.leisure</th>\n",
       "      <th>liwc.home</th>\n",
       "      <th>liwc.money</th>\n",
       "      <th>liwc.relig</th>\n",
       "      <th>liwc.death</th>\n",
       "      <th>liwc.assent</th>\n",
       "      <th>liwc.nonfl</th>\n",
       "      <th>liwc.filler</th>\n",
       "      <th>feedback</th>\n",
       "      <th>classe</th>\n",
       "    </tr>\n",
       "  </thead>\n",
       "  <tbody>\n",
       "    <tr>\n",
       "      <th>0</th>\n",
       "      <td>23</td>\n",
       "      <td>1</td>\n",
       "      <td>1</td>\n",
       "      <td>18</td>\n",
       "      <td>1.0</td>\n",
       "      <td>0.0</td>\n",
       "      <td>17.000000</td>\n",
       "      <td>0.000000</td>\n",
       "      <td>1.888889</td>\n",
       "      <td>0.900254</td>\n",
       "      <td>...</td>\n",
       "      <td>1</td>\n",
       "      <td>0</td>\n",
       "      <td>0</td>\n",
       "      <td>0</td>\n",
       "      <td>0</td>\n",
       "      <td>0</td>\n",
       "      <td>0</td>\n",
       "      <td>0</td>\n",
       "      <td>Ler outros textos sobre o assunto para lher da...</td>\n",
       "      <td>0</td>\n",
       "    </tr>\n",
       "    <tr>\n",
       "      <th>1</th>\n",
       "      <td>24</td>\n",
       "      <td>1</td>\n",
       "      <td>2</td>\n",
       "      <td>24</td>\n",
       "      <td>2.0</td>\n",
       "      <td>0.0</td>\n",
       "      <td>10.500000</td>\n",
       "      <td>0.500000</td>\n",
       "      <td>1.916667</td>\n",
       "      <td>1.100066</td>\n",
       "      <td>...</td>\n",
       "      <td>1</td>\n",
       "      <td>0</td>\n",
       "      <td>1</td>\n",
       "      <td>0</td>\n",
       "      <td>0</td>\n",
       "      <td>0</td>\n",
       "      <td>0</td>\n",
       "      <td>0</td>\n",
       "      <td>Procure ler mais; para escrever mais acerca do...</td>\n",
       "      <td>0</td>\n",
       "    </tr>\n",
       "    <tr>\n",
       "      <th>2</th>\n",
       "      <td>35</td>\n",
       "      <td>1</td>\n",
       "      <td>2</td>\n",
       "      <td>31</td>\n",
       "      <td>2.0</td>\n",
       "      <td>0.0</td>\n",
       "      <td>12.500000</td>\n",
       "      <td>0.500000</td>\n",
       "      <td>1.741935</td>\n",
       "      <td>0.964978</td>\n",
       "      <td>...</td>\n",
       "      <td>2</td>\n",
       "      <td>0</td>\n",
       "      <td>0</td>\n",
       "      <td>0</td>\n",
       "      <td>0</td>\n",
       "      <td>0</td>\n",
       "      <td>0</td>\n",
       "      <td>0</td>\n",
       "      <td>Texto bom; precisa apenas ler mais um pouco; p...</td>\n",
       "      <td>0</td>\n",
       "    </tr>\n",
       "    <tr>\n",
       "      <th>3</th>\n",
       "      <td>37</td>\n",
       "      <td>1</td>\n",
       "      <td>1</td>\n",
       "      <td>7</td>\n",
       "      <td>1.0</td>\n",
       "      <td>0.0</td>\n",
       "      <td>6.000000</td>\n",
       "      <td>0.000000</td>\n",
       "      <td>1.857143</td>\n",
       "      <td>1.069045</td>\n",
       "      <td>...</td>\n",
       "      <td>0</td>\n",
       "      <td>0</td>\n",
       "      <td>0</td>\n",
       "      <td>0</td>\n",
       "      <td>0</td>\n",
       "      <td>0</td>\n",
       "      <td>0</td>\n",
       "      <td>0</td>\n",
       "      <td>Ter cuidado com copias da internet.</td>\n",
       "      <td>0</td>\n",
       "    </tr>\n",
       "    <tr>\n",
       "      <th>4</th>\n",
       "      <td>68</td>\n",
       "      <td>1</td>\n",
       "      <td>4</td>\n",
       "      <td>32</td>\n",
       "      <td>4.0</td>\n",
       "      <td>0.0</td>\n",
       "      <td>6.500000</td>\n",
       "      <td>3.640055</td>\n",
       "      <td>1.937500</td>\n",
       "      <td>1.268413</td>\n",
       "      <td>...</td>\n",
       "      <td>0</td>\n",
       "      <td>0</td>\n",
       "      <td>1</td>\n",
       "      <td>0</td>\n",
       "      <td>0</td>\n",
       "      <td>2</td>\n",
       "      <td>0</td>\n",
       "      <td>0</td>\n",
       "      <td>Carssimo; o trabalho precisa de uma sistematiz...</td>\n",
       "      <td>1</td>\n",
       "    </tr>\n",
       "    <tr>\n",
       "      <th>...</th>\n",
       "      <td>...</td>\n",
       "      <td>...</td>\n",
       "      <td>...</td>\n",
       "      <td>...</td>\n",
       "      <td>...</td>\n",
       "      <td>...</td>\n",
       "      <td>...</td>\n",
       "      <td>...</td>\n",
       "      <td>...</td>\n",
       "      <td>...</td>\n",
       "      <td>...</td>\n",
       "      <td>...</td>\n",
       "      <td>...</td>\n",
       "      <td>...</td>\n",
       "      <td>...</td>\n",
       "      <td>...</td>\n",
       "      <td>...</td>\n",
       "      <td>...</td>\n",
       "      <td>...</td>\n",
       "      <td>...</td>\n",
       "      <td>...</td>\n",
       "    </tr>\n",
       "    <tr>\n",
       "      <th>995</th>\n",
       "      <td>13809</td>\n",
       "      <td>1</td>\n",
       "      <td>2</td>\n",
       "      <td>28</td>\n",
       "      <td>2.0</td>\n",
       "      <td>0.0</td>\n",
       "      <td>12.000000</td>\n",
       "      <td>11.000000</td>\n",
       "      <td>2.250000</td>\n",
       "      <td>1.404358</td>\n",
       "      <td>...</td>\n",
       "      <td>0</td>\n",
       "      <td>0</td>\n",
       "      <td>1</td>\n",
       "      <td>0</td>\n",
       "      <td>0</td>\n",
       "      <td>0</td>\n",
       "      <td>1</td>\n",
       "      <td>0</td>\n",
       "      <td>Rosivalda; timo texto; suas reflexes comparati...</td>\n",
       "      <td>1</td>\n",
       "    </tr>\n",
       "    <tr>\n",
       "      <th>996</th>\n",
       "      <td>13810</td>\n",
       "      <td>1</td>\n",
       "      <td>2</td>\n",
       "      <td>66</td>\n",
       "      <td>2.0</td>\n",
       "      <td>0.0</td>\n",
       "      <td>29.500000</td>\n",
       "      <td>27.500000</td>\n",
       "      <td>1.969697</td>\n",
       "      <td>1.149845</td>\n",
       "      <td>...</td>\n",
       "      <td>2</td>\n",
       "      <td>0</td>\n",
       "      <td>1</td>\n",
       "      <td>0</td>\n",
       "      <td>0</td>\n",
       "      <td>1</td>\n",
       "      <td>0</td>\n",
       "      <td>0</td>\n",
       "      <td>Ruth; bom texto sobre o filme e sobre as suas ...</td>\n",
       "      <td>1</td>\n",
       "    </tr>\n",
       "    <tr>\n",
       "      <th>997</th>\n",
       "      <td>13811</td>\n",
       "      <td>1</td>\n",
       "      <td>2</td>\n",
       "      <td>37</td>\n",
       "      <td>2.0</td>\n",
       "      <td>0.0</td>\n",
       "      <td>16.500000</td>\n",
       "      <td>15.500000</td>\n",
       "      <td>2.027027</td>\n",
       "      <td>1.213042</td>\n",
       "      <td>...</td>\n",
       "      <td>2</td>\n",
       "      <td>2</td>\n",
       "      <td>0</td>\n",
       "      <td>0</td>\n",
       "      <td>0</td>\n",
       "      <td>1</td>\n",
       "      <td>2</td>\n",
       "      <td>0</td>\n",
       "      <td>Silmara; excelente texto e leitura do filme co...</td>\n",
       "      <td>1</td>\n",
       "    </tr>\n",
       "    <tr>\n",
       "      <th>998</th>\n",
       "      <td>13813</td>\n",
       "      <td>1</td>\n",
       "      <td>3</td>\n",
       "      <td>28</td>\n",
       "      <td>3.0</td>\n",
       "      <td>0.0</td>\n",
       "      <td>7.666667</td>\n",
       "      <td>10.143416</td>\n",
       "      <td>1.964286</td>\n",
       "      <td>1.170063</td>\n",
       "      <td>...</td>\n",
       "      <td>2</td>\n",
       "      <td>0</td>\n",
       "      <td>0</td>\n",
       "      <td>1</td>\n",
       "      <td>0</td>\n",
       "      <td>0</td>\n",
       "      <td>1</td>\n",
       "      <td>0</td>\n",
       "      <td>Sueli; boa leitura do filme e da realidade; su...</td>\n",
       "      <td>1</td>\n",
       "    </tr>\n",
       "    <tr>\n",
       "      <th>999</th>\n",
       "      <td>13814</td>\n",
       "      <td>1</td>\n",
       "      <td>3</td>\n",
       "      <td>28</td>\n",
       "      <td>3.0</td>\n",
       "      <td>0.0</td>\n",
       "      <td>7.666667</td>\n",
       "      <td>10.143416</td>\n",
       "      <td>2.000000</td>\n",
       "      <td>1.217161</td>\n",
       "      <td>...</td>\n",
       "      <td>2</td>\n",
       "      <td>0</td>\n",
       "      <td>0</td>\n",
       "      <td>1</td>\n",
       "      <td>0</td>\n",
       "      <td>0</td>\n",
       "      <td>1</td>\n",
       "      <td>0</td>\n",
       "      <td>Taciana; boa leitura do filme e da realidade; ...</td>\n",
       "      <td>1</td>\n",
       "    </tr>\n",
       "  </tbody>\n",
       "</table>\n",
       "<p>1000 rows × 161 columns</p>\n",
       "</div>"
      ],
      "text/plain": [
       "        id  cm.DESPC  cm.DESSC  cm.DESWC  cm.DESPL  cm.DESPLd   cm.DESSL  \\\n",
       "0       23         1         1        18       1.0        0.0  17.000000   \n",
       "1       24         1         2        24       2.0        0.0  10.500000   \n",
       "2       35         1         2        31       2.0        0.0  12.500000   \n",
       "3       37         1         1         7       1.0        0.0   6.000000   \n",
       "4       68         1         4        32       4.0        0.0   6.500000   \n",
       "..     ...       ...       ...       ...       ...        ...        ...   \n",
       "995  13809         1         2        28       2.0        0.0  12.000000   \n",
       "996  13810         1         2        66       2.0        0.0  29.500000   \n",
       "997  13811         1         2        37       2.0        0.0  16.500000   \n",
       "998  13813         1         3        28       3.0        0.0   7.666667   \n",
       "999  13814         1         3        28       3.0        0.0   7.666667   \n",
       "\n",
       "     cm.DESSLd  cm.DESWLsy  cm.DESWLsyd  ...  liwc.leisure  liwc.home  \\\n",
       "0     0.000000    1.888889     0.900254  ...             1          0   \n",
       "1     0.500000    1.916667     1.100066  ...             1          0   \n",
       "2     0.500000    1.741935     0.964978  ...             2          0   \n",
       "3     0.000000    1.857143     1.069045  ...             0          0   \n",
       "4     3.640055    1.937500     1.268413  ...             0          0   \n",
       "..         ...         ...          ...  ...           ...        ...   \n",
       "995  11.000000    2.250000     1.404358  ...             0          0   \n",
       "996  27.500000    1.969697     1.149845  ...             2          0   \n",
       "997  15.500000    2.027027     1.213042  ...             2          2   \n",
       "998  10.143416    1.964286     1.170063  ...             2          0   \n",
       "999  10.143416    2.000000     1.217161  ...             2          0   \n",
       "\n",
       "     liwc.money  liwc.relig  liwc.death  liwc.assent  liwc.nonfl  liwc.filler  \\\n",
       "0             0           0           0            0           0            0   \n",
       "1             1           0           0            0           0            0   \n",
       "2             0           0           0            0           0            0   \n",
       "3             0           0           0            0           0            0   \n",
       "4             1           0           0            2           0            0   \n",
       "..          ...         ...         ...          ...         ...          ...   \n",
       "995           1           0           0            0           1            0   \n",
       "996           1           0           0            1           0            0   \n",
       "997           0           0           0            1           2            0   \n",
       "998           0           1           0            0           1            0   \n",
       "999           0           1           0            0           1            0   \n",
       "\n",
       "                                              feedback  classe  \n",
       "0    Ler outros textos sobre o assunto para lher da...       0  \n",
       "1    Procure ler mais; para escrever mais acerca do...       0  \n",
       "2    Texto bom; precisa apenas ler mais um pouco; p...       0  \n",
       "3                  Ter cuidado com copias da internet.       0  \n",
       "4    Carssimo; o trabalho precisa de uma sistematiz...       1  \n",
       "..                                                 ...     ...  \n",
       "995  Rosivalda; timo texto; suas reflexes comparati...       1  \n",
       "996  Ruth; bom texto sobre o filme e sobre as suas ...       1  \n",
       "997  Silmara; excelente texto e leitura do filme co...       1  \n",
       "998  Sueli; boa leitura do filme e da realidade; su...       1  \n",
       "999  Taciana; boa leitura do filme e da realidade; ...       1  \n",
       "\n",
       "[1000 rows x 161 columns]"
      ]
     },
     "execution_count": 5,
     "metadata": {},
     "output_type": "execute_result"
    }
   ],
   "source": [
    "mergedData"
   ]
  },
  {
   "cell_type": "markdown",
   "id": "2f498b1b",
   "metadata": {
    "heading_collapsed": true,
    "hidden": true
   },
   "source": [
    "## 2.1 Check Nan"
   ]
  },
  {
   "cell_type": "code",
   "execution_count": 6,
   "id": "a04396b4",
   "metadata": {
    "ExecuteTime": {
     "end_time": "2021-08-11T10:27:03.520231Z",
     "start_time": "2021-08-11T10:27:03.458228Z"
    },
    "hidden": true
   },
   "outputs": [
    {
     "data": {
      "text/plain": [
       "id                0\n",
       "liwc.ipron        0\n",
       "liwc.article      0\n",
       "liwc.verb         0\n",
       "liwc.auxverb      0\n",
       "               ... \n",
       "cm.RDL2         165\n",
       "cm.CRFCWO1      165\n",
       "cm.CRFCWO1d     165\n",
       "cm.LSASSpd      362\n",
       "cm.LSASSp       362\n",
       "Length: 161, dtype: int64"
      ]
     },
     "execution_count": 6,
     "metadata": {},
     "output_type": "execute_result"
    }
   ],
   "source": [
    "mergedData.isna().sum().sort_values()\n"
   ]
  },
  {
   "cell_type": "markdown",
   "id": "3c864ecf",
   "metadata": {
    "hidden": true
   },
   "source": [
    "## 2.2 Fillout NAn"
   ]
  },
  {
   "cell_type": "code",
   "execution_count": 7,
   "id": "77abae89",
   "metadata": {
    "ExecuteTime": {
     "end_time": "2021-08-11T10:27:03.632239Z",
     "start_time": "2021-08-11T10:27:03.522232Z"
    },
    "hidden": true
   },
   "outputs": [],
   "source": [
    "mergedData = mergedData.dropna(axis=1, how='any', inplace=False) # axis=1 => columns"
   ]
  },
  {
   "cell_type": "code",
   "execution_count": 8,
   "id": "dba3b3c3",
   "metadata": {
    "ExecuteTime": {
     "end_time": "2021-08-11T10:27:03.728249Z",
     "start_time": "2021-08-11T10:27:03.636241Z"
    },
    "hidden": true
   },
   "outputs": [
    {
     "data": {
      "text/plain": [
       "id              0\n",
       "liwc.article    0\n",
       "liwc.verb       0\n",
       "liwc.auxverb    0\n",
       "liwc.past       0\n",
       "               ..\n",
       "cm.SMCAUSr      0\n",
       "cm.SMCAUSlsa    0\n",
       "cm.SMCAUSwn     0\n",
       "cm.CNCComp      0\n",
       "classe          0\n",
       "Length: 155, dtype: int64"
      ]
     },
     "execution_count": 8,
     "metadata": {},
     "output_type": "execute_result"
    }
   ],
   "source": [
    "mergedData.isna().sum().sort_values()"
   ]
  },
  {
   "cell_type": "markdown",
   "id": "8e3bca23",
   "metadata": {
    "heading_collapsed": true
   },
   "source": [
    "# 3.0 Data Preparation\n",
    "\n"
   ]
  },
  {
   "cell_type": "markdown",
   "id": "2079ee4b",
   "metadata": {
    "heading_collapsed": true,
    "hidden": true
   },
   "source": [
    "## 3.1 Normalization"
   ]
  },
  {
   "cell_type": "code",
   "execution_count": 9,
   "id": "f6e110ae",
   "metadata": {
    "ExecuteTime": {
     "end_time": "2021-08-11T10:27:03.902259Z",
     "start_time": "2021-08-11T10:27:03.731249Z"
    },
    "hidden": true
   },
   "outputs": [],
   "source": [
    "# no analyzed variable looks like a normal distribution"
   ]
  },
  {
   "cell_type": "markdown",
   "id": "f144a1d0",
   "metadata": {
    "heading_collapsed": true,
    "hidden": true
   },
   "source": [
    "## 3.2 Rescaling"
   ]
  },
  {
   "cell_type": "code",
   "execution_count": 10,
   "id": "9797d5a9",
   "metadata": {
    "ExecuteTime": {
     "end_time": "2021-08-11T10:27:04.046271Z",
     "start_time": "2021-08-11T10:27:03.904260Z"
    },
    "hidden": true
   },
   "outputs": [
    {
     "data": {
      "text/plain": [
       "id               int64\n",
       "cm.DESPC         int64\n",
       "cm.DESSC         int64\n",
       "cm.DESWC         int64\n",
       "cm.DESPL       float64\n",
       "                ...   \n",
       "liwc.death       int64\n",
       "liwc.assent      int64\n",
       "liwc.nonfl       int64\n",
       "liwc.filler      int64\n",
       "classe           int64\n",
       "Length: 155, dtype: object"
      ]
     },
     "execution_count": 10,
     "metadata": {},
     "output_type": "execute_result"
    }
   ],
   "source": [
    "mergedData.dtypes"
   ]
  },
  {
   "cell_type": "code",
   "execution_count": 11,
   "id": "7c4c3f56",
   "metadata": {
    "ExecuteTime": {
     "end_time": "2021-08-11T10:27:04.140277Z",
     "start_time": "2021-08-11T10:27:04.048272Z"
    },
    "hidden": true
   },
   "outputs": [
    {
     "name": "stdout",
     "output_type": "stream",
     "text": [
      "Empty DataFrame\n",
      "Columns: []\n",
      "Index: [0, 1, 2, 3, 4, 5, 6, 7, 8, 9, 10, 11, 12, 13, 14, 15, 16, 17, 18, 19, 20, 21, 22, 23, 24, 25, 26, 27, 28, 29, 30, 31, 32, 33, 34, 35, 36, 37, 38, 39, 40, 41, 42, 43, 44, 45, 46, 47, 48, 49, 50, 51, 52, 53, 54, 55, 56, 57, 58, 59, 60, 61, 62, 63, 64, 65, 66, 67, 68, 69, 70, 71, 72, 73, 74, 75, 76, 77, 78, 79, 80, 81, 82, 83, 84, 85, 86, 87, 88, 89, 90, 91, 92, 93, 94, 95, 96, 97, 98, 99, ...]\n",
      "\n",
      "[1000 rows x 0 columns]\n"
     ]
    }
   ],
   "source": [
    "visu = mergedData.select_dtypes( exclude=['int64', 'float64','int32','UInt32'] )\n",
    "print(visu)"
   ]
  },
  {
   "cell_type": "code",
   "execution_count": 12,
   "id": "559624bf",
   "metadata": {
    "ExecuteTime": {
     "end_time": "2021-08-11T10:27:04.236285Z",
     "start_time": "2021-08-11T10:27:04.142277Z"
    },
    "hidden": true
   },
   "outputs": [],
   "source": [
    "# thus, due to feedback be a no-analyzed variable, merged dataset doesn't need rescaling\n",
    "# so, the other variables doesnt need a changes, for now, because the outliers problem will be solved on cohmetrix software  "
   ]
  },
  {
   "cell_type": "markdown",
   "id": "c2ccf5d5",
   "metadata": {
    "heading_collapsed": true,
    "hidden": true
   },
   "source": [
    "## 3.3 Transformation\n"
   ]
  },
  {
   "cell_type": "code",
   "execution_count": 13,
   "id": "973f5d41",
   "metadata": {
    "ExecuteTime": {
     "end_time": "2021-08-11T10:27:04.331291Z",
     "start_time": "2021-08-11T10:27:04.238285Z"
    },
    "hidden": true
   },
   "outputs": [],
   "source": [
    "# once time again, transformation is not necessary, due to mergedData only have feedback that is a categorical variable and the response variable is only 0 and 1"
   ]
  },
  {
   "cell_type": "markdown",
   "id": "55fc51cd",
   "metadata": {
    "heading_collapsed": true
   },
   "source": [
    "# 4.0 EDA - Correlation of numAtttributes"
   ]
  },
  {
   "cell_type": "code",
   "execution_count": 14,
   "id": "260f9496",
   "metadata": {
    "ExecuteTime": {
     "end_time": "2021-08-11T10:27:04.488303Z",
     "start_time": "2021-08-11T10:27:04.333291Z"
    },
    "hidden": true
   },
   "outputs": [],
   "source": [
    "num_attributes = mergedData.select_dtypes( include=['int64', 'float64'] )"
   ]
  },
  {
   "cell_type": "markdown",
   "id": "aa2b6e28",
   "metadata": {
    "heading_collapsed": true
   },
   "source": [
    "# 5.0 Feature Selection\n"
   ]
  },
  {
   "cell_type": "code",
   "execution_count": 15,
   "id": "57e62766",
   "metadata": {
    "ExecuteTime": {
     "end_time": "2021-08-11T10:27:04.584310Z",
     "start_time": "2021-08-11T10:27:04.490304Z"
    },
    "hidden": true
   },
   "outputs": [],
   "source": [
    "# correlation = num_attributes.corr( method='pearson' )\n",
    "# plt.figure( figsize=( 25, 19 ) )\n",
    "# sns.heatmap( correlation, annot=True );"
   ]
  },
  {
   "cell_type": "markdown",
   "id": "baf60c13",
   "metadata": {
    "heading_collapsed": true,
    "hidden": true
   },
   "source": [
    "## 5.1 Split dataframe into training and test dataset"
   ]
  },
  {
   "cell_type": "code",
   "execution_count": 16,
   "id": "fd77bc6d",
   "metadata": {
    "ExecuteTime": {
     "end_time": "2021-08-11T10:27:04.695320Z",
     "start_time": "2021-08-11T10:27:04.586311Z"
    },
    "hidden": true
   },
   "outputs": [],
   "source": [
    "# training dataset\n",
    "X_train = mergedData[mergedData['id']<12800] # this id split dataset in 3/4 proportion\n",
    "y_train = X_train['classe']\n",
    "\n",
    "# test dataset \n",
    "X_test = mergedData[mergedData['id']>=12800] # this id split dataset in 3/4 proportion\n",
    "y_test = X_test['classe']\n"
   ]
  },
  {
   "cell_type": "code",
   "execution_count": 17,
   "id": "246aeebc",
   "metadata": {
    "ExecuteTime": {
     "end_time": "2021-08-11T10:27:04.822328Z",
     "start_time": "2021-08-11T10:27:04.697319Z"
    },
    "hidden": true
   },
   "outputs": [
    {
     "data": {
      "text/html": [
       "<div>\n",
       "<style scoped>\n",
       "    .dataframe tbody tr th:only-of-type {\n",
       "        vertical-align: middle;\n",
       "    }\n",
       "\n",
       "    .dataframe tbody tr th {\n",
       "        vertical-align: top;\n",
       "    }\n",
       "\n",
       "    .dataframe thead th {\n",
       "        text-align: right;\n",
       "    }\n",
       "</style>\n",
       "<table border=\"1\" class=\"dataframe\">\n",
       "  <thead>\n",
       "    <tr style=\"text-align: right;\">\n",
       "      <th></th>\n",
       "      <th>id</th>\n",
       "      <th>cm.DESPC</th>\n",
       "      <th>cm.DESSC</th>\n",
       "      <th>cm.DESWC</th>\n",
       "      <th>cm.DESPL</th>\n",
       "      <th>cm.DESPLd</th>\n",
       "      <th>cm.DESSL</th>\n",
       "      <th>cm.DESSLd</th>\n",
       "      <th>cm.DESWLsy</th>\n",
       "      <th>cm.DESWLsyd</th>\n",
       "      <th>...</th>\n",
       "      <th>liwc.achieve</th>\n",
       "      <th>liwc.leisure</th>\n",
       "      <th>liwc.home</th>\n",
       "      <th>liwc.money</th>\n",
       "      <th>liwc.relig</th>\n",
       "      <th>liwc.death</th>\n",
       "      <th>liwc.assent</th>\n",
       "      <th>liwc.nonfl</th>\n",
       "      <th>liwc.filler</th>\n",
       "      <th>classe</th>\n",
       "    </tr>\n",
       "  </thead>\n",
       "  <tbody>\n",
       "    <tr>\n",
       "      <th>0</th>\n",
       "      <td>23</td>\n",
       "      <td>1</td>\n",
       "      <td>1</td>\n",
       "      <td>18</td>\n",
       "      <td>1.0</td>\n",
       "      <td>0.0</td>\n",
       "      <td>17.000000</td>\n",
       "      <td>0.000000</td>\n",
       "      <td>1.888889</td>\n",
       "      <td>0.900254</td>\n",
       "      <td>...</td>\n",
       "      <td>0</td>\n",
       "      <td>1</td>\n",
       "      <td>0</td>\n",
       "      <td>0</td>\n",
       "      <td>0</td>\n",
       "      <td>0</td>\n",
       "      <td>0</td>\n",
       "      <td>0</td>\n",
       "      <td>0</td>\n",
       "      <td>0</td>\n",
       "    </tr>\n",
       "    <tr>\n",
       "      <th>1</th>\n",
       "      <td>24</td>\n",
       "      <td>1</td>\n",
       "      <td>2</td>\n",
       "      <td>24</td>\n",
       "      <td>2.0</td>\n",
       "      <td>0.0</td>\n",
       "      <td>10.500000</td>\n",
       "      <td>0.500000</td>\n",
       "      <td>1.916667</td>\n",
       "      <td>1.100066</td>\n",
       "      <td>...</td>\n",
       "      <td>1</td>\n",
       "      <td>1</td>\n",
       "      <td>0</td>\n",
       "      <td>1</td>\n",
       "      <td>0</td>\n",
       "      <td>0</td>\n",
       "      <td>0</td>\n",
       "      <td>0</td>\n",
       "      <td>0</td>\n",
       "      <td>0</td>\n",
       "    </tr>\n",
       "    <tr>\n",
       "      <th>2</th>\n",
       "      <td>35</td>\n",
       "      <td>1</td>\n",
       "      <td>2</td>\n",
       "      <td>31</td>\n",
       "      <td>2.0</td>\n",
       "      <td>0.0</td>\n",
       "      <td>12.500000</td>\n",
       "      <td>0.500000</td>\n",
       "      <td>1.741935</td>\n",
       "      <td>0.964978</td>\n",
       "      <td>...</td>\n",
       "      <td>4</td>\n",
       "      <td>2</td>\n",
       "      <td>0</td>\n",
       "      <td>0</td>\n",
       "      <td>0</td>\n",
       "      <td>0</td>\n",
       "      <td>0</td>\n",
       "      <td>0</td>\n",
       "      <td>0</td>\n",
       "      <td>0</td>\n",
       "    </tr>\n",
       "    <tr>\n",
       "      <th>3</th>\n",
       "      <td>37</td>\n",
       "      <td>1</td>\n",
       "      <td>1</td>\n",
       "      <td>7</td>\n",
       "      <td>1.0</td>\n",
       "      <td>0.0</td>\n",
       "      <td>6.000000</td>\n",
       "      <td>0.000000</td>\n",
       "      <td>1.857143</td>\n",
       "      <td>1.069045</td>\n",
       "      <td>...</td>\n",
       "      <td>0</td>\n",
       "      <td>0</td>\n",
       "      <td>0</td>\n",
       "      <td>0</td>\n",
       "      <td>0</td>\n",
       "      <td>0</td>\n",
       "      <td>0</td>\n",
       "      <td>0</td>\n",
       "      <td>0</td>\n",
       "      <td>0</td>\n",
       "    </tr>\n",
       "    <tr>\n",
       "      <th>4</th>\n",
       "      <td>68</td>\n",
       "      <td>1</td>\n",
       "      <td>4</td>\n",
       "      <td>32</td>\n",
       "      <td>4.0</td>\n",
       "      <td>0.0</td>\n",
       "      <td>6.500000</td>\n",
       "      <td>3.640055</td>\n",
       "      <td>1.937500</td>\n",
       "      <td>1.268413</td>\n",
       "      <td>...</td>\n",
       "      <td>2</td>\n",
       "      <td>0</td>\n",
       "      <td>0</td>\n",
       "      <td>1</td>\n",
       "      <td>0</td>\n",
       "      <td>0</td>\n",
       "      <td>2</td>\n",
       "      <td>0</td>\n",
       "      <td>0</td>\n",
       "      <td>1</td>\n",
       "    </tr>\n",
       "    <tr>\n",
       "      <th>...</th>\n",
       "      <td>...</td>\n",
       "      <td>...</td>\n",
       "      <td>...</td>\n",
       "      <td>...</td>\n",
       "      <td>...</td>\n",
       "      <td>...</td>\n",
       "      <td>...</td>\n",
       "      <td>...</td>\n",
       "      <td>...</td>\n",
       "      <td>...</td>\n",
       "      <td>...</td>\n",
       "      <td>...</td>\n",
       "      <td>...</td>\n",
       "      <td>...</td>\n",
       "      <td>...</td>\n",
       "      <td>...</td>\n",
       "      <td>...</td>\n",
       "      <td>...</td>\n",
       "      <td>...</td>\n",
       "      <td>...</td>\n",
       "      <td>...</td>\n",
       "    </tr>\n",
       "    <tr>\n",
       "      <th>756</th>\n",
       "      <td>12769</td>\n",
       "      <td>-1</td>\n",
       "      <td>-1</td>\n",
       "      <td>-1</td>\n",
       "      <td>-1.0</td>\n",
       "      <td>-1.0</td>\n",
       "      <td>-1.000000</td>\n",
       "      <td>-1.000000</td>\n",
       "      <td>-1.000000</td>\n",
       "      <td>-1.000000</td>\n",
       "      <td>...</td>\n",
       "      <td>0</td>\n",
       "      <td>0</td>\n",
       "      <td>0</td>\n",
       "      <td>0</td>\n",
       "      <td>0</td>\n",
       "      <td>0</td>\n",
       "      <td>0</td>\n",
       "      <td>0</td>\n",
       "      <td>0</td>\n",
       "      <td>0</td>\n",
       "    </tr>\n",
       "    <tr>\n",
       "      <th>757</th>\n",
       "      <td>12773</td>\n",
       "      <td>1</td>\n",
       "      <td>3</td>\n",
       "      <td>25</td>\n",
       "      <td>3.0</td>\n",
       "      <td>0.0</td>\n",
       "      <td>6.333333</td>\n",
       "      <td>5.557777</td>\n",
       "      <td>2.120000</td>\n",
       "      <td>1.394035</td>\n",
       "      <td>...</td>\n",
       "      <td>1</td>\n",
       "      <td>0</td>\n",
       "      <td>0</td>\n",
       "      <td>0</td>\n",
       "      <td>0</td>\n",
       "      <td>0</td>\n",
       "      <td>0</td>\n",
       "      <td>1</td>\n",
       "      <td>0</td>\n",
       "      <td>1</td>\n",
       "    </tr>\n",
       "    <tr>\n",
       "      <th>758</th>\n",
       "      <td>12788</td>\n",
       "      <td>1</td>\n",
       "      <td>2</td>\n",
       "      <td>13</td>\n",
       "      <td>2.0</td>\n",
       "      <td>0.0</td>\n",
       "      <td>5.500000</td>\n",
       "      <td>4.500000</td>\n",
       "      <td>2.230769</td>\n",
       "      <td>1.832750</td>\n",
       "      <td>...</td>\n",
       "      <td>0</td>\n",
       "      <td>0</td>\n",
       "      <td>0</td>\n",
       "      <td>0</td>\n",
       "      <td>0</td>\n",
       "      <td>0</td>\n",
       "      <td>0</td>\n",
       "      <td>0</td>\n",
       "      <td>0</td>\n",
       "      <td>1</td>\n",
       "    </tr>\n",
       "    <tr>\n",
       "      <th>759</th>\n",
       "      <td>12790</td>\n",
       "      <td>1</td>\n",
       "      <td>1</td>\n",
       "      <td>49</td>\n",
       "      <td>1.0</td>\n",
       "      <td>0.0</td>\n",
       "      <td>45.000000</td>\n",
       "      <td>0.000000</td>\n",
       "      <td>1.938776</td>\n",
       "      <td>1.375502</td>\n",
       "      <td>...</td>\n",
       "      <td>1</td>\n",
       "      <td>2</td>\n",
       "      <td>0</td>\n",
       "      <td>2</td>\n",
       "      <td>0</td>\n",
       "      <td>0</td>\n",
       "      <td>0</td>\n",
       "      <td>1</td>\n",
       "      <td>0</td>\n",
       "      <td>1</td>\n",
       "    </tr>\n",
       "    <tr>\n",
       "      <th>760</th>\n",
       "      <td>12796</td>\n",
       "      <td>1</td>\n",
       "      <td>2</td>\n",
       "      <td>20</td>\n",
       "      <td>2.0</td>\n",
       "      <td>0.0</td>\n",
       "      <td>7.500000</td>\n",
       "      <td>5.500000</td>\n",
       "      <td>2.050000</td>\n",
       "      <td>1.316894</td>\n",
       "      <td>...</td>\n",
       "      <td>1</td>\n",
       "      <td>0</td>\n",
       "      <td>0</td>\n",
       "      <td>0</td>\n",
       "      <td>0</td>\n",
       "      <td>0</td>\n",
       "      <td>0</td>\n",
       "      <td>1</td>\n",
       "      <td>0</td>\n",
       "      <td>1</td>\n",
       "    </tr>\n",
       "  </tbody>\n",
       "</table>\n",
       "<p>751 rows × 155 columns</p>\n",
       "</div>"
      ],
      "text/plain": [
       "        id  cm.DESPC  cm.DESSC  cm.DESWC  cm.DESPL  cm.DESPLd   cm.DESSL  \\\n",
       "0       23         1         1        18       1.0        0.0  17.000000   \n",
       "1       24         1         2        24       2.0        0.0  10.500000   \n",
       "2       35         1         2        31       2.0        0.0  12.500000   \n",
       "3       37         1         1         7       1.0        0.0   6.000000   \n",
       "4       68         1         4        32       4.0        0.0   6.500000   \n",
       "..     ...       ...       ...       ...       ...        ...        ...   \n",
       "756  12769        -1        -1        -1      -1.0       -1.0  -1.000000   \n",
       "757  12773         1         3        25       3.0        0.0   6.333333   \n",
       "758  12788         1         2        13       2.0        0.0   5.500000   \n",
       "759  12790         1         1        49       1.0        0.0  45.000000   \n",
       "760  12796         1         2        20       2.0        0.0   7.500000   \n",
       "\n",
       "     cm.DESSLd  cm.DESWLsy  cm.DESWLsyd  ...  liwc.achieve  liwc.leisure  \\\n",
       "0     0.000000    1.888889     0.900254  ...             0             1   \n",
       "1     0.500000    1.916667     1.100066  ...             1             1   \n",
       "2     0.500000    1.741935     0.964978  ...             4             2   \n",
       "3     0.000000    1.857143     1.069045  ...             0             0   \n",
       "4     3.640055    1.937500     1.268413  ...             2             0   \n",
       "..         ...         ...          ...  ...           ...           ...   \n",
       "756  -1.000000   -1.000000    -1.000000  ...             0             0   \n",
       "757   5.557777    2.120000     1.394035  ...             1             0   \n",
       "758   4.500000    2.230769     1.832750  ...             0             0   \n",
       "759   0.000000    1.938776     1.375502  ...             1             2   \n",
       "760   5.500000    2.050000     1.316894  ...             1             0   \n",
       "\n",
       "     liwc.home  liwc.money  liwc.relig  liwc.death  liwc.assent  liwc.nonfl  \\\n",
       "0            0           0           0           0            0           0   \n",
       "1            0           1           0           0            0           0   \n",
       "2            0           0           0           0            0           0   \n",
       "3            0           0           0           0            0           0   \n",
       "4            0           1           0           0            2           0   \n",
       "..         ...         ...         ...         ...          ...         ...   \n",
       "756          0           0           0           0            0           0   \n",
       "757          0           0           0           0            0           1   \n",
       "758          0           0           0           0            0           0   \n",
       "759          0           2           0           0            0           1   \n",
       "760          0           0           0           0            0           1   \n",
       "\n",
       "     liwc.filler  classe  \n",
       "0              0       0  \n",
       "1              0       0  \n",
       "2              0       0  \n",
       "3              0       0  \n",
       "4              0       1  \n",
       "..           ...     ...  \n",
       "756            0       0  \n",
       "757            0       1  \n",
       "758            0       1  \n",
       "759            0       1  \n",
       "760            0       1  \n",
       "\n",
       "[751 rows x 155 columns]"
      ]
     },
     "execution_count": 17,
     "metadata": {},
     "output_type": "execute_result"
    }
   ],
   "source": [
    "X_train"
   ]
  },
  {
   "cell_type": "markdown",
   "id": "2db86c8c",
   "metadata": {
    "hidden": true
   },
   "source": [
    "## 5.2 Boruta as Feature Selector"
   ]
  },
  {
   "cell_type": "code",
   "execution_count": 18,
   "id": "a6c1bc1e",
   "metadata": {
    "ExecuteTime": {
     "end_time": "2021-08-11T10:27:29.755175Z",
     "start_time": "2021-08-11T10:27:04.824329Z"
    },
    "hidden": true
   },
   "outputs": [
    {
     "name": "stdout",
     "output_type": "stream",
     "text": [
      "Iteration: \t1 / 100\n",
      "Confirmed: \t0\n",
      "Tentative: \t154\n",
      "Rejected: \t0\n",
      "Iteration: \t2 / 100\n",
      "Confirmed: \t0\n",
      "Tentative: \t154\n",
      "Rejected: \t0\n",
      "Iteration: \t3 / 100\n",
      "Confirmed: \t0\n",
      "Tentative: \t154\n",
      "Rejected: \t0\n",
      "Iteration: \t4 / 100\n",
      "Confirmed: \t0\n",
      "Tentative: \t154\n",
      "Rejected: \t0\n",
      "Iteration: \t5 / 100\n",
      "Confirmed: \t0\n",
      "Tentative: \t154\n",
      "Rejected: \t0\n",
      "Iteration: \t6 / 100\n",
      "Confirmed: \t0\n",
      "Tentative: \t154\n",
      "Rejected: \t0\n",
      "Iteration: \t7 / 100\n",
      "Confirmed: \t0\n",
      "Tentative: \t154\n",
      "Rejected: \t0\n",
      "Iteration: \t8 / 100\n",
      "Confirmed: \t24\n",
      "Tentative: \t10\n",
      "Rejected: \t120\n",
      "Iteration: \t9 / 100\n",
      "Confirmed: \t24\n",
      "Tentative: \t10\n",
      "Rejected: \t120\n",
      "Iteration: \t10 / 100\n",
      "Confirmed: \t24\n",
      "Tentative: \t10\n",
      "Rejected: \t120\n",
      "Iteration: \t11 / 100\n",
      "Confirmed: \t24\n",
      "Tentative: \t10\n",
      "Rejected: \t120\n",
      "Iteration: \t12 / 100\n",
      "Confirmed: \t24\n",
      "Tentative: \t7\n",
      "Rejected: \t123\n",
      "Iteration: \t13 / 100\n",
      "Confirmed: \t24\n",
      "Tentative: \t7\n",
      "Rejected: \t123\n",
      "Iteration: \t14 / 100\n",
      "Confirmed: \t24\n",
      "Tentative: \t7\n",
      "Rejected: \t123\n",
      "Iteration: \t15 / 100\n",
      "Confirmed: \t24\n",
      "Tentative: \t7\n",
      "Rejected: \t123\n",
      "Iteration: \t16 / 100\n",
      "Confirmed: \t24\n",
      "Tentative: \t5\n",
      "Rejected: \t125\n",
      "Iteration: \t17 / 100\n",
      "Confirmed: \t24\n",
      "Tentative: \t5\n",
      "Rejected: \t125\n",
      "Iteration: \t18 / 100\n",
      "Confirmed: \t24\n",
      "Tentative: \t5\n",
      "Rejected: \t125\n",
      "Iteration: \t19 / 100\n",
      "Confirmed: \t24\n",
      "Tentative: \t3\n",
      "Rejected: \t127\n",
      "Iteration: \t20 / 100\n",
      "Confirmed: \t24\n",
      "Tentative: \t3\n",
      "Rejected: \t127\n",
      "Iteration: \t21 / 100\n",
      "Confirmed: \t24\n",
      "Tentative: \t3\n",
      "Rejected: \t127\n",
      "Iteration: \t22 / 100\n",
      "Confirmed: \t24\n",
      "Tentative: \t3\n",
      "Rejected: \t127\n",
      "Iteration: \t23 / 100\n",
      "Confirmed: \t24\n",
      "Tentative: \t3\n",
      "Rejected: \t127\n",
      "Iteration: \t24 / 100\n",
      "Confirmed: \t24\n",
      "Tentative: \t3\n",
      "Rejected: \t127\n",
      "Iteration: \t25 / 100\n",
      "Confirmed: \t24\n",
      "Tentative: \t3\n",
      "Rejected: \t127\n",
      "Iteration: \t26 / 100\n",
      "Confirmed: \t24\n",
      "Tentative: \t3\n",
      "Rejected: \t127\n",
      "Iteration: \t27 / 100\n",
      "Confirmed: \t24\n",
      "Tentative: \t3\n",
      "Rejected: \t127\n",
      "Iteration: \t28 / 100\n",
      "Confirmed: \t24\n",
      "Tentative: \t3\n",
      "Rejected: \t127\n",
      "Iteration: \t29 / 100\n",
      "Confirmed: \t24\n",
      "Tentative: \t3\n",
      "Rejected: \t127\n",
      "Iteration: \t30 / 100\n",
      "Confirmed: \t24\n",
      "Tentative: \t3\n",
      "Rejected: \t127\n",
      "Iteration: \t31 / 100\n",
      "Confirmed: \t24\n",
      "Tentative: \t3\n",
      "Rejected: \t127\n",
      "Iteration: \t32 / 100\n",
      "Confirmed: \t24\n",
      "Tentative: \t3\n",
      "Rejected: \t127\n",
      "Iteration: \t33 / 100\n",
      "Confirmed: \t24\n",
      "Tentative: \t3\n",
      "Rejected: \t127\n",
      "Iteration: \t34 / 100\n",
      "Confirmed: \t24\n",
      "Tentative: \t2\n",
      "Rejected: \t128\n",
      "Iteration: \t35 / 100\n",
      "Confirmed: \t24\n",
      "Tentative: \t2\n",
      "Rejected: \t128\n",
      "Iteration: \t36 / 100\n",
      "Confirmed: \t24\n",
      "Tentative: \t2\n",
      "Rejected: \t128\n",
      "Iteration: \t37 / 100\n",
      "Confirmed: \t24\n",
      "Tentative: \t2\n",
      "Rejected: \t128\n",
      "Iteration: \t38 / 100\n",
      "Confirmed: \t24\n",
      "Tentative: \t2\n",
      "Rejected: \t128\n",
      "Iteration: \t39 / 100\n",
      "Confirmed: \t24\n",
      "Tentative: \t2\n",
      "Rejected: \t128\n",
      "Iteration: \t40 / 100\n",
      "Confirmed: \t24\n",
      "Tentative: \t2\n",
      "Rejected: \t128\n",
      "Iteration: \t41 / 100\n",
      "Confirmed: \t24\n",
      "Tentative: \t2\n",
      "Rejected: \t128\n",
      "Iteration: \t42 / 100\n",
      "Confirmed: \t24\n",
      "Tentative: \t2\n",
      "Rejected: \t128\n",
      "Iteration: \t43 / 100\n",
      "Confirmed: \t24\n",
      "Tentative: \t1\n",
      "Rejected: \t129\n",
      "Iteration: \t44 / 100\n",
      "Confirmed: \t24\n",
      "Tentative: \t1\n",
      "Rejected: \t129\n",
      "Iteration: \t45 / 100\n",
      "Confirmed: \t24\n",
      "Tentative: \t1\n",
      "Rejected: \t129\n",
      "Iteration: \t46 / 100\n",
      "Confirmed: \t24\n",
      "Tentative: \t1\n",
      "Rejected: \t129\n",
      "Iteration: \t47 / 100\n",
      "Confirmed: \t24\n",
      "Tentative: \t1\n",
      "Rejected: \t129\n",
      "Iteration: \t48 / 100\n",
      "Confirmed: \t24\n",
      "Tentative: \t1\n",
      "Rejected: \t129\n",
      "Iteration: \t49 / 100\n",
      "Confirmed: \t24\n",
      "Tentative: \t1\n",
      "Rejected: \t129\n",
      "Iteration: \t50 / 100\n",
      "Confirmed: \t24\n",
      "Tentative: \t1\n",
      "Rejected: \t129\n",
      "Iteration: \t51 / 100\n",
      "Confirmed: \t24\n",
      "Tentative: \t1\n",
      "Rejected: \t129\n",
      "Iteration: \t52 / 100\n",
      "Confirmed: \t24\n",
      "Tentative: \t1\n",
      "Rejected: \t129\n",
      "Iteration: \t53 / 100\n",
      "Confirmed: \t24\n",
      "Tentative: \t1\n",
      "Rejected: \t129\n",
      "Iteration: \t54 / 100\n",
      "Confirmed: \t24\n",
      "Tentative: \t1\n",
      "Rejected: \t129\n",
      "Iteration: \t55 / 100\n",
      "Confirmed: \t24\n",
      "Tentative: \t1\n",
      "Rejected: \t129\n",
      "Iteration: \t56 / 100\n",
      "Confirmed: \t24\n",
      "Tentative: \t1\n",
      "Rejected: \t129\n",
      "Iteration: \t57 / 100\n",
      "Confirmed: \t24\n",
      "Tentative: \t1\n",
      "Rejected: \t129\n",
      "Iteration: \t58 / 100\n",
      "Confirmed: \t24\n",
      "Tentative: \t1\n",
      "Rejected: \t129\n",
      "Iteration: \t59 / 100\n",
      "Confirmed: \t24\n",
      "Tentative: \t1\n",
      "Rejected: \t129\n",
      "Iteration: \t60 / 100\n",
      "Confirmed: \t24\n",
      "Tentative: \t1\n",
      "Rejected: \t129\n",
      "Iteration: \t61 / 100\n",
      "Confirmed: \t24\n",
      "Tentative: \t1\n",
      "Rejected: \t129\n",
      "Iteration: \t62 / 100\n",
      "Confirmed: \t24\n",
      "Tentative: \t1\n",
      "Rejected: \t129\n",
      "Iteration: \t63 / 100\n",
      "Confirmed: \t24\n",
      "Tentative: \t1\n",
      "Rejected: \t129\n",
      "Iteration: \t64 / 100\n",
      "Confirmed: \t24\n",
      "Tentative: \t1\n",
      "Rejected: \t129\n",
      "Iteration: \t65 / 100\n",
      "Confirmed: \t24\n",
      "Tentative: \t1\n",
      "Rejected: \t129\n",
      "Iteration: \t66 / 100\n",
      "Confirmed: \t24\n",
      "Tentative: \t1\n",
      "Rejected: \t129\n",
      "Iteration: \t67 / 100\n",
      "Confirmed: \t24\n",
      "Tentative: \t1\n",
      "Rejected: \t129\n",
      "Iteration: \t68 / 100\n",
      "Confirmed: \t24\n",
      "Tentative: \t1\n",
      "Rejected: \t129\n",
      "Iteration: \t69 / 100\n",
      "Confirmed: \t24\n",
      "Tentative: \t1\n",
      "Rejected: \t129\n",
      "Iteration: \t70 / 100\n",
      "Confirmed: \t24\n",
      "Tentative: \t1\n",
      "Rejected: \t129\n",
      "Iteration: \t71 / 100\n",
      "Confirmed: \t24\n",
      "Tentative: \t1\n",
      "Rejected: \t129\n",
      "Iteration: \t72 / 100\n",
      "Confirmed: \t24\n",
      "Tentative: \t1\n",
      "Rejected: \t129\n",
      "Iteration: \t73 / 100\n",
      "Confirmed: \t24\n",
      "Tentative: \t1\n",
      "Rejected: \t129\n",
      "Iteration: \t74 / 100\n",
      "Confirmed: \t24\n",
      "Tentative: \t1\n",
      "Rejected: \t129\n",
      "Iteration: \t75 / 100\n",
      "Confirmed: \t24\n",
      "Tentative: \t1\n",
      "Rejected: \t129\n",
      "Iteration: \t76 / 100\n",
      "Confirmed: \t24\n",
      "Tentative: \t1\n",
      "Rejected: \t129\n",
      "Iteration: \t77 / 100\n",
      "Confirmed: \t24\n",
      "Tentative: \t1\n",
      "Rejected: \t129\n",
      "Iteration: \t78 / 100\n",
      "Confirmed: \t24\n",
      "Tentative: \t1\n",
      "Rejected: \t129\n",
      "Iteration: \t79 / 100\n",
      "Confirmed: \t24\n",
      "Tentative: \t1\n",
      "Rejected: \t129\n",
      "Iteration: \t80 / 100\n",
      "Confirmed: \t24\n",
      "Tentative: \t1\n",
      "Rejected: \t129\n",
      "Iteration: \t81 / 100\n",
      "Confirmed: \t24\n",
      "Tentative: \t1\n",
      "Rejected: \t129\n",
      "Iteration: \t82 / 100\n",
      "Confirmed: \t24\n",
      "Tentative: \t1\n",
      "Rejected: \t129\n",
      "Iteration: \t83 / 100\n",
      "Confirmed: \t24\n",
      "Tentative: \t1\n",
      "Rejected: \t129\n",
      "Iteration: \t84 / 100\n",
      "Confirmed: \t24\n",
      "Tentative: \t1\n",
      "Rejected: \t129\n",
      "Iteration: \t85 / 100\n",
      "Confirmed: \t24\n",
      "Tentative: \t1\n",
      "Rejected: \t129\n",
      "Iteration: \t86 / 100\n",
      "Confirmed: \t24\n",
      "Tentative: \t1\n",
      "Rejected: \t129\n",
      "Iteration: \t87 / 100\n",
      "Confirmed: \t24\n",
      "Tentative: \t1\n",
      "Rejected: \t129\n",
      "Iteration: \t88 / 100\n",
      "Confirmed: \t24\n",
      "Tentative: \t1\n",
      "Rejected: \t129\n",
      "Iteration: \t89 / 100\n",
      "Confirmed: \t24\n",
      "Tentative: \t1\n",
      "Rejected: \t129\n",
      "Iteration: \t90 / 100\n",
      "Confirmed: \t24\n",
      "Tentative: \t1\n",
      "Rejected: \t129\n",
      "Iteration: \t91 / 100\n",
      "Confirmed: \t24\n",
      "Tentative: \t1\n",
      "Rejected: \t129\n",
      "Iteration: \t92 / 100\n",
      "Confirmed: \t24\n",
      "Tentative: \t1\n",
      "Rejected: \t129\n",
      "Iteration: \t93 / 100\n",
      "Confirmed: \t24\n",
      "Tentative: \t1\n",
      "Rejected: \t129\n",
      "Iteration: \t94 / 100\n",
      "Confirmed: \t24\n",
      "Tentative: \t1\n",
      "Rejected: \t129\n",
      "Iteration: \t95 / 100\n",
      "Confirmed: \t24\n",
      "Tentative: \t1\n",
      "Rejected: \t129\n",
      "Iteration: \t96 / 100\n",
      "Confirmed: \t24\n",
      "Tentative: \t1\n",
      "Rejected: \t129\n",
      "Iteration: \t97 / 100\n",
      "Confirmed: \t24\n",
      "Tentative: \t1\n",
      "Rejected: \t129\n",
      "Iteration: \t98 / 100\n",
      "Confirmed: \t24\n",
      "Tentative: \t1\n",
      "Rejected: \t129\n",
      "Iteration: \t99 / 100\n",
      "Confirmed: \t24\n",
      "Tentative: \t1\n",
      "Rejected: \t129\n",
      "\n",
      "\n",
      "BorutaPy finished running.\n",
      "\n",
      "Iteration: \t100 / 100\n",
      "Confirmed: \t24\n",
      "Tentative: \t1\n",
      "Rejected: \t129\n"
     ]
    }
   ],
   "source": [
    "# training and test dataset for Boruta\n",
    "X_train_n = X_train.drop( ['classe'], axis=1 ).values \n",
    "y_train_n = y_train.values.ravel() \n",
    "\n",
    "# define RandomForestRegressor\n",
    "rf = RandomForestClassifier( random_state=42 )\n",
    "\n",
    "# define Boruta\n",
    "boruta = BorutaPy( rf, n_estimators='auto', verbose=2, random_state=42 ).fit( X_train_n, y_train_n )\n"
   ]
  },
  {
   "cell_type": "markdown",
   "id": "c762c05b",
   "metadata": {
    "heading_collapsed": true,
    "hidden": true
   },
   "source": [
    "### 4.2.1 Best features Boruta"
   ]
  },
  {
   "cell_type": "code",
   "execution_count": 19,
   "id": "4de8636f",
   "metadata": {
    "ExecuteTime": {
     "end_time": "2021-08-11T10:27:29.771181Z",
     "start_time": "2021-08-11T10:27:29.757176Z"
    },
    "hidden": true
   },
   "outputs": [],
   "source": [
    "cols_selected = boruta.support_.tolist() # devolve o valor do rank baseado na relevancia\n",
    "\n",
    "# best features \n",
    "X_train_fs = X_train.drop( ['classe'], axis=1 ) # axis=1 dropar as colunas inteiras\n",
    "cols_selected_boruta = X_train_fs.iloc[:, cols_selected].columns.to_list()\n",
    "\n",
    "# # not selected boruta \n",
    "cols_not_selected_boruta = np.setdiff1d"
   ]
  },
  {
   "cell_type": "code",
   "execution_count": 20,
   "id": "a71743a5",
   "metadata": {
    "ExecuteTime": {
     "end_time": "2021-08-11T10:27:29.898186Z",
     "start_time": "2021-08-11T10:27:29.774180Z"
    },
    "hidden": true
   },
   "outputs": [],
   "source": [
    "del cols_selected_boruta[0] # removing 'id' from cols_selected_boruta \n"
   ]
  },
  {
   "cell_type": "code",
   "execution_count": 21,
   "id": "a2410400",
   "metadata": {
    "ExecuteTime": {
     "end_time": "2021-08-11T10:27:30.025195Z",
     "start_time": "2021-08-11T10:27:29.900186Z"
    },
    "hidden": true
   },
   "outputs": [
    {
     "data": {
      "text/plain": [
       "['cm.DESWC',\n",
       " 'cm.DESSL',\n",
       " 'cm.DESWLsy',\n",
       " 'cm.DESWLltd',\n",
       " 'cm.SMCAUSlsa',\n",
       " 'cm.SMCAUSwn',\n",
       " 'cm.WRDNOUN',\n",
       " 'cm.WRDVERB',\n",
       " 'cm.WRDFRQc',\n",
       " 'cm.WRDFRQa',\n",
       " 'cm.WRDFRQmc',\n",
       " 'cm.WRDFAMc',\n",
       " 'cm.WRDCNCc',\n",
       " 'cm.WRDIMGc',\n",
       " 'cm.WRDMEAc',\n",
       " 'cm.RDFRE',\n",
       " 'cm.RDFKGL',\n",
       " 'liwc.funct',\n",
       " 'liwc.preps',\n",
       " 'liwc.social',\n",
       " 'liwc.cogmech',\n",
       " 'liwc.relativ',\n",
       " 'liwc.space']"
      ]
     },
     "execution_count": 21,
     "metadata": {},
     "output_type": "execute_result"
    }
   ],
   "source": [
    "cols_selected_boruta"
   ]
  },
  {
   "cell_type": "code",
   "execution_count": 22,
   "id": "c0fd4255",
   "metadata": {
    "ExecuteTime": {
     "end_time": "2021-08-11T10:27:30.120203Z",
     "start_time": "2021-08-11T10:27:30.027196Z"
    },
    "hidden": true
   },
   "outputs": [
    {
     "data": {
      "text/plain": [
       "['cm.DESWC',\n",
       " 'cm.DESSL',\n",
       " 'cm.DESWLsy',\n",
       " 'cm.DESWLltd',\n",
       " 'cm.SMCAUSlsa',\n",
       " 'cm.SMCAUSwn',\n",
       " 'cm.WRDNOUN',\n",
       " 'cm.WRDVERB',\n",
       " 'cm.WRDFRQc',\n",
       " 'cm.WRDFRQa',\n",
       " 'cm.WRDFRQmc',\n",
       " 'cm.WRDFAMc',\n",
       " 'cm.WRDCNCc',\n",
       " 'cm.WRDIMGc',\n",
       " 'cm.WRDMEAc',\n",
       " 'cm.RDFRE',\n",
       " 'cm.RDFKGL',\n",
       " 'liwc.funct',\n",
       " 'liwc.preps',\n",
       " 'liwc.social',\n",
       " 'liwc.cogmech',\n",
       " 'liwc.relativ',\n",
       " 'liwc.space']"
      ]
     },
     "execution_count": 22,
     "metadata": {},
     "output_type": "execute_result"
    }
   ],
   "source": [
    "cols_selected_boruta\n"
   ]
  },
  {
   "cell_type": "markdown",
   "id": "9edd8317",
   "metadata": {},
   "source": [
    "# 6.0 Machine Learning Modelling"
   ]
  },
  {
   "cell_type": "code",
   "execution_count": 23,
   "id": "875d8cb8",
   "metadata": {
    "ExecuteTime": {
     "end_time": "2021-08-11T10:27:30.216210Z",
     "start_time": "2021-08-11T10:27:30.126205Z"
    }
   },
   "outputs": [],
   "source": [
    "x_train = X_train[ cols_selected_boruta ]\n",
    "x_test = X_test[ cols_selected_boruta ]"
   ]
  },
  {
   "cell_type": "markdown",
   "id": "3875fe13",
   "metadata": {
    "heading_collapsed": true
   },
   "source": [
    "##  6.1. Stochastic Gradient Descent Classifier (SGDClassifier)"
   ]
  },
  {
   "cell_type": "code",
   "execution_count": 24,
   "id": "9ea18743",
   "metadata": {
    "ExecuteTime": {
     "end_time": "2021-08-11T10:27:30.327218Z",
     "start_time": "2021-08-11T10:27:30.220212Z"
    },
    "hidden": true
   },
   "outputs": [],
   "source": [
    "#  # Train SGDClassifier\n",
    "# sgdc = SGDClassifier(random_state=42)\n",
    "# sgdc.fit(X_train, y_train)\n",
    "\n",
    "# # Predict\n",
    "# sgdc_yhat = sgdc.predict(X_test)\n",
    "\n",
    "# # ROC-AUC\n",
    "# sgdc_cv = cross_val_predict(sgdc, X_train, y_train, cv=5, method='decision_function')\n",
    "# sgd_roc_auc = roc_auc_score(y_train, sgdc_cv)\n",
    "\n",
    "# # performance\n",
    "# sgdc_performance = pd.DataFrame(['SGDClassifier',\n",
    "#                                     accuracy_score(y_test, sgdc_yhat),\n",
    "#                                     precision_score(y_test, sgdc_yhat),\n",
    "#                                     recall_score(y_test, sgdc_yhat),\n",
    "#                                     f1_score(y_test, sgdc_yhat),\n",
    "#                                     sgd_roc_auc]).T\n",
    "# sgdc_performance.columns = ['Model', 'Accuracy', 'Precision', 'Recall', 'F1-Score', 'ROC-AUC']\n",
    "\n",
    "\n",
    "# sgdc_performance"
   ]
  },
  {
   "cell_type": "markdown",
   "id": "395691e4",
   "metadata": {
    "heading_collapsed": true
   },
   "source": [
    "## 6.2 Logistic Regression"
   ]
  },
  {
   "cell_type": "code",
   "execution_count": 25,
   "id": "b5a2c287",
   "metadata": {
    "ExecuteTime": {
     "end_time": "2021-08-11T10:27:30.662245Z",
     "start_time": "2021-08-11T10:27:30.330219Z"
    },
    "hidden": true
   },
   "outputs": [
    {
     "data": {
      "text/html": [
       "<div>\n",
       "<style scoped>\n",
       "    .dataframe tbody tr th:only-of-type {\n",
       "        vertical-align: middle;\n",
       "    }\n",
       "\n",
       "    .dataframe tbody tr th {\n",
       "        vertical-align: top;\n",
       "    }\n",
       "\n",
       "    .dataframe thead th {\n",
       "        text-align: right;\n",
       "    }\n",
       "</style>\n",
       "<table border=\"1\" class=\"dataframe\">\n",
       "  <thead>\n",
       "    <tr style=\"text-align: right;\">\n",
       "      <th></th>\n",
       "      <th>Model</th>\n",
       "      <th>Accuracy</th>\n",
       "      <th>Precision</th>\n",
       "      <th>Recall</th>\n",
       "      <th>F1-Score</th>\n",
       "      <th>cohen_kappa_score</th>\n",
       "    </tr>\n",
       "  </thead>\n",
       "  <tbody>\n",
       "    <tr>\n",
       "      <th>0</th>\n",
       "      <td>Logistic Regression</td>\n",
       "      <td>0.947791</td>\n",
       "      <td>0.970213</td>\n",
       "      <td>0.974359</td>\n",
       "      <td>0.972281</td>\n",
       "      <td>0.524041</td>\n",
       "    </tr>\n",
       "  </tbody>\n",
       "</table>\n",
       "</div>"
      ],
      "text/plain": [
       "                 Model  Accuracy Precision    Recall  F1-Score  \\\n",
       "0  Logistic Regression  0.947791  0.970213  0.974359  0.972281   \n",
       "\n",
       "  cohen_kappa_score  \n",
       "0          0.524041  "
      ]
     },
     "execution_count": 25,
     "metadata": {},
     "output_type": "execute_result"
    }
   ],
   "source": [
    "# Train Logistic Regression Model\n",
    "logreg = LogisticRegression(random_state=42)\n",
    "logreg.fit(x_train, y_train)\n",
    "\n",
    "# Predict\n",
    "logreg_yhat = logreg.predict(x_test)\n",
    "\n",
    "# ROC-AUC\n",
    "logreg_cv = cross_val_predict(logreg, x_train, y_train, cv=5, method='decision_function')\n",
    "logreg_roc_auc = roc_auc_score(y_train, logreg_cv)\n",
    "\n",
    "# performance\n",
    "logreg_performance = pd.DataFrame(['Logistic Regression',\n",
    "                                    accuracy_score(y_test, logreg_yhat),\n",
    "                                    precision_score(y_test, logreg_yhat),\n",
    "                                    recall_score(y_test, logreg_yhat),\n",
    "                                    f1_score(y_test, logreg_yhat),\n",
    "                                    cohen_kappa_score(y_test, logreg_yhat)]).T\n",
    "logreg_performance.columns = ['Model', 'Accuracy', 'Precision', 'Recall', 'F1-Score', 'cohen_kappa_score']\n",
    "\n",
    "\n",
    "logreg_performance"
   ]
  },
  {
   "cell_type": "markdown",
   "id": "a188d53a",
   "metadata": {},
   "source": [
    "## 6.3 Random Forest Classifier"
   ]
  },
  {
   "cell_type": "code",
   "execution_count": 26,
   "id": "da697d03",
   "metadata": {
    "ExecuteTime": {
     "end_time": "2021-08-11T10:27:30.933263Z",
     "start_time": "2021-08-11T10:27:30.665247Z"
    }
   },
   "outputs": [
    {
     "data": {
      "text/html": [
       "<div>\n",
       "<style scoped>\n",
       "    .dataframe tbody tr th:only-of-type {\n",
       "        vertical-align: middle;\n",
       "    }\n",
       "\n",
       "    .dataframe tbody tr th {\n",
       "        vertical-align: top;\n",
       "    }\n",
       "\n",
       "    .dataframe thead th {\n",
       "        text-align: right;\n",
       "    }\n",
       "</style>\n",
       "<table border=\"1\" class=\"dataframe\">\n",
       "  <thead>\n",
       "    <tr style=\"text-align: right;\">\n",
       "      <th></th>\n",
       "      <th>Model</th>\n",
       "      <th>Accuracy</th>\n",
       "      <th>Precision</th>\n",
       "      <th>Recall</th>\n",
       "      <th>F1-Score</th>\n",
       "      <th>cohen_kappa_score</th>\n",
       "    </tr>\n",
       "  </thead>\n",
       "  <tbody>\n",
       "    <tr>\n",
       "      <th>0</th>\n",
       "      <td>Random Forest Classifier</td>\n",
       "      <td>0.943775</td>\n",
       "      <td>0.970085</td>\n",
       "      <td>0.970085</td>\n",
       "      <td>0.970085</td>\n",
       "      <td>0.503419</td>\n",
       "    </tr>\n",
       "  </tbody>\n",
       "</table>\n",
       "</div>"
      ],
      "text/plain": [
       "                      Model  Accuracy Precision    Recall  F1-Score  \\\n",
       "0  Random Forest Classifier  0.943775  0.970085  0.970085  0.970085   \n",
       "\n",
       "  cohen_kappa_score  \n",
       "0          0.503419  "
      ]
     },
     "execution_count": 26,
     "metadata": {},
     "output_type": "execute_result"
    }
   ],
   "source": [
    " # Train Random Forest\n",
    "randforest = RandomForestClassifier(random_state=42, n_jobs=-1)\n",
    "randforest.fit(x_train, y_train)\n",
    "\n",
    "# Predict\n",
    "randforest_yhat = randforest.predict(x_test)\n",
    "\n",
    "# performance\n",
    "randforest_performance = pd.DataFrame(['Random Forest Classifier',\n",
    "                                    accuracy_score(y_test, randforest_yhat),\n",
    "                                    precision_score(y_test, randforest_yhat),\n",
    "                                    recall_score(y_test, randforest_yhat),\n",
    "                                    f1_score(y_test, randforest_yhat),\n",
    "                                    cohen_kappa_score(y_test, randforest_yhat)]).T\n",
    "randforest_performance.columns = ['Model', 'Accuracy', 'Precision', 'Recall', 'F1-Score', 'cohen_kappa_score']\n",
    "\n",
    "\n",
    "randforest_performance"
   ]
  },
  {
   "cell_type": "markdown",
   "id": "e93978ba",
   "metadata": {
    "heading_collapsed": true
   },
   "source": [
    "## 6.4 Support Vector Machine Classifier"
   ]
  },
  {
   "cell_type": "code",
   "execution_count": 27,
   "id": "99c34b56",
   "metadata": {
    "ExecuteTime": {
     "end_time": "2021-08-11T10:27:30.996270Z",
     "start_time": "2021-08-11T10:27:30.935265Z"
    },
    "hidden": true
   },
   "outputs": [
    {
     "data": {
      "text/html": [
       "<div>\n",
       "<style scoped>\n",
       "    .dataframe tbody tr th:only-of-type {\n",
       "        vertical-align: middle;\n",
       "    }\n",
       "\n",
       "    .dataframe tbody tr th {\n",
       "        vertical-align: top;\n",
       "    }\n",
       "\n",
       "    .dataframe thead th {\n",
       "        text-align: right;\n",
       "    }\n",
       "</style>\n",
       "<table border=\"1\" class=\"dataframe\">\n",
       "  <thead>\n",
       "    <tr style=\"text-align: right;\">\n",
       "      <th></th>\n",
       "      <th>Model</th>\n",
       "      <th>Accuracy</th>\n",
       "      <th>Precision</th>\n",
       "      <th>Recall</th>\n",
       "      <th>F1-Score</th>\n",
       "      <th>cohen_kappa-score</th>\n",
       "    </tr>\n",
       "  </thead>\n",
       "  <tbody>\n",
       "    <tr>\n",
       "      <th>0</th>\n",
       "      <td>SVM Classifier</td>\n",
       "      <td>0.955823</td>\n",
       "      <td>0.955102</td>\n",
       "      <td>1.0</td>\n",
       "      <td>0.977035</td>\n",
       "      <td>0.405986</td>\n",
       "    </tr>\n",
       "  </tbody>\n",
       "</table>\n",
       "</div>"
      ],
      "text/plain": [
       "            Model  Accuracy Precision Recall  F1-Score cohen_kappa-score\n",
       "0  SVM Classifier  0.955823  0.955102    1.0  0.977035          0.405986"
      ]
     },
     "execution_count": 27,
     "metadata": {},
     "output_type": "execute_result"
    }
   ],
   "source": [
    "# Training SVM\n",
    "svm = SVC(random_state=42)\n",
    "svm.fit(x_train, y_train)\n",
    "\n",
    "# Predict\n",
    "svm_yhat = svm.predict(x_test)\n",
    "\n",
    "# performance\n",
    "svm_performance = pd.DataFrame( ['SVM Classifier',\n",
    "                                    accuracy_score(y_test, svm_yhat),\n",
    "                                    precision_score(y_test, svm_yhat),\n",
    "                                    recall_score(y_test, svm_yhat),\n",
    "                                    f1_score(y_test, svm_yhat),\n",
    "                                    cohen_kappa_score(y_test, svm_yhat)] ).T\n",
    "svm_performance.columns = ['Model', 'Accuracy', 'Precision', 'Recall', 'F1-Score', 'cohen_kappa-score']\n",
    "\n",
    "\n",
    "svm_performance"
   ]
  },
  {
   "cell_type": "markdown",
   "id": "a5c46813",
   "metadata": {
    "heading_collapsed": true
   },
   "source": [
    "## 6.5 XGB Classifier"
   ]
  },
  {
   "cell_type": "code",
   "execution_count": 28,
   "id": "f78126eb",
   "metadata": {
    "ExecuteTime": {
     "end_time": "2021-08-11T10:27:31.234285Z",
     "start_time": "2021-08-11T10:27:30.998268Z"
    },
    "hidden": true
   },
   "outputs": [
    {
     "data": {
      "text/html": [
       "<div>\n",
       "<style scoped>\n",
       "    .dataframe tbody tr th:only-of-type {\n",
       "        vertical-align: middle;\n",
       "    }\n",
       "\n",
       "    .dataframe tbody tr th {\n",
       "        vertical-align: top;\n",
       "    }\n",
       "\n",
       "    .dataframe thead th {\n",
       "        text-align: right;\n",
       "    }\n",
       "</style>\n",
       "<table border=\"1\" class=\"dataframe\">\n",
       "  <thead>\n",
       "    <tr style=\"text-align: right;\">\n",
       "      <th></th>\n",
       "      <th>Model</th>\n",
       "      <th>Accuracy</th>\n",
       "      <th>Precision</th>\n",
       "      <th>Recall</th>\n",
       "      <th>F1-Score</th>\n",
       "      <th>cohen_kappa_score</th>\n",
       "    </tr>\n",
       "  </thead>\n",
       "  <tbody>\n",
       "    <tr>\n",
       "      <th>0</th>\n",
       "      <td>XGBooster Classifier</td>\n",
       "      <td>0.935743</td>\n",
       "      <td>0.973913</td>\n",
       "      <td>0.957265</td>\n",
       "      <td>0.965517</td>\n",
       "      <td>0.495441</td>\n",
       "    </tr>\n",
       "  </tbody>\n",
       "</table>\n",
       "</div>"
      ],
      "text/plain": [
       "                  Model  Accuracy Precision    Recall  F1-Score  \\\n",
       "0  XGBooster Classifier  0.935743  0.973913  0.957265  0.965517   \n",
       "\n",
       "  cohen_kappa_score  \n",
       "0          0.495441  "
      ]
     },
     "execution_count": 28,
     "metadata": {},
     "output_type": "execute_result"
    }
   ],
   "source": [
    " # Train Random Forest\n",
    "xgboost = xgb.XGBClassifier(random_state=42, eval_metric='error')\n",
    "xgboost.fit(x_train, y_train);\n",
    "\n",
    "# Predict\n",
    "xgboost_yhat = xgboost.predict(x_test);\n",
    "\n",
    "# performance\n",
    "xgboost_performance = pd.DataFrame(['XGBooster Classifier',\n",
    "                                    accuracy_score(y_test, xgboost_yhat),\n",
    "                                    precision_score(y_test, xgboost_yhat),\n",
    "                                    recall_score(y_test, xgboost_yhat),\n",
    "                                    f1_score(y_test, xgboost_yhat),\n",
    "                                    cohen_kappa_score(y_test, xgboost_yhat) ]).T\n",
    "xgboost_performance.columns = ['Model', 'Accuracy', 'Precision', 'Recall', 'F1-Score', 'cohen_kappa_score']\n",
    "\n",
    "xgboost_performance"
   ]
  },
  {
   "cell_type": "markdown",
   "id": "0065de1d",
   "metadata": {
    "ExecuteTime": {
     "end_time": "2021-07-01T19:37:40.697695Z",
     "start_time": "2021-07-01T19:37:40.684693Z"
    },
    "heading_collapsed": true
   },
   "source": [
    "## 6.6 Cross-validation of all models"
   ]
  },
  {
   "cell_type": "code",
   "execution_count": 29,
   "id": "f84f1f3b",
   "metadata": {
    "ExecuteTime": {
     "end_time": "2021-08-11T10:27:31.250287Z",
     "start_time": "2021-08-11T10:27:31.236286Z"
    },
    "hidden": true
   },
   "outputs": [],
   "source": [
    "# Merging train and test dataset to make the Cross-Validation\n",
    "x_full = pd.concat([x_train, x_test])\n",
    "y_full = pd.concat([y_train, y_test])"
   ]
  },
  {
   "cell_type": "code",
   "execution_count": 30,
   "id": "54572906",
   "metadata": {
    "ExecuteTime": {
     "end_time": "2021-08-11T10:27:40.321961Z",
     "start_time": "2021-08-11T10:27:31.253288Z"
    },
    "hidden": true
   },
   "outputs": [
    {
     "data": {
      "text/html": [
       "<div>\n",
       "<style scoped>\n",
       "    .dataframe tbody tr th:only-of-type {\n",
       "        vertical-align: middle;\n",
       "    }\n",
       "\n",
       "    .dataframe tbody tr th {\n",
       "        vertical-align: top;\n",
       "    }\n",
       "\n",
       "    .dataframe thead th {\n",
       "        text-align: right;\n",
       "    }\n",
       "</style>\n",
       "<table border=\"1\" class=\"dataframe\">\n",
       "  <thead>\n",
       "    <tr style=\"text-align: right;\">\n",
       "      <th></th>\n",
       "      <th>Model</th>\n",
       "      <th>Mean</th>\n",
       "      <th>std</th>\n",
       "    </tr>\n",
       "  </thead>\n",
       "  <tbody>\n",
       "    <tr>\n",
       "      <th>0</th>\n",
       "      <td>Randforest</td>\n",
       "      <td>92.6</td>\n",
       "      <td>3.583</td>\n",
       "    </tr>\n",
       "    <tr>\n",
       "      <th>0</th>\n",
       "      <td>logistic Reg</td>\n",
       "      <td>92.1</td>\n",
       "      <td>2.982</td>\n",
       "    </tr>\n",
       "    <tr>\n",
       "      <th>0</th>\n",
       "      <td>SVM classifier</td>\n",
       "      <td>91.7</td>\n",
       "      <td>2.193</td>\n",
       "    </tr>\n",
       "    <tr>\n",
       "      <th>0</th>\n",
       "      <td>XGBoost Classifier</td>\n",
       "      <td>91.7</td>\n",
       "      <td>3.318</td>\n",
       "    </tr>\n",
       "  </tbody>\n",
       "</table>\n",
       "</div>"
      ],
      "text/plain": [
       "                Model  Mean    std\n",
       "0          Randforest  92.6  3.583\n",
       "0        logistic Reg  92.1  2.982\n",
       "0      SVM classifier  91.7  2.193\n",
       "0  XGBoost Classifier  91.7  3.318"
      ]
     },
     "execution_count": 30,
     "metadata": {},
     "output_type": "execute_result"
    }
   ],
   "source": [
    "# Accuracy of randforest\n",
    "randforest_cv = cross_val_score(randforest, x_full, y_full, cv=10, scoring='accuracy')\n",
    "randforest_cv_acc = pd.DataFrame(['Randforest', (randforest_cv.mean() * 100).round(3),(randforest_cv.std() * 100).round(3)]).T\n",
    "\n",
    "# # Accuracy of sdgc\n",
    "# sgdc_cv = cross_val_score(sgdc, x_full, y_full, cv=10, scoring='accuracy')\n",
    "# sgdc_cv_acc = pd.DataFrame(['Sdgc', (sgdc_cv.mean() * 100).round(3),(sgdc_cv.std() * 100).round(3)]).T\n",
    "\n",
    "# Accuracy of logistic Regression\n",
    "logreg_cv = cross_val_score(logreg, x_full, y_full, cv=10, scoring='accuracy')\n",
    "logreg_cv_acc = pd.DataFrame(['logistic Reg', (logreg_cv.mean() * 100).round(3),(logreg_cv.std() * 100).round(3)]).T\n",
    "\n",
    "# Accuracy of SVM Model\n",
    "svm_cv = cross_val_score(svm, x_full, y_full, cv=10, scoring='accuracy')\n",
    "svm_cv_acc = pd.DataFrame(['SVM classifier', (svm_cv.mean() * 100).round(3),(svm_cv.std() * 100).round(3)]).T\n",
    "\n",
    "# Accuracy of XGBoost Classifier\n",
    "xgboost_cv = cross_val_score(xgboost, x_full, y_full, cv=10, scoring='accuracy')\n",
    "xgboost_cv_acc = pd.DataFrame(['XGBoost Classifier', (xgboost_cv.mean() * 100).round(3),(xgboost_cv.std() * 100).round(3)]).T\n",
    "\n",
    "\n",
    "\n",
    "General_cv= pd.concat([randforest_cv_acc, logreg_cv_acc, svm_cv_acc, xgboost_cv_acc])\n",
    "\n",
    "General_cv.columns = ['Model', 'Mean', 'std']\n",
    "General_cv"
   ]
  },
  {
   "cell_type": "markdown",
   "id": "8665eaaa",
   "metadata": {},
   "source": [
    "# 7.0 Hyperparameter Fine Tuning"
   ]
  },
  {
   "cell_type": "markdown",
   "id": "823a9b31",
   "metadata": {
    "heading_collapsed": true
   },
   "source": [
    "## 7.1 Grid Search"
   ]
  },
  {
   "cell_type": "code",
   "execution_count": 31,
   "id": "14889a56",
   "metadata": {
    "ExecuteTime": {
     "end_time": "2021-08-11T10:27:40.337961Z",
     "start_time": "2021-08-11T10:27:40.323961Z"
    },
    "hidden": true
   },
   "outputs": [],
   "source": [
    "# Number of trees in random forest\n",
    "n_estimators_k = [int(x) for x in np.linspace(start = 50, stop = 1000, num = 20)]\n",
    "# Maximum number of levels in tree\n",
    "max_depth_k = [int(y) for y in np.linspace(start = 1, stop = 50, num = 50)]\n",
    "\n",
    "        "
   ]
  },
  {
   "cell_type": "code",
   "execution_count": 32,
   "id": "cad8a3b4",
   "metadata": {
    "ExecuteTime": {
     "end_time": "2021-08-11T10:27:40.432967Z",
     "start_time": "2021-08-11T10:27:40.341961Z"
    },
    "hidden": true
   },
   "outputs": [],
   "source": [
    "# Create the param_grid\n",
    "param_grid = {'n_estimators': n_estimators_k,\n",
    "               'max_depth': max_depth_k\n",
    "             }"
   ]
  },
  {
   "cell_type": "code",
   "execution_count": 33,
   "id": "0632d445",
   "metadata": {
    "ExecuteTime": {
     "end_time": "2021-08-11T10:27:40.527974Z",
     "start_time": "2021-08-11T10:27:40.434968Z"
    },
    "hidden": true
   },
   "outputs": [],
   "source": [
    "rf_Grid = GridSearchCV(estimator = randforest, param_grid = param_grid, verbose=2, n_jobs = 4)\n"
   ]
  },
  {
   "cell_type": "code",
   "execution_count": 34,
   "id": "21f6ef6d",
   "metadata": {
    "ExecuteTime": {
     "end_time": "2021-08-11T10:56:56.478101Z",
     "start_time": "2021-08-11T10:27:40.530976Z"
    },
    "hidden": true
   },
   "outputs": [
    {
     "name": "stdout",
     "output_type": "stream",
     "text": [
      "Fitting 5 folds for each of 1000 candidates, totalling 5000 fits\n"
     ]
    },
    {
     "data": {
      "text/plain": [
       "GridSearchCV(estimator=RandomForestClassifier(n_jobs=-1, random_state=42),\n",
       "             n_jobs=4,\n",
       "             param_grid={'max_depth': [1, 2, 3, 4, 5, 6, 7, 8, 9, 10, 11, 12,\n",
       "                                       13, 14, 15, 16, 17, 18, 19, 20, 21, 22,\n",
       "                                       23, 24, 25, 26, 27, 28, 29, 30, ...],\n",
       "                         'n_estimators': [50, 100, 150, 200, 250, 300, 350, 400,\n",
       "                                          450, 500, 550, 600, 650, 700, 750,\n",
       "                                          800, 850, 900, 950, 1000]},\n",
       "             verbose=2)"
      ]
     },
     "execution_count": 34,
     "metadata": {},
     "output_type": "execute_result"
    }
   ],
   "source": [
    "rf_Grid.fit(x_train, y_train)"
   ]
  },
  {
   "cell_type": "code",
   "execution_count": 36,
   "id": "5423dabb",
   "metadata": {
    "ExecuteTime": {
     "end_time": "2021-08-11T11:01:54.977227Z",
     "start_time": "2021-08-11T11:01:54.959226Z"
    },
    "hidden": true
   },
   "outputs": [
    {
     "data": {
      "text/plain": [
       "{'max_depth': 6, 'n_estimators': 300}"
      ]
     },
     "execution_count": 36,
     "metadata": {},
     "output_type": "execute_result"
    }
   ],
   "source": [
    "rf_Grid.best_params_\n"
   ]
  },
  {
   "cell_type": "markdown",
   "id": "c8125bfb",
   "metadata": {},
   "source": [
    "## 7.2 Final Model"
   ]
  },
  {
   "cell_type": "code",
   "execution_count": 37,
   "id": "c0d8dc71",
   "metadata": {
    "ExecuteTime": {
     "end_time": "2021-08-11T11:08:33.779783Z",
     "start_time": "2021-08-11T11:08:33.765781Z"
    }
   },
   "outputs": [],
   "source": [
    "param_tuned = {\n",
    "    'n_estimators': 300,\n",
    "    'max_depth': 6,\n",
    "        }"
   ]
  },
  {
   "cell_type": "code",
   "execution_count": 51,
   "id": "9f6977ed",
   "metadata": {
    "ExecuteTime": {
     "end_time": "2021-08-11T11:23:41.773084Z",
     "start_time": "2021-08-11T11:23:40.228964Z"
    }
   },
   "outputs": [
    {
     "data": {
      "text/html": [
       "<div>\n",
       "<style scoped>\n",
       "    .dataframe tbody tr th:only-of-type {\n",
       "        vertical-align: middle;\n",
       "    }\n",
       "\n",
       "    .dataframe tbody tr th {\n",
       "        vertical-align: top;\n",
       "    }\n",
       "\n",
       "    .dataframe thead th {\n",
       "        text-align: right;\n",
       "    }\n",
       "</style>\n",
       "<table border=\"1\" class=\"dataframe\">\n",
       "  <thead>\n",
       "    <tr style=\"text-align: right;\">\n",
       "      <th></th>\n",
       "      <th>Model</th>\n",
       "      <th>Accuracy</th>\n",
       "      <th>Precision</th>\n",
       "      <th>Recall</th>\n",
       "      <th>F1-Score</th>\n",
       "      <th>cohen_kappa_score</th>\n",
       "    </tr>\n",
       "  </thead>\n",
       "  <tbody>\n",
       "    <tr>\n",
       "      <th>0</th>\n",
       "      <td>Random Forest Classifier</td>\n",
       "      <td>0.951807</td>\n",
       "      <td>0.974359</td>\n",
       "      <td>0.974359</td>\n",
       "      <td>0.974359</td>\n",
       "      <td>0.574359</td>\n",
       "    </tr>\n",
       "  </tbody>\n",
       "</table>\n",
       "</div>"
      ],
      "text/plain": [
       "                      Model  Accuracy Precision    Recall  F1-Score  \\\n",
       "0  Random Forest Classifier  0.951807  0.974359  0.974359  0.974359   \n",
       "\n",
       "  cohen_kappa_score  \n",
       "0          0.574359  "
      ]
     },
     "execution_count": 51,
     "metadata": {},
     "output_type": "execute_result"
    }
   ],
   "source": [
    " # Train Random Forest\n",
    "randforest_tuned = RandomForestClassifier(max_depth=param_tuned['max_depth'], n_estimators=param_tuned['n_estimators'], random_state=43). fit(x_train, y_train)\n",
    "randforest_tuned.fit(x_train, y_train)\n",
    "\n",
    "# Predict\n",
    "randforest_tuned_yhat = randforest_tuned.predict( x_test )\n",
    "\n",
    "\n",
    "# performance\n",
    "randforest_tuned_performance = pd.DataFrame(['Random Forest Classifier',\n",
    "                                    accuracy_score(y_test, randforest_tuned_yhat),\n",
    "                                    precision_score(y_test, randforest_tuned_yhat),\n",
    "                                    recall_score(y_test, randforest_tuned_yhat),\n",
    "                                    f1_score(y_test, randforest_tuned_yhat),\n",
    "                                    cohen_kappa_score(y_test, randforest_tuned_yhat)]).T\n",
    "randforest_tuned_performance.columns = ['Model', 'Accuracy', 'Precision', 'Recall', 'F1-Score', 'cohen_kappa_score']\n",
    "\n",
    "\n",
    "randforest_tuned_performance"
   ]
  },
  {
   "cell_type": "code",
   "execution_count": 58,
   "id": "4c0f5a57",
   "metadata": {
    "ExecuteTime": {
     "end_time": "2021-08-11T11:28:35.553850Z",
     "start_time": "2021-08-11T11:28:35.523850Z"
    }
   },
   "outputs": [],
   "source": [
    "pickle.dump( randforest_tuned, open('C:/Users/PICHAU/Desktop/AIbox-Feedback/AIBOX-Mlfeedback/param_and_model//model_feedback.pkl', 'wb' ) )"
   ]
  }
 ],
 "metadata": {
  "kernelspec": {
   "display_name": "Python 3",
   "language": "python",
   "name": "python3"
  },
  "language_info": {
   "codemirror_mode": {
    "name": "ipython",
    "version": 3
   },
   "file_extension": ".py",
   "mimetype": "text/x-python",
   "name": "python",
   "nbconvert_exporter": "python",
   "pygments_lexer": "ipython3",
   "version": "3.8.10"
  },
  "latex_envs": {
   "LaTeX_envs_menu_present": true,
   "autoclose": false,
   "autocomplete": true,
   "bibliofile": "biblio.bib",
   "cite_by": "apalike",
   "current_citInitial": 1,
   "eqLabelWithNumbers": true,
   "eqNumInitial": 1,
   "hotkeys": {
    "equation": "Ctrl-E",
    "itemize": "Ctrl-I"
   },
   "labels_anchors": false,
   "latex_user_defs": false,
   "report_style_numbering": false,
   "user_envs_cfg": false
  },
  "varInspector": {
   "cols": {
    "lenName": 16,
    "lenType": 16,
    "lenVar": 40
   },
   "kernels_config": {
    "python": {
     "delete_cmd_postfix": "",
     "delete_cmd_prefix": "del ",
     "library": "var_list.py",
     "varRefreshCmd": "print(var_dic_list())"
    },
    "r": {
     "delete_cmd_postfix": ") ",
     "delete_cmd_prefix": "rm(",
     "library": "var_list.r",
     "varRefreshCmd": "cat(var_dic_list()) "
    }
   },
   "types_to_exclude": [
    "module",
    "function",
    "builtin_function_or_method",
    "instance",
    "_Feature"
   ],
   "window_display": false
  }
 },
 "nbformat": 4,
 "nbformat_minor": 5
}
